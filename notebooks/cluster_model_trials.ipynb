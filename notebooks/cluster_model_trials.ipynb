{
 "cells": [
  {
   "cell_type": "code",
   "execution_count": 1,
   "metadata": {},
   "outputs": [],
   "source": [
    "import pickle\n",
    "import re\n",
    "\n",
    "import pandas as pd\n",
    "from sklearn.cluster import KMeans, DBSCAN\n",
    "from sklearn.metrics import silhouette_score"
   ]
  },
  {
   "cell_type": "code",
   "execution_count": 2,
   "metadata": {},
   "outputs": [
    {
     "data": {
      "text/plain": [
       "(178265, 8023)"
      ]
     },
     "execution_count": 2,
     "metadata": {},
     "output_type": "execute_result"
    }
   ],
   "source": [
    "flags_df = pd.read_parquet(\"data/generated_data/ingr_dummies.parquet\")\n",
    "flags_df.shape"
   ]
  },
  {
   "cell_type": "code",
   "execution_count": 3,
   "metadata": {},
   "outputs": [
    {
     "data": {
      "text/plain": [
       "(44566, 8023)"
      ]
     },
     "execution_count": 3,
     "metadata": {},
     "output_type": "execute_result"
    }
   ],
   "source": [
    "sample_flags = flags_df.sample(frac=0.25, replace=False)\n",
    "sample_flags.shape"
   ]
  },
  {
   "cell_type": "code",
   "execution_count": 5,
   "metadata": {},
   "outputs": [],
   "source": [
    "kmeans_params = {\n",
    "    \"clusters\": range(5, 31, 5),\n",
    "    \"max_iter\": [300, 500]\n",
    "}\n",
    "\n",
    "dbscan_params = {\n",
    "    \"eps\": [0.1, 0.25, 0.5, 1.0, 1.25],\n",
    "    \"algorithm\": [\"auto\", \"kd_tree\"]\n",
    "}\n",
    "\n",
    "results = {}"
   ]
  },
  {
   "cell_type": "code",
   "execution_count": 7,
   "metadata": {},
   "outputs": [
    {
     "name": "stdout",
     "output_type": "stream",
     "text": [
      "kmeans_5c_300i score = 0.025359556961519467\n",
      "kmeans_5c_500i score = 0.025359556961519467\n",
      "kmeans_10c_300i score = 0.01024073806683298\n",
      "kmeans_10c_500i score = 0.01024073806683298\n",
      "kmeans_15c_300i score = 0.012603195125328414\n",
      "kmeans_15c_500i score = 0.012603195125328414\n",
      "kmeans_20c_300i score = 0.006635561539243761\n",
      "kmeans_20c_500i score = 0.006635561539243761\n",
      "kmeans_25c_300i score = 0.00571858492315883\n",
      "kmeans_25c_500i score = 0.00571858492315883\n",
      "kmeans_30c_300i score = 0.007765257017801726\n",
      "kmeans_30c_500i score = 0.007765257017801726\n"
     ]
    }
   ],
   "source": [
    "kmeans_models = {}\n",
    "\n",
    "for cluster in kmeans_params[\"clusters\"]:\n",
    "    for max_i in kmeans_params[\"max_iter\"]:\n",
    "        model_name = f\"kmeans_{cluster}c_{max_i}i\"\n",
    "        details = {}\n",
    "        details[\"clusters\"] = cluster\n",
    "        details[\"max_iter\"] = max_i\n",
    "        km = KMeans(n_clusters=cluster, max_iter=max_i, n_init=\"auto\", random_state=42)\n",
    "        km.fit(sample_flags)\n",
    "        \n",
    "        sil_score = silhouette_score(sample_flags, km.labels_)\n",
    "        print(f\"{model_name} score = {sil_score}\")\n",
    "        details[\"score\"] = sil_score\n",
    "        details[\"inertia\"] = km.inertia_\n",
    "        \n",
    "        kmeans_models[model_name] = details\n",
    "        \n",
    "        with open(f\"models/{model_name}.pkl\", \"wb\") as f:\n",
    "            pickle.dump(km, f)\n",
    "        "
   ]
  },
  {
   "cell_type": "code",
   "execution_count": 8,
   "metadata": {},
   "outputs": [
    {
     "name": "stdout",
     "output_type": "stream",
     "text": [
      "dbscan_0.1e_autoa score = -0.1137818994288678\n",
      "dbscan_0.1e_kd_treea score = -0.1137818994288678\n",
      "dbscan_0.25e_autoa score = -0.1137818994288678\n",
      "dbscan_0.25e_kd_treea score = -0.1137818994288678\n",
      "dbscan_0.5e_autoa score = -0.1137818994288678\n",
      "dbscan_0.5e_kd_treea score = -0.1137818994288678\n",
      "dbscan_1.0e_autoa score = -0.2008541704716405\n",
      "dbscan_1.0e_kd_treea score = -0.2008541704716405\n",
      "dbscan_1.25e_autoa score = -0.2008541704716405\n",
      "dbscan_1.25e_kd_treea score = -0.2008541704716405\n"
     ]
    }
   ],
   "source": [
    "dbscan_models = {}\n",
    "\n",
    "for eps in dbscan_params[\"eps\"]:\n",
    "    for algo in dbscan_params[\"algorithm\"]:\n",
    "        model_name = f\"dbscan_{eps}e_{algo}a\"\n",
    "        details = {}\n",
    "        details[\"eps\"] = eps\n",
    "        details[\"algorithm\"] = algo\n",
    "        dbscan = DBSCAN(eps=eps, algorithm=algo, n_jobs=-1)\n",
    "        dbscan.fit(sample_flags)\n",
    "        \n",
    "        sil_score = silhouette_score(sample_flags, dbscan.labels_)\n",
    "        print(f\"{model_name} score = {sil_score}\")\n",
    "        details[\"score\"] = sil_score\n",
    "        \n",
    "        dbscan_models[model_name] = details\n",
    "        \n",
    "        with open(f\"models/{model_name}\", \"wb\") as f:\n",
    "            pickle.dump(dbscan, f)"
   ]
  },
  {
   "cell_type": "code",
   "execution_count": 9,
   "metadata": {},
   "outputs": [
    {
     "name": "stdout",
     "output_type": "stream",
     "text": [
      "kmeans_35c_default_i score = 0.008281905915136617\n",
      "kmeans_40c_default_i score = 0.007494932185157251\n",
      "kmeans_45c_default_i score = 0.007244433685604815\n",
      "kmeans_50c_default_i score = 0.0076677207469152\n",
      "kmeans_55c_default_i score = 0.004070570047512586\n",
      "kmeans_60c_default_i score = 0.005761999899310619\n",
      "kmeans_65c_default_i score = 0.0065947546451767345\n",
      "kmeans_70c_default_i score = 0.005518304051742554\n",
      "kmeans_75c_default_i score = 0.0054834518212471895\n",
      "kmeans_80c_default_i score = 0.005751633972537051\n",
      "kmeans_85c_default_i score = 0.005776518868208993\n",
      "kmeans_90c_default_i score = 0.005115344110135365\n",
      "kmeans_95c_default_i score = 0.00500923247561521\n",
      "kmeans_100c_default_i score = 0.005285331211656954\n"
     ]
    }
   ],
   "source": [
    "for cluster in range(35, 101, 5):\n",
    "    max_i = \"default_\"\n",
    "    model_name = f\"kmeans_{cluster}c_{max_i}i\"\n",
    "    details = {}\n",
    "    details[\"clusters\"] = cluster\n",
    "    details[\"max_iter\"] = max_i\n",
    "    km = KMeans(n_clusters=cluster, n_init=\"auto\", random_state=42)\n",
    "    km.fit(sample_flags)\n",
    "    \n",
    "    sil_score = silhouette_score(sample_flags, km.labels_)\n",
    "    print(f\"{model_name} score = {sil_score}\")\n",
    "    details[\"score\"] = sil_score\n",
    "    details[\"inertia\"] = km.inertia_\n",
    "    \n",
    "    kmeans_models[model_name] = details\n",
    "    \n",
    "    with open(f\"models/{model_name}.pkl\", \"wb\") as f:\n",
    "        pickle.dump(km, f)"
   ]
  },
  {
   "cell_type": "code",
   "execution_count": 10,
   "metadata": {},
   "outputs": [
    {
     "name": "stdout",
     "output_type": "stream",
     "text": [
      "dbscan_0.0001e_2p score = -0.1137818994288678\n",
      "dbscan_0.0001e_3p score = -0.1137818994288678\n",
      "dbscan_0.001e_2p score = -0.1137818994288678\n",
      "dbscan_0.001e_3p score = -0.1137818994288678\n",
      "dbscan_0.01e_2p score = -0.1137818994288678\n",
      "dbscan_0.01e_3p score = -0.1137818994288678\n"
     ]
    }
   ],
   "source": [
    "dbscan_eps = [0.0001, 0.001, 0.01]\n",
    "powers = [2, 3]\n",
    "\n",
    "for eps in dbscan_eps:\n",
    "    for power in powers:\n",
    "        model_name = f\"dbscan_{eps}e_{power}p\"\n",
    "        details = {}\n",
    "        details[\"eps\"] = eps\n",
    "        details[\"power\"] = power\n",
    "        dbscan = DBSCAN(eps=eps, p=power, n_jobs=-1)\n",
    "        dbscan.fit(sample_flags)\n",
    "        \n",
    "        sil_score = silhouette_score(sample_flags, dbscan.labels_)\n",
    "        print(f\"{model_name} score = {sil_score}\")\n",
    "        details[\"score\"] = sil_score\n",
    "        \n",
    "        dbscan_models[model_name] = details\n",
    "        \n",
    "        with open(f\"models/{model_name}\", \"wb\") as f:\n",
    "            pickle.dump(dbscan, f)"
   ]
  },
  {
   "cell_type": "markdown",
   "metadata": {},
   "source": [
    "----\n",
    "## filter for main dishes only\n",
    "- the full recipe database has all kinds of recipes so it's not too surprising that these models have been unimpressive\n",
    "- let's see if filtering the recipes to just \"main course\" will improve the results"
   ]
  },
  {
   "cell_type": "code",
   "execution_count": 2,
   "metadata": {},
   "outputs": [
    {
     "data": {
      "text/plain": [
       "(231637, 12)"
      ]
     },
     "execution_count": 2,
     "metadata": {},
     "output_type": "execute_result"
    }
   ],
   "source": [
    "raw = pd.read_csv(\"data/kaggle_food_dot_com/RAW_recipes.csv\")\n",
    "raw.shape"
   ]
  },
  {
   "cell_type": "code",
   "execution_count": 3,
   "metadata": {},
   "outputs": [
    {
     "data": {
      "text/html": [
       "<div>\n",
       "<style scoped>\n",
       "    .dataframe tbody tr th:only-of-type {\n",
       "        vertical-align: middle;\n",
       "    }\n",
       "\n",
       "    .dataframe tbody tr th {\n",
       "        vertical-align: top;\n",
       "    }\n",
       "\n",
       "    .dataframe thead th {\n",
       "        text-align: right;\n",
       "    }\n",
       "</style>\n",
       "<table border=\"1\" class=\"dataframe\">\n",
       "  <thead>\n",
       "    <tr style=\"text-align: right;\">\n",
       "      <th></th>\n",
       "      <th>name</th>\n",
       "      <th>id</th>\n",
       "      <th>minutes</th>\n",
       "      <th>contributor_id</th>\n",
       "      <th>submitted</th>\n",
       "      <th>tags</th>\n",
       "      <th>nutrition</th>\n",
       "      <th>n_steps</th>\n",
       "      <th>steps</th>\n",
       "      <th>description</th>\n",
       "      <th>ingredients</th>\n",
       "      <th>n_ingredients</th>\n",
       "    </tr>\n",
       "  </thead>\n",
       "  <tbody>\n",
       "    <tr>\n",
       "      <th>0</th>\n",
       "      <td>arriba   baked winter squash mexican style</td>\n",
       "      <td>137739</td>\n",
       "      <td>55</td>\n",
       "      <td>47892</td>\n",
       "      <td>2005-09-16</td>\n",
       "      <td>['60-minutes-or-less', 'time-to-make', 'course...</td>\n",
       "      <td>[51.5, 0.0, 13.0, 0.0, 2.0, 0.0, 4.0]</td>\n",
       "      <td>11</td>\n",
       "      <td>['make a choice and proceed with recipe', 'dep...</td>\n",
       "      <td>autumn is my favorite time of year to cook! th...</td>\n",
       "      <td>['winter squash', 'mexican seasoning', 'mixed ...</td>\n",
       "      <td>7</td>\n",
       "    </tr>\n",
       "    <tr>\n",
       "      <th>1</th>\n",
       "      <td>a bit different  breakfast pizza</td>\n",
       "      <td>31490</td>\n",
       "      <td>30</td>\n",
       "      <td>26278</td>\n",
       "      <td>2002-06-17</td>\n",
       "      <td>['30-minutes-or-less', 'time-to-make', 'course...</td>\n",
       "      <td>[173.4, 18.0, 0.0, 17.0, 22.0, 35.0, 1.0]</td>\n",
       "      <td>9</td>\n",
       "      <td>['preheat oven to 425 degrees f', 'press dough...</td>\n",
       "      <td>this recipe calls for the crust to be prebaked...</td>\n",
       "      <td>['prepared pizza crust', 'sausage patty', 'egg...</td>\n",
       "      <td>6</td>\n",
       "    </tr>\n",
       "    <tr>\n",
       "      <th>2</th>\n",
       "      <td>all in the kitchen  chili</td>\n",
       "      <td>112140</td>\n",
       "      <td>130</td>\n",
       "      <td>196586</td>\n",
       "      <td>2005-02-25</td>\n",
       "      <td>['time-to-make', 'course', 'preparation', 'mai...</td>\n",
       "      <td>[269.8, 22.0, 32.0, 48.0, 39.0, 27.0, 5.0]</td>\n",
       "      <td>6</td>\n",
       "      <td>['brown ground beef in large pot', 'add choppe...</td>\n",
       "      <td>this modified version of 'mom's' chili was a h...</td>\n",
       "      <td>['ground beef', 'yellow onions', 'diced tomato...</td>\n",
       "      <td>13</td>\n",
       "    </tr>\n",
       "  </tbody>\n",
       "</table>\n",
       "</div>"
      ],
      "text/plain": [
       "                                         name      id  minutes  \\\n",
       "0  arriba   baked winter squash mexican style  137739       55   \n",
       "1            a bit different  breakfast pizza   31490       30   \n",
       "2                   all in the kitchen  chili  112140      130   \n",
       "\n",
       "   contributor_id   submitted  \\\n",
       "0           47892  2005-09-16   \n",
       "1           26278  2002-06-17   \n",
       "2          196586  2005-02-25   \n",
       "\n",
       "                                                tags  \\\n",
       "0  ['60-minutes-or-less', 'time-to-make', 'course...   \n",
       "1  ['30-minutes-or-less', 'time-to-make', 'course...   \n",
       "2  ['time-to-make', 'course', 'preparation', 'mai...   \n",
       "\n",
       "                                    nutrition  n_steps  \\\n",
       "0       [51.5, 0.0, 13.0, 0.0, 2.0, 0.0, 4.0]       11   \n",
       "1   [173.4, 18.0, 0.0, 17.0, 22.0, 35.0, 1.0]        9   \n",
       "2  [269.8, 22.0, 32.0, 48.0, 39.0, 27.0, 5.0]        6   \n",
       "\n",
       "                                               steps  \\\n",
       "0  ['make a choice and proceed with recipe', 'dep...   \n",
       "1  ['preheat oven to 425 degrees f', 'press dough...   \n",
       "2  ['brown ground beef in large pot', 'add choppe...   \n",
       "\n",
       "                                         description  \\\n",
       "0  autumn is my favorite time of year to cook! th...   \n",
       "1  this recipe calls for the crust to be prebaked...   \n",
       "2  this modified version of 'mom's' chili was a h...   \n",
       "\n",
       "                                         ingredients  n_ingredients  \n",
       "0  ['winter squash', 'mexican seasoning', 'mixed ...              7  \n",
       "1  ['prepared pizza crust', 'sausage patty', 'egg...              6  \n",
       "2  ['ground beef', 'yellow onions', 'diced tomato...             13  "
      ]
     },
     "execution_count": 3,
     "metadata": {},
     "output_type": "execute_result"
    }
   ],
   "source": [
    "raw.head(3)"
   ]
  },
  {
   "cell_type": "code",
   "execution_count": 4,
   "metadata": {},
   "outputs": [
    {
     "data": {
      "text/plain": [
       "\"['60-minutes-or-less', 'time-to-make', 'course', 'main-ingredient', 'cuisine', 'preparation', 'occasion', 'north-american', 'side-dishes', 'vegetables', 'mexican', 'easy', 'fall', 'holiday-event', 'vegetarian', 'winter', 'dietary', 'christmas', 'seasonal', 'squash']\""
      ]
     },
     "execution_count": 4,
     "metadata": {},
     "output_type": "execute_result"
    }
   ],
   "source": [
    "# reminder that this is a list wrapped in a string\n",
    "raw[\"tags\"][0]"
   ]
  },
  {
   "cell_type": "code",
   "execution_count": 5,
   "metadata": {},
   "outputs": [
    {
     "data": {
      "text/plain": [
       "['60-minutes-or-less',\n",
       " 'time-to-make',\n",
       " 'course',\n",
       " 'main-ingredient',\n",
       " 'cuisine',\n",
       " 'preparation',\n",
       " 'occasion',\n",
       " 'north-american',\n",
       " 'side-dishes',\n",
       " 'vegetables',\n",
       " 'mexican',\n",
       " 'easy',\n",
       " 'fall',\n",
       " 'holiday-event',\n",
       " 'vegetarian',\n",
       " 'winter',\n",
       " 'dietary',\n",
       " 'christmas',\n",
       " 'seasonal',\n",
       " 'squash']"
      ]
     },
     "execution_count": 5,
     "metadata": {},
     "output_type": "execute_result"
    }
   ],
   "source": [
    "# regex for the win!!\n",
    "re.findall(r\"\\b[\\w+-?]+\", raw[\"tags\"][0])"
   ]
  },
  {
   "cell_type": "code",
   "execution_count": 6,
   "metadata": {},
   "outputs": [
    {
     "data": {
      "text/plain": [
       "0    [60-minutes-or-less, time-to-make, course, mai...\n",
       "1    [30-minutes-or-less, time-to-make, course, mai...\n",
       "2    [time-to-make, course, preparation, main-dish,...\n",
       "3    [60-minutes-or-less, time-to-make, course, mai...\n",
       "4    [weeknight, time-to-make, course, main-ingredi...\n",
       "Name: tag_list, dtype: object"
      ]
     },
     "execution_count": 6,
     "metadata": {},
     "output_type": "execute_result"
    }
   ],
   "source": [
    "def tags_to_list(tag_list):\n",
    "    return re.findall(r\"\\b[\\w+-?]+\", tag_list)\n",
    "\n",
    "raw[\"tag_list\"] = raw[\"tags\"].apply(tags_to_list)\n",
    "raw[\"tag_list\"].head()"
   ]
  },
  {
   "cell_type": "code",
   "execution_count": 7,
   "metadata": {},
   "outputs": [
    {
     "data": {
      "text/plain": [
       "560"
      ]
     },
     "execution_count": 7,
     "metadata": {},
     "output_type": "execute_result"
    }
   ],
   "source": [
    "tags = raw[\"tag_list\"].explode().unique()\n",
    "\n",
    "# getting an error trying to write these tags to a file: TypeError: write() argument must be str, not float\n",
    "# also need a `\\n` between each element so the file is readable\n",
    "tags = [ f\"{tag}\\n\" for tag in tags if type(tag) == str]\n",
    "len(tags)"
   ]
  },
  {
   "cell_type": "code",
   "execution_count": 8,
   "metadata": {},
   "outputs": [],
   "source": [
    "# I need to get a good look at these tags so I know what to filter on\n",
    "f = open(\"data/generated_data/tags.txt\", \"a\")  # from https://www.w3schools.com/python/ref_file_writelines.asp\n",
    "f.writelines(tags)\n",
    "f.close()"
   ]
  },
  {
   "cell_type": "code",
   "execution_count": 9,
   "metadata": {},
   "outputs": [
    {
     "name": "stdout",
     "output_type": "stream",
     "text": [
      "<re.Match object; span=(15, 24), match='main-dish'>\n",
      "<re.Match object; span=(0, 6), match='dinner'>\n",
      "<re.Match object; span=(0, 9), match='main-dish'>\n"
     ]
    }
   ],
   "source": [
    "# filtering for main course tags should include: [\"*-main-dish-*\", \"main-dish\", \"dinner-party\"] (searched tags for \"main\" and \"dinner\")\n",
    "test_tags = [\"middle-eastern-main-dish\", \"dinner-party\", \"main-dish-chicken\", \"pasta\"]\n",
    "\n",
    "for _ in test_tags:\n",
    "    matches = re.search(r\"main-dish|dinner\", _)\n",
    "    if matches != None:\n",
    "        print(matches)"
   ]
  },
  {
   "cell_type": "code",
   "execution_count": 10,
   "metadata": {},
   "outputs": [],
   "source": [
    "def flag_main(tag_list):\n",
    "    matches = re.search(r\"main-dish|dinner\", \" \".join(tag_list))\n",
    "    return 1 if matches != None else 0\n",
    "\n",
    "raw[\"main_course\"] = raw[\"tag_list\"].apply(flag_main)"
   ]
  },
  {
   "cell_type": "code",
   "execution_count": 11,
   "metadata": {},
   "outputs": [
    {
     "data": {
      "text/plain": [
       "96201"
      ]
     },
     "execution_count": 11,
     "metadata": {},
     "output_type": "execute_result"
    }
   ],
   "source": [
    "sum(raw[\"main_course\"])"
   ]
  },
  {
   "cell_type": "code",
   "execution_count": 13,
   "metadata": {},
   "outputs": [
    {
     "data": {
      "text/html": [
       "<div>\n",
       "<style scoped>\n",
       "    .dataframe tbody tr th:only-of-type {\n",
       "        vertical-align: middle;\n",
       "    }\n",
       "\n",
       "    .dataframe tbody tr th {\n",
       "        vertical-align: top;\n",
       "    }\n",
       "\n",
       "    .dataframe thead th {\n",
       "        text-align: right;\n",
       "    }\n",
       "</style>\n",
       "<table border=\"1\" class=\"dataframe\">\n",
       "  <thead>\n",
       "    <tr style=\"text-align: right;\">\n",
       "      <th></th>\n",
       "      <th>name</th>\n",
       "      <th>id</th>\n",
       "      <th>minutes</th>\n",
       "      <th>contributor_id</th>\n",
       "      <th>submitted</th>\n",
       "      <th>tags</th>\n",
       "      <th>nutrition</th>\n",
       "      <th>n_steps</th>\n",
       "      <th>steps</th>\n",
       "      <th>description</th>\n",
       "      <th>ingredients</th>\n",
       "      <th>n_ingredients</th>\n",
       "      <th>tag_list</th>\n",
       "      <th>main_course</th>\n",
       "    </tr>\n",
       "  </thead>\n",
       "  <tbody>\n",
       "    <tr>\n",
       "      <th>1</th>\n",
       "      <td>a bit different  breakfast pizza</td>\n",
       "      <td>31490</td>\n",
       "      <td>30</td>\n",
       "      <td>26278</td>\n",
       "      <td>2002-06-17</td>\n",
       "      <td>['30-minutes-or-less', 'time-to-make', 'course...</td>\n",
       "      <td>[173.4, 18.0, 0.0, 17.0, 22.0, 35.0, 1.0]</td>\n",
       "      <td>9</td>\n",
       "      <td>['preheat oven to 425 degrees f', 'press dough...</td>\n",
       "      <td>this recipe calls for the crust to be prebaked...</td>\n",
       "      <td>['prepared pizza crust', 'sausage patty', 'egg...</td>\n",
       "      <td>6</td>\n",
       "      <td>[30-minutes-or-less, time-to-make, course, mai...</td>\n",
       "      <td>1</td>\n",
       "    </tr>\n",
       "    <tr>\n",
       "      <th>2</th>\n",
       "      <td>all in the kitchen  chili</td>\n",
       "      <td>112140</td>\n",
       "      <td>130</td>\n",
       "      <td>196586</td>\n",
       "      <td>2005-02-25</td>\n",
       "      <td>['time-to-make', 'course', 'preparation', 'mai...</td>\n",
       "      <td>[269.8, 22.0, 32.0, 48.0, 39.0, 27.0, 5.0]</td>\n",
       "      <td>6</td>\n",
       "      <td>['brown ground beef in large pot', 'add choppe...</td>\n",
       "      <td>this modified version of 'mom's' chili was a h...</td>\n",
       "      <td>['ground beef', 'yellow onions', 'diced tomato...</td>\n",
       "      <td>13</td>\n",
       "      <td>[time-to-make, course, preparation, main-dish,...</td>\n",
       "      <td>1</td>\n",
       "    </tr>\n",
       "    <tr>\n",
       "      <th>3</th>\n",
       "      <td>alouette  potatoes</td>\n",
       "      <td>59389</td>\n",
       "      <td>45</td>\n",
       "      <td>68585</td>\n",
       "      <td>2003-04-14</td>\n",
       "      <td>['60-minutes-or-less', 'time-to-make', 'course...</td>\n",
       "      <td>[368.1, 17.0, 10.0, 2.0, 14.0, 8.0, 20.0]</td>\n",
       "      <td>11</td>\n",
       "      <td>['place potatoes in a large pot of lightly sal...</td>\n",
       "      <td>this is a super easy, great tasting, make ahea...</td>\n",
       "      <td>['spreadable cheese with garlic and herbs', 'n...</td>\n",
       "      <td>11</td>\n",
       "      <td>[60-minutes-or-less, time-to-make, course, mai...</td>\n",
       "      <td>1</td>\n",
       "    </tr>\n",
       "    <tr>\n",
       "      <th>6</th>\n",
       "      <td>aww  marinated olives</td>\n",
       "      <td>25274</td>\n",
       "      <td>15</td>\n",
       "      <td>21730</td>\n",
       "      <td>2002-04-14</td>\n",
       "      <td>['15-minutes-or-less', 'time-to-make', 'course...</td>\n",
       "      <td>[380.7, 53.0, 7.0, 24.0, 6.0, 24.0, 6.0]</td>\n",
       "      <td>4</td>\n",
       "      <td>['toast the fennel seeds and lightly crush the...</td>\n",
       "      <td>my italian mil was thoroughly impressed by my ...</td>\n",
       "      <td>['fennel seeds', 'green olives', 'ripe olives'...</td>\n",
       "      <td>9</td>\n",
       "      <td>[15-minutes-or-less, time-to-make, course, mai...</td>\n",
       "      <td>1</td>\n",
       "    </tr>\n",
       "    <tr>\n",
       "      <th>7</th>\n",
       "      <td>backyard style  barbecued ribs</td>\n",
       "      <td>67888</td>\n",
       "      <td>120</td>\n",
       "      <td>10404</td>\n",
       "      <td>2003-07-30</td>\n",
       "      <td>['weeknight', 'time-to-make', 'course', 'main-...</td>\n",
       "      <td>[1109.5, 83.0, 378.0, 275.0, 96.0, 86.0, 36.0]</td>\n",
       "      <td>10</td>\n",
       "      <td>['in a medium saucepan combine all the ingredi...</td>\n",
       "      <td>this recipe is posted by request and was origi...</td>\n",
       "      <td>['pork spareribs', 'soy sauce', 'fresh garlic'...</td>\n",
       "      <td>22</td>\n",
       "      <td>[weeknight, time-to-make, course, main-ingredi...</td>\n",
       "      <td>1</td>\n",
       "    </tr>\n",
       "  </tbody>\n",
       "</table>\n",
       "</div>"
      ],
      "text/plain": [
       "                               name      id  minutes  contributor_id  \\\n",
       "1  a bit different  breakfast pizza   31490       30           26278   \n",
       "2         all in the kitchen  chili  112140      130          196586   \n",
       "3                alouette  potatoes   59389       45           68585   \n",
       "6             aww  marinated olives   25274       15           21730   \n",
       "7    backyard style  barbecued ribs   67888      120           10404   \n",
       "\n",
       "    submitted                                               tags  \\\n",
       "1  2002-06-17  ['30-minutes-or-less', 'time-to-make', 'course...   \n",
       "2  2005-02-25  ['time-to-make', 'course', 'preparation', 'mai...   \n",
       "3  2003-04-14  ['60-minutes-or-less', 'time-to-make', 'course...   \n",
       "6  2002-04-14  ['15-minutes-or-less', 'time-to-make', 'course...   \n",
       "7  2003-07-30  ['weeknight', 'time-to-make', 'course', 'main-...   \n",
       "\n",
       "                                        nutrition  n_steps  \\\n",
       "1       [173.4, 18.0, 0.0, 17.0, 22.0, 35.0, 1.0]        9   \n",
       "2      [269.8, 22.0, 32.0, 48.0, 39.0, 27.0, 5.0]        6   \n",
       "3       [368.1, 17.0, 10.0, 2.0, 14.0, 8.0, 20.0]       11   \n",
       "6        [380.7, 53.0, 7.0, 24.0, 6.0, 24.0, 6.0]        4   \n",
       "7  [1109.5, 83.0, 378.0, 275.0, 96.0, 86.0, 36.0]       10   \n",
       "\n",
       "                                               steps  \\\n",
       "1  ['preheat oven to 425 degrees f', 'press dough...   \n",
       "2  ['brown ground beef in large pot', 'add choppe...   \n",
       "3  ['place potatoes in a large pot of lightly sal...   \n",
       "6  ['toast the fennel seeds and lightly crush the...   \n",
       "7  ['in a medium saucepan combine all the ingredi...   \n",
       "\n",
       "                                         description  \\\n",
       "1  this recipe calls for the crust to be prebaked...   \n",
       "2  this modified version of 'mom's' chili was a h...   \n",
       "3  this is a super easy, great tasting, make ahea...   \n",
       "6  my italian mil was thoroughly impressed by my ...   \n",
       "7  this recipe is posted by request and was origi...   \n",
       "\n",
       "                                         ingredients  n_ingredients  \\\n",
       "1  ['prepared pizza crust', 'sausage patty', 'egg...              6   \n",
       "2  ['ground beef', 'yellow onions', 'diced tomato...             13   \n",
       "3  ['spreadable cheese with garlic and herbs', 'n...             11   \n",
       "6  ['fennel seeds', 'green olives', 'ripe olives'...              9   \n",
       "7  ['pork spareribs', 'soy sauce', 'fresh garlic'...             22   \n",
       "\n",
       "                                            tag_list  main_course  \n",
       "1  [30-minutes-or-less, time-to-make, course, mai...            1  \n",
       "2  [time-to-make, course, preparation, main-dish,...            1  \n",
       "3  [60-minutes-or-less, time-to-make, course, mai...            1  \n",
       "6  [15-minutes-or-less, time-to-make, course, mai...            1  \n",
       "7  [weeknight, time-to-make, course, main-ingredi...            1  "
      ]
     },
     "execution_count": 13,
     "metadata": {},
     "output_type": "execute_result"
    }
   ],
   "source": [
    "mains = raw.loc[raw[\"main_course\"] == 1]\n",
    "mains.head()"
   ]
  },
  {
   "cell_type": "code",
   "execution_count": 18,
   "metadata": {},
   "outputs": [
    {
     "data": {
      "text/plain": [
       "96201"
      ]
     },
     "execution_count": 18,
     "metadata": {},
     "output_type": "execute_result"
    }
   ],
   "source": [
    "main_course_ids = list(mains[\"id\"])\n",
    "len(main_course_ids)"
   ]
  },
  {
   "cell_type": "code",
   "execution_count": 20,
   "metadata": {},
   "outputs": [
    {
     "data": {
      "text/plain": [
       "int"
      ]
     },
     "execution_count": 20,
     "metadata": {},
     "output_type": "execute_result"
    }
   ],
   "source": [
    "type(main_course_ids[0])"
   ]
  },
  {
   "cell_type": "markdown",
   "metadata": {},
   "source": [
    "- pull in the processed recipes to match the recipe ids to this filtered data"
   ]
  },
  {
   "cell_type": "code",
   "execution_count": 21,
   "metadata": {},
   "outputs": [
    {
     "data": {
      "text/html": [
       "<div>\n",
       "<style scoped>\n",
       "    .dataframe tbody tr th:only-of-type {\n",
       "        vertical-align: middle;\n",
       "    }\n",
       "\n",
       "    .dataframe tbody tr th {\n",
       "        vertical-align: top;\n",
       "    }\n",
       "\n",
       "    .dataframe thead th {\n",
       "        text-align: right;\n",
       "    }\n",
       "</style>\n",
       "<table border=\"1\" class=\"dataframe\">\n",
       "  <thead>\n",
       "    <tr style=\"text-align: right;\">\n",
       "      <th></th>\n",
       "      <th>id</th>\n",
       "      <th>i</th>\n",
       "      <th>name_tokens</th>\n",
       "      <th>ingredient_tokens</th>\n",
       "      <th>steps_tokens</th>\n",
       "      <th>techniques</th>\n",
       "      <th>calorie_level</th>\n",
       "      <th>ingredient_ids</th>\n",
       "      <th>ingr_ints</th>\n",
       "    </tr>\n",
       "  </thead>\n",
       "  <tbody>\n",
       "    <tr>\n",
       "      <th>0</th>\n",
       "      <td>424415</td>\n",
       "      <td>23</td>\n",
       "      <td>[40480, 37229, 2911, 1019, 249, 6878, 6878, 28...</td>\n",
       "      <td>[[2911, 1019, 249, 6878], [1353], [6953], [153...</td>\n",
       "      <td>[40480, 40482, 21662, 481, 6878, 500, 246, 161...</td>\n",
       "      <td>[0, 0, 0, 0, 0, 0, 0, 0, 0, 1, 0, 0, 0, 0, 0, ...</td>\n",
       "      <td>0</td>\n",
       "      <td>[389, 7655, 6270, 1527, 3406]</td>\n",
       "      <td>[389, 7655, 6270, 1527, 3406]</td>\n",
       "    </tr>\n",
       "    <tr>\n",
       "      <th>1</th>\n",
       "      <td>146223</td>\n",
       "      <td>96900</td>\n",
       "      <td>[40480, 18376, 7056, 246, 1531, 2032, 40481]</td>\n",
       "      <td>[[17918], [25916], [2507, 6444], [8467, 1179],...</td>\n",
       "      <td>[40480, 40482, 729, 2525, 10906, 485, 43, 8393...</td>\n",
       "      <td>[1, 0, 0, 0, 0, 0, 0, 0, 0, 1, 0, 0, 0, 0, 0, ...</td>\n",
       "      <td>0</td>\n",
       "      <td>[2683, 4969, 800, 5298, 840, 2499, 6632, 7022,...</td>\n",
       "      <td>[2683, 4969, 800, 5298, 840, 2499, 6632, 7022,...</td>\n",
       "    </tr>\n",
       "    <tr>\n",
       "      <th>2</th>\n",
       "      <td>312329</td>\n",
       "      <td>120056</td>\n",
       "      <td>[40480, 21044, 16954, 8294, 556, 10837, 40481]</td>\n",
       "      <td>[[5867, 24176], [1353], [6953], [1301, 11332],...</td>\n",
       "      <td>[40480, 40482, 8240, 481, 24176, 296, 1353, 66...</td>\n",
       "      <td>[0, 0, 0, 0, 1, 0, 0, 0, 0, 0, 0, 1, 0, 0, 0, ...</td>\n",
       "      <td>1</td>\n",
       "      <td>[1257, 7655, 6270, 590, 5024, 1119, 4883, 6696...</td>\n",
       "      <td>[1257, 7655, 6270, 590, 5024, 1119, 4883, 6696...</td>\n",
       "    </tr>\n",
       "  </tbody>\n",
       "</table>\n",
       "</div>"
      ],
      "text/plain": [
       "       id       i                                        name_tokens  \\\n",
       "0  424415      23  [40480, 37229, 2911, 1019, 249, 6878, 6878, 28...   \n",
       "1  146223   96900       [40480, 18376, 7056, 246, 1531, 2032, 40481]   \n",
       "2  312329  120056     [40480, 21044, 16954, 8294, 556, 10837, 40481]   \n",
       "\n",
       "                                   ingredient_tokens  \\\n",
       "0  [[2911, 1019, 249, 6878], [1353], [6953], [153...   \n",
       "1  [[17918], [25916], [2507, 6444], [8467, 1179],...   \n",
       "2  [[5867, 24176], [1353], [6953], [1301, 11332],...   \n",
       "\n",
       "                                        steps_tokens  \\\n",
       "0  [40480, 40482, 21662, 481, 6878, 500, 246, 161...   \n",
       "1  [40480, 40482, 729, 2525, 10906, 485, 43, 8393...   \n",
       "2  [40480, 40482, 8240, 481, 24176, 296, 1353, 66...   \n",
       "\n",
       "                                          techniques  calorie_level  \\\n",
       "0  [0, 0, 0, 0, 0, 0, 0, 0, 0, 1, 0, 0, 0, 0, 0, ...              0   \n",
       "1  [1, 0, 0, 0, 0, 0, 0, 0, 0, 1, 0, 0, 0, 0, 0, ...              0   \n",
       "2  [0, 0, 0, 0, 1, 0, 0, 0, 0, 0, 0, 1, 0, 0, 0, ...              1   \n",
       "\n",
       "                                      ingredient_ids  \\\n",
       "0                      [389, 7655, 6270, 1527, 3406]   \n",
       "1  [2683, 4969, 800, 5298, 840, 2499, 6632, 7022,...   \n",
       "2  [1257, 7655, 6270, 590, 5024, 1119, 4883, 6696...   \n",
       "\n",
       "                                           ingr_ints  \n",
       "0                      [389, 7655, 6270, 1527, 3406]  \n",
       "1  [2683, 4969, 800, 5298, 840, 2499, 6632, 7022,...  \n",
       "2  [1257, 7655, 6270, 590, 5024, 1119, 4883, 6696...  "
      ]
     },
     "execution_count": 21,
     "metadata": {},
     "output_type": "execute_result"
    }
   ],
   "source": [
    "proc_df = pd.read_parquet(\"data/generated_data/processed_recipes.parquet\")\n",
    "proc_df.head(3)"
   ]
  },
  {
   "cell_type": "code",
   "execution_count": 25,
   "metadata": {},
   "outputs": [
    {
     "data": {
      "text/plain": [
       "numpy.int64"
      ]
     },
     "execution_count": 25,
     "metadata": {},
     "output_type": "execute_result"
    }
   ],
   "source": [
    "type(proc_df[\"id\"][0])"
   ]
  },
  {
   "cell_type": "code",
   "execution_count": 27,
   "metadata": {},
   "outputs": [],
   "source": [
    "proc_mains = proc_df.loc[proc_df[\"id\"].isin(main_course_ids)]"
   ]
  },
  {
   "cell_type": "code",
   "execution_count": 28,
   "metadata": {},
   "outputs": [
    {
     "data": {
      "text/plain": [
       "(75297, 9)"
      ]
     },
     "execution_count": 28,
     "metadata": {},
     "output_type": "execute_result"
    }
   ],
   "source": [
    "proc_mains.shape"
   ]
  },
  {
   "cell_type": "code",
   "execution_count": 29,
   "metadata": {},
   "outputs": [
    {
     "data": {
      "text/plain": [
       "6863"
      ]
     },
     "execution_count": 29,
     "metadata": {},
     "output_type": "execute_result"
    }
   ],
   "source": [
    "ingredients = proc_mains[\"ingr_ints\"].explode().unique()\n",
    "len(ingredients)"
   ]
  },
  {
   "cell_type": "markdown",
   "metadata": {},
   "source": [
    "- main course has 6,863 ingredients; the \"ingr_map\" has 8,023 ingredients, seems reasonable that this filtered list would have about 85% of those\n",
    "- dummify these recipes"
   ]
  },
  {
   "cell_type": "code",
   "execution_count": 30,
   "metadata": {},
   "outputs": [
    {
     "data": {
      "text/plain": [
       "(75297, 6863)"
      ]
     },
     "execution_count": 30,
     "metadata": {},
     "output_type": "execute_result"
    }
   ],
   "source": [
    "cols = []\n",
    "for id_col in ingredients:\n",
    "    col = []\n",
    "    for recipe_row in range(0, proc_mains.shape[0]):\n",
    "        flag = 1 if id_col in proc_mains[\"ingr_ints\"].iloc[recipe_row] else 0\n",
    "        col.append(flag)\n",
    "    cols.append(pd.Series(col))\n",
    "    \n",
    "flag_proc_df = pd.concat(cols, axis=1)\n",
    "flag_proc_df.shape"
   ]
  },
  {
   "cell_type": "code",
   "execution_count": 32,
   "metadata": {},
   "outputs": [],
   "source": [
    "file_name = \"data/generated_data/main_dish_dummies.parquet\"\n",
    "flag_proc_df.to_parquet(file_name, engine=\"pyarrow\", compression=\"gzip\")"
   ]
  },
  {
   "cell_type": "markdown",
   "metadata": {},
   "source": [
    "- please be better, please be better, please be better"
   ]
  },
  {
   "cell_type": "code",
   "execution_count": 34,
   "metadata": {},
   "outputs": [
    {
     "name": "stdout",
     "output_type": "stream",
     "text": [
      "kmeans_5c_mains score = 0.02611545207525439\n",
      "kmeans_10c_mains score = 0.01898906917349764\n",
      "kmeans_15c_mains score = 0.01550170395454996\n",
      "kmeans_20c_mains score = 0.012670817726076799\n",
      "kmeans_25c_mains score = 0.009665977288290393\n",
      "kmeans_30c_mains score = 0.008708792730123028\n",
      "kmeans_35c_mains score = 0.007397730183817275\n",
      "kmeans_40c_mains score = 0.006950586773818742\n",
      "kmeans_45c_mains score = 0.004783978207344153\n",
      "kmeans_50c_mains score = 0.005927257987330646\n"
     ]
    }
   ],
   "source": [
    "models_details = []\n",
    "\n",
    "for cluster in range(5, 51, 5):\n",
    "    trial_details = {}\n",
    "    trial_details[\"model_type\"] = \"kmeans\"\n",
    "    trial_details[\"clusters\"] = cluster\n",
    "    km = KMeans(n_clusters=cluster, n_init=\"auto\", random_state=42)\n",
    "    km.fit(flag_proc_df)\n",
    "    \n",
    "    sil_score = silhouette_score(flag_proc_df, km.labels_)\n",
    "    trial_details[\"score\"] = sil_score\n",
    "    trial_details[\"inertia\"] = km.inertia_\n",
    "    \n",
    "    models_details.append(trial_details)\n",
    "    \n",
    "    model_name = f\"kmeans_{cluster}c_mains\"\n",
    "    print(f\"{model_name} score = {sil_score}\")\n",
    "    \n",
    "    with open(f\"models/main_course_recipes_models/{model_name}.pkl\", \"wb\") as f:\n",
    "        pickle.dump(km, f)"
   ]
  },
  {
   "cell_type": "code",
   "execution_count": 35,
   "metadata": {},
   "outputs": [],
   "source": [
    "kmeans_models = pd.DataFrame.from_dict(models_details)\n",
    "kmeans_models.to_parquet(\"data/generated_data/filtered_kmeans_model_trials.parquet\", engine=\"pyarrow\", compression= \"gzip\")"
   ]
  },
  {
   "cell_type": "code",
   "execution_count": 36,
   "metadata": {},
   "outputs": [
    {
     "name": "stdout",
     "output_type": "stream",
     "text": [
      "dbscan_0.0001e_mains score = -0.11207505922147183\n",
      "dbscan_0.001e_mains score = -0.11207505922147183\n",
      "dbscan_0.01e_mains score = -0.11207505922147183\n",
      "dbscan_0.1e_mains score = -0.11207505922147183\n",
      "dbscan_0.25e_mains score = -0.11207505922147183\n",
      "dbscan_0.5e_mains score = -0.11207505922147183\n",
      "dbscan_1.0e_mains score = -0.18771775409269265\n",
      "dbscan_1.25e_mains score = -0.18771775409269265\n"
     ]
    }
   ],
   "source": [
    "dbscan_eps = [0.0001, 0.001, 0.01, 0.1, 0.25, 0.5, 1.0, 1.25]\n",
    "dbscan_model_details = []\n",
    "\n",
    "for eps in dbscan_eps:\n",
    "    trial_details = {}\n",
    "    trial_details[\"eps\"] = eps\n",
    "    dbscan = DBSCAN(eps=eps, n_jobs=-1)\n",
    "    dbscan.fit(flag_proc_df)\n",
    "    \n",
    "    sil_score = silhouette_score(flag_proc_df, dbscan.labels_)\n",
    "    trial_details[\"score\"] = sil_score\n",
    "    \n",
    "    dbscan_model_details.append(trial_details)\n",
    "    \n",
    "    model_name = f\"dbscan_{eps}e_mains\"\n",
    "    print(f\"{model_name} score = {sil_score}\")\n",
    "    \n",
    "    with open(f\"models/main_course_recipes_models/{model_name}\", \"wb\") as f:\n",
    "        pickle.dump(dbscan, f)"
   ]
  },
  {
   "cell_type": "code",
   "execution_count": 37,
   "metadata": {},
   "outputs": [],
   "source": [
    "dbscan_models = pd.DataFrame.from_dict(dbscan_model_details)\n",
    "dbscan_models.to_parquet(\"data/generated_data/filtered_dbscan_model_trials.parquet\", engine=\"pyarrow\", compression= \"gzip\")"
   ]
  },
  {
   "cell_type": "markdown",
   "metadata": {},
   "source": [
    "---\n",
    "## filter most frequent ingredients\n",
    "- maybe 6,863 ingredients is too many\n",
    "- let's try with fewer ingredients"
   ]
  },
  {
   "cell_type": "code",
   "execution_count": 39,
   "metadata": {},
   "outputs": [
    {
     "data": {
      "text/plain": [
       "(75297, 6863)"
      ]
     },
     "execution_count": 39,
     "metadata": {},
     "output_type": "execute_result"
    }
   ],
   "source": [
    "# this is stored at \"data/generated_data/main_dish_dummies.parquet\"\n",
    "flag_proc_df.shape"
   ]
  },
  {
   "cell_type": "code",
   "execution_count": null,
   "metadata": {},
   "outputs": [],
   "source": []
  }
 ],
 "metadata": {
  "kernelspec": {
   "display_name": "capstone",
   "language": "python",
   "name": "python3"
  },
  "language_info": {
   "codemirror_mode": {
    "name": "ipython",
    "version": 3
   },
   "file_extension": ".py",
   "mimetype": "text/x-python",
   "name": "python",
   "nbconvert_exporter": "python",
   "pygments_lexer": "ipython3",
   "version": "3.12.1"
  }
 },
 "nbformat": 4,
 "nbformat_minor": 2
}
