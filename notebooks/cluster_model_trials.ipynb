{
 "cells": [
  {
   "cell_type": "code",
   "execution_count": 6,
   "metadata": {},
   "outputs": [],
   "source": [
    "import pickle\n",
    "\n",
    "import pandas as pd\n",
    "from sklearn.cluster import KMeans, DBSCAN\n",
    "from sklearn.metrics import silhouette_score"
   ]
  },
  {
   "cell_type": "code",
   "execution_count": 2,
   "metadata": {},
   "outputs": [
    {
     "data": {
      "text/plain": [
       "(178265, 8023)"
      ]
     },
     "execution_count": 2,
     "metadata": {},
     "output_type": "execute_result"
    }
   ],
   "source": [
    "flags_df = pd.read_parquet(\"data/ingr_dummies.parquet\")\n",
    "flags_df.shape"
   ]
  },
  {
   "cell_type": "code",
   "execution_count": 3,
   "metadata": {},
   "outputs": [
    {
     "data": {
      "text/plain": [
       "(44566, 8023)"
      ]
     },
     "execution_count": 3,
     "metadata": {},
     "output_type": "execute_result"
    }
   ],
   "source": [
    "sample_flags = flags_df.sample(frac=0.25, replace=False)\n",
    "sample_flags.shape"
   ]
  },
  {
   "cell_type": "code",
   "execution_count": 5,
   "metadata": {},
   "outputs": [],
   "source": [
    "kmeans_params = {\n",
    "    \"clusters\": range(5, 31, 5),\n",
    "    \"max_iter\": [300, 500]\n",
    "}\n",
    "\n",
    "dbscan_params = {\n",
    "    \"eps\": [0.1, 0.25, 0.5, 1.0, 1.25],\n",
    "    \"algorithm\": [\"auto\", \"kd_tree\"]\n",
    "}\n",
    "\n",
    "results = {}"
   ]
  },
  {
   "cell_type": "code",
   "execution_count": 7,
   "metadata": {},
   "outputs": [
    {
     "name": "stdout",
     "output_type": "stream",
     "text": [
      "kmeans_5c_300i score = 0.025359556961519467\n",
      "kmeans_5c_500i score = 0.025359556961519467\n",
      "kmeans_10c_300i score = 0.01024073806683298\n",
      "kmeans_10c_500i score = 0.01024073806683298\n",
      "kmeans_15c_300i score = 0.012603195125328414\n",
      "kmeans_15c_500i score = 0.012603195125328414\n",
      "kmeans_20c_300i score = 0.006635561539243761\n",
      "kmeans_20c_500i score = 0.006635561539243761\n",
      "kmeans_25c_300i score = 0.00571858492315883\n",
      "kmeans_25c_500i score = 0.00571858492315883\n",
      "kmeans_30c_300i score = 0.007765257017801726\n",
      "kmeans_30c_500i score = 0.007765257017801726\n"
     ]
    }
   ],
   "source": [
    "kmeans_models = {}\n",
    "\n",
    "for cluster in kmeans_params[\"clusters\"]:\n",
    "    for max_i in kmeans_params[\"max_iter\"]:\n",
    "        model_name = f\"kmeans_{cluster}c_{max_i}i\"\n",
    "        details = {}\n",
    "        details[\"clusters\"] = cluster\n",
    "        details[\"max_iter\"] = max_i\n",
    "        km = KMeans(n_clusters=cluster, max_iter=max_i, n_init=\"auto\", random_state=42)\n",
    "        km.fit(sample_flags)\n",
    "        \n",
    "        sil_score = silhouette_score(sample_flags, km.labels_)\n",
    "        print(f\"{model_name} score = {sil_score}\")\n",
    "        details[\"score\"] = sil_score\n",
    "        details[\"inertia\"] = km.inertia_\n",
    "        \n",
    "        kmeans_models[model_name] = details\n",
    "        \n",
    "        with open(f\"models/{model_name}.pkl\", \"wb\") as f:\n",
    "            pickle.dump(km, f)\n",
    "        "
   ]
  },
  {
   "cell_type": "code",
   "execution_count": 8,
   "metadata": {},
   "outputs": [
    {
     "name": "stdout",
     "output_type": "stream",
     "text": [
      "dbscan_0.1e_autoa score = -0.1137818994288678\n",
      "dbscan_0.1e_kd_treea score = -0.1137818994288678\n",
      "dbscan_0.25e_autoa score = -0.1137818994288678\n",
      "dbscan_0.25e_kd_treea score = -0.1137818994288678\n",
      "dbscan_0.5e_autoa score = -0.1137818994288678\n",
      "dbscan_0.5e_kd_treea score = -0.1137818994288678\n",
      "dbscan_1.0e_autoa score = -0.2008541704716405\n",
      "dbscan_1.0e_kd_treea score = -0.2008541704716405\n",
      "dbscan_1.25e_autoa score = -0.2008541704716405\n",
      "dbscan_1.25e_kd_treea score = -0.2008541704716405\n"
     ]
    }
   ],
   "source": [
    "dbscan_models = {}\n",
    "\n",
    "for eps in dbscan_params[\"eps\"]:\n",
    "    for algo in dbscan_params[\"algorithm\"]:\n",
    "        model_name = f\"dbscan_{eps}e_{algo}a\"\n",
    "        details = {}\n",
    "        details[\"eps\"] = eps\n",
    "        details[\"algorithm\"] = algo\n",
    "        dbscan = DBSCAN(eps=eps, algorithm=algo, n_jobs=-1)\n",
    "        dbscan.fit(sample_flags)\n",
    "        \n",
    "        sil_score = silhouette_score(sample_flags, dbscan.labels_)\n",
    "        print(f\"{model_name} score = {sil_score}\")\n",
    "        details[\"score\"] = sil_score\n",
    "        \n",
    "        dbscan_models[model_name] = details\n",
    "        \n",
    "        with open(f\"models/{model_name}\", \"wb\") as f:\n",
    "            pickle.dump(dbscan, f)"
   ]
  },
  {
   "cell_type": "code",
   "execution_count": 9,
   "metadata": {},
   "outputs": [
    {
     "name": "stdout",
     "output_type": "stream",
     "text": [
      "kmeans_35c_default_i score = 0.008281905915136617\n",
      "kmeans_40c_default_i score = 0.007494932185157251\n",
      "kmeans_45c_default_i score = 0.007244433685604815\n",
      "kmeans_50c_default_i score = 0.0076677207469152\n",
      "kmeans_55c_default_i score = 0.004070570047512586\n",
      "kmeans_60c_default_i score = 0.005761999899310619\n",
      "kmeans_65c_default_i score = 0.0065947546451767345\n",
      "kmeans_70c_default_i score = 0.005518304051742554\n",
      "kmeans_75c_default_i score = 0.0054834518212471895\n",
      "kmeans_80c_default_i score = 0.005751633972537051\n",
      "kmeans_85c_default_i score = 0.005776518868208993\n",
      "kmeans_90c_default_i score = 0.005115344110135365\n",
      "kmeans_95c_default_i score = 0.00500923247561521\n",
      "kmeans_100c_default_i score = 0.005285331211656954\n"
     ]
    }
   ],
   "source": [
    "for cluster in range(35, 101, 5):\n",
    "    max_i = \"default_\"\n",
    "    model_name = f\"kmeans_{cluster}c_{max_i}i\"\n",
    "    details = {}\n",
    "    details[\"clusters\"] = cluster\n",
    "    details[\"max_iter\"] = max_i\n",
    "    km = KMeans(n_clusters=cluster, n_init=\"auto\", random_state=42)\n",
    "    km.fit(sample_flags)\n",
    "    \n",
    "    sil_score = silhouette_score(sample_flags, km.labels_)\n",
    "    print(f\"{model_name} score = {sil_score}\")\n",
    "    details[\"score\"] = sil_score\n",
    "    details[\"inertia\"] = km.inertia_\n",
    "    \n",
    "    kmeans_models[model_name] = details\n",
    "    \n",
    "    with open(f\"models/{model_name}.pkl\", \"wb\") as f:\n",
    "        pickle.dump(km, f)"
   ]
  },
  {
   "cell_type": "code",
   "execution_count": 10,
   "metadata": {},
   "outputs": [
    {
     "name": "stdout",
     "output_type": "stream",
     "text": [
      "dbscan_0.0001e_2p score = -0.1137818994288678\n",
      "dbscan_0.0001e_3p score = -0.1137818994288678\n",
      "dbscan_0.001e_2p score = -0.1137818994288678\n",
      "dbscan_0.001e_3p score = -0.1137818994288678\n",
      "dbscan_0.01e_2p score = -0.1137818994288678\n",
      "dbscan_0.01e_3p score = -0.1137818994288678\n"
     ]
    }
   ],
   "source": [
    "smaller_eps = [0.0001, 0.001, 0.01]\n",
    "powers = [2, 3]\n",
    "\n",
    "for eps in smaller_eps:\n",
    "    for power in powers:\n",
    "        model_name = f\"dbscan_{eps}e_{power}p\"\n",
    "        details = {}\n",
    "        details[\"eps\"] = eps\n",
    "        details[\"power\"] = power\n",
    "        dbscan = DBSCAN(eps=eps, p=power, n_jobs=-1)\n",
    "        dbscan.fit(sample_flags)\n",
    "        \n",
    "        sil_score = silhouette_score(sample_flags, dbscan.labels_)\n",
    "        print(f\"{model_name} score = {sil_score}\")\n",
    "        details[\"score\"] = sil_score\n",
    "        \n",
    "        dbscan_models[model_name] = details\n",
    "        \n",
    "        with open(f\"models/{model_name}\", \"wb\") as f:\n",
    "            pickle.dump(dbscan, f)"
   ]
  }
 ],
 "metadata": {
  "kernelspec": {
   "display_name": "capstone",
   "language": "python",
   "name": "python3"
  },
  "language_info": {
   "codemirror_mode": {
    "name": "ipython",
    "version": 3
   },
   "file_extension": ".py",
   "mimetype": "text/x-python",
   "name": "python",
   "nbconvert_exporter": "python",
   "pygments_lexer": "ipython3",
   "version": "3.12.1"
  }
 },
 "nbformat": 4,
 "nbformat_minor": 2
}
