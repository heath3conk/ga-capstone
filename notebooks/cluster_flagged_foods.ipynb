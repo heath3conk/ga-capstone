{
 "cells": [
  {
   "cell_type": "markdown",
   "metadata": {},
   "source": [
    "# Create classification model(s)\n",
    "- start with the \"food.csv\"\n",
    "- tfidf vectorizer & classification models\n",
    "- combining text fields except for \"food_group\" and/or \"food_subgroup\""
   ]
  },
  {
   "cell_type": "code",
   "execution_count": 1,
   "metadata": {},
   "outputs": [],
   "source": [
    "import pprint\n",
    "import importlib\n",
    "import numpy as np\n",
    "import pandas as pd\n",
    "\n",
    "# import seaborn as sns\n",
    "import matplotlib.pyplot as plt\n",
    "from sklearn.preprocessing import LabelEncoder\n",
    "from sklearn.model_selection import train_test_split\n",
    "from sklearn.feature_extraction.text import TfidfVectorizer\n",
    "from sklearn.neighbors import KNeighborsClassifier\n",
    "from sklearn.svm import SVC\n",
    "from sklearn.metrics import f1_score\n",
    "from sklearn.metrics import mean_absolute_error\n",
    "\n",
    "import modeling"
   ]
  },
  {
   "cell_type": "code",
   "execution_count": null,
   "metadata": {},
   "outputs": [],
   "source": [
    "importlib.reload(modeling);"
   ]
  },
  {
   "cell_type": "markdown",
   "metadata": {},
   "source": [
    "## pull pre-cleaned & flagged food data\n",
    "- this parquet file is the merged \"food\" and \"content\" tables\n",
    "- it has an \"all_text\" field\n",
    "- it has columns with binary values to capture the presence of specific flavor descriptors in that text: `flavor_cols = [\"salty\", \"sour\", \"bitter\", \"sweet\", \"fatty\", \"umami\", \"acid\"]`"
   ]
  },
  {
   "cell_type": "code",
   "execution_count": 2,
   "metadata": {},
   "outputs": [
    {
     "data": {
      "text/plain": [
       "(4074596, 22)"
      ]
     },
     "execution_count": 2,
     "metadata": {},
     "output_type": "execute_result"
    }
   ],
   "source": [
    "food = pd.read_parquet(\"data/big_food.parquet\")\n",
    "food.shape"
   ]
  },
  {
   "cell_type": "code",
   "execution_count": 3,
   "metadata": {},
   "outputs": [
    {
     "data": {
      "text/plain": [
       "Index(['food_id', 'orig_food_id', 'orig_food_common_name',\n",
       "       'orig_food_scientific_name', 'orig_food_part', 'orig_source_id',\n",
       "       'orig_source_name', 'id', 'name', 'name_scientific', 'description',\n",
       "       'wikipedia_id', 'food_group', 'food_subgroup', 'all_text', 'salty',\n",
       "       'sour', 'bitter', 'sweet', 'fatty', 'umami', 'acid'],\n",
       "      dtype='object')"
      ]
     },
     "execution_count": 3,
     "metadata": {},
     "output_type": "execute_result"
    }
   ],
   "source": [
    "food.columns"
   ]
  },
  {
   "cell_type": "code",
   "execution_count": 4,
   "metadata": {},
   "outputs": [],
   "source": [
    "flavor_cols = [\"salty\", \"sour\", \"bitter\", \"sweet\", \"fatty\", \"umami\", \"acid\"]"
   ]
  },
  {
   "cell_type": "code",
   "execution_count": 21,
   "metadata": {},
   "outputs": [],
   "source": [
    "label_encoder = LabelEncoder()\n",
    "label_enc_y = label_encoder.fit_transform(food[\"food_group\"])"
   ]
  },
  {
   "cell_type": "markdown",
   "metadata": {},
   "source": [
    "## build pipelines\n",
    "### references for choosing these hyperparameter options:\n",
    "- [svc](https://www.baeldung.com/cs/svm-multiclass-classification) kernel options"
   ]
  },
  {
   "cell_type": "code",
   "execution_count": 23,
   "metadata": {},
   "outputs": [],
   "source": [
    "# now that I know my label_encoder works, defining params for the different models I want to try\n",
    "pipe_params = {\n",
    "    \"tfidf__max_features\": [None, 250, 300],\n",
    "    \"tfidf__min_df\": [1, 0.01, 0.05],\n",
    "    \"tfidf__max_df\": [1.0, 0.98, 0.95, 0.9],\n",
    "    \"tfidf__ngram_range\": [(1,1), (1,2), (1,3)],\n",
    "    \"lr__solver\": [\"lbfgs\", \"liblinear\"],\n",
    "    \"lr__C\": [1.0, 0.1, 10],\n",
    "    \"multi__alpha\": [1.0, 0.5],\n",
    "    \"rfc__n_estimators\": [100, 50, 150],\n",
    "    \"rfc__max_depth\": [None, 5, 10],\n",
    "    \"rfc__min_samples_split\": [2, 5, 7],\n",
    "    \"rfc__min_samples_leaf\": [1, 2, 3],\n",
    "    \"rfc__bootstrap\": [True, False],\n",
    "    \"knn__n_neighbors\": range(1,11),\n",
    "    \"knn__weights\": [\"uniform\", \"distance\"],\n",
    "    \"knn__p\": [1, 2],\n",
    "    \"svc__C\": [1.0, 0.1, 10],\n",
    "    \"svc__kernel\": [\"poly\", \"rbf\"],   \n",
    "}"
   ]
  },
  {
   "cell_type": "code",
   "execution_count": 24,
   "metadata": {},
   "outputs": [],
   "source": [
    "# and the components\n",
    "vectorizer = (\"tfidf\", TfidfVectorizer(stop_words=\"english\"))\n",
    "lr_tuple = (\"lr\", LogisticRegression(max_iter=1000))\n",
    "multi_tuple = (\"multi\", MultinomialNB())\n",
    "rand_forest_tuple = (\"rfc\", RandomForestClassifier(n_jobs=-1))\n",
    "knn_tuple = (\"knn\", KNeighborsClassifier())\n",
    "svc_tuple = (\"svc\", SVC(random_state=42))\n",
    "\n",
    "model_options = [lr_tuple, multi_tuple, rand_forest_tuple, knn_tuple, svc_tuple]"
   ]
  },
  {
   "cell_type": "markdown",
   "metadata": {},
   "source": [
    "### build models\n",
    "- the `modeling.train_save_best_model` function builds a Pipeline and a GridSearch from the `pipe_params` for a given model and then saves the best estimator as a pickle file\n",
    "- commenting this cell out once I have those pickle files so I can (if necessary) \"run all\" cells in the notebook"
   ]
  },
  {
   "cell_type": "code",
   "execution_count": null,
   "metadata": {},
   "outputs": [],
   "source": [
    "# this raises a warning on the \"food\" data:\n",
    "# UserWarning: y_pred contains classes not in y_true - warnings.warn(\"y_pred contains classes not in y_true\")\n",
    "#  which makes sense because there are a couple of \"food_group\" labels with only 1 or 2 instances in that df\n",
    "\n",
    "# estimators = []\n",
    "# for model in model_options:\n",
    "#     pipe_components = [vectorizer, model]\n",
    "#     print(f\"starting {model[0]} grid search\")\n",
    "#     est = modeling.train_save_best_model(pipe=pipe_components, pipe_params=pipe_params, X_train=food[\"all_text\"],\n",
    "#                                    y_train=label_enc_y, file_path=f\"models/{model[0]}.pkl\")\n",
    "#     estimators.append(est)"
   ]
  },
  {
   "cell_type": "code",
   "execution_count": 25,
   "metadata": {},
   "outputs": [],
   "source": [
    "X = food[\"all_text\"]\n",
    "y = label_enc_y\n",
    "\n",
    "pipeline_names = [\"knn\", \"lr\", \"multi\", \"rfc\", \"svc\"]"
   ]
  },
  {
   "cell_type": "code",
   "execution_count": 26,
   "metadata": {},
   "outputs": [
    {
     "data": {
      "text/plain": [
       "{'knn': 1.0,\n",
       " 'lr': 0.9968186638388123,\n",
       " 'multi': 0.8494167550371156,\n",
       " 'rfc': 1.0,\n",
       " 'svc': 1.0}"
      ]
     },
     "execution_count": 26,
     "metadata": {},
     "output_type": "execute_result"
    }
   ],
   "source": [
    "# use `fetch_fitted_pipeline` to fetch previously-fitted pipeline\n",
    "scores = {}\n",
    "for model_type in pipeline_names:\n",
    "    gs = modeling.fetch_fitted_pipeline(f\"models/{model_type}.pkl\")\n",
    "    gs.fit(X, y)\n",
    "    scores[model_type] = gs.score(X, y)\n",
    "    \n",
    "scores"
   ]
  },
  {
   "cell_type": "markdown",
   "metadata": {},
   "source": [
    "## combine content & food data"
   ]
  },
  {
   "cell_type": "code",
   "execution_count": 27,
   "metadata": {},
   "outputs": [
    {
     "data": {
      "text/plain": [
       "Index(['id', 'source_id', 'source_type', 'food_id', 'orig_food_id',\n",
       "       'orig_food_common_name', 'orig_food_scientific_name', 'orig_food_part',\n",
       "       'orig_source_id', 'orig_source_name', 'orig_content', 'orig_min',\n",
       "       'orig_max', 'orig_unit', 'orig_citation', 'citation', 'citation_type',\n",
       "       'creator_id', 'updater_id', 'created_at', 'updated_at', 'orig_method',\n",
       "       'orig_unit_expression', 'standard_content', 'preparation_type',\n",
       "       'export'],\n",
       "      dtype='object')"
      ]
     },
     "execution_count": 27,
     "metadata": {},
     "output_type": "execute_result"
    }
   ],
   "source": [
    "content = pd.read_csv(\"data/foodb_2020_04_07_csv/Content.csv\")\n",
    "content.columns"
   ]
  },
  {
   "cell_type": "code",
   "execution_count": 64,
   "metadata": {},
   "outputs": [
    {
     "data": {
      "text/html": [
       "<div>\n",
       "<style scoped>\n",
       "    .dataframe tbody tr th:only-of-type {\n",
       "        vertical-align: middle;\n",
       "    }\n",
       "\n",
       "    .dataframe tbody tr th {\n",
       "        vertical-align: top;\n",
       "    }\n",
       "\n",
       "    .dataframe thead th {\n",
       "        text-align: right;\n",
       "    }\n",
       "</style>\n",
       "<table border=\"1\" class=\"dataframe\">\n",
       "  <thead>\n",
       "    <tr style=\"text-align: right;\">\n",
       "      <th></th>\n",
       "      <th>food_id</th>\n",
       "      <th>orig_food_id</th>\n",
       "      <th>orig_food_common_name</th>\n",
       "      <th>orig_food_scientific_name</th>\n",
       "      <th>orig_food_part</th>\n",
       "      <th>orig_source_id</th>\n",
       "      <th>orig_source_name</th>\n",
       "    </tr>\n",
       "  </thead>\n",
       "  <tbody>\n",
       "    <tr>\n",
       "      <th>0</th>\n",
       "      <td>4</td>\n",
       "      <td>29</td>\n",
       "      <td>Kiwi</td>\n",
       "      <td>Actinidia chinensis PLANCHON [Actinidiaceae]</td>\n",
       "      <td>Fruit</td>\n",
       "      <td>FAT</td>\n",
       "      <td>FAT</td>\n",
       "    </tr>\n",
       "    <tr>\n",
       "      <th>1</th>\n",
       "      <td>6</td>\n",
       "      <td>53</td>\n",
       "      <td>Onion</td>\n",
       "      <td>Allium cepa L. [Liliaceae]</td>\n",
       "      <td>Bulb</td>\n",
       "      <td>FAT</td>\n",
       "      <td>FAT</td>\n",
       "    </tr>\n",
       "    <tr>\n",
       "      <th>2</th>\n",
       "      <td>6</td>\n",
       "      <td>53</td>\n",
       "      <td>Onion</td>\n",
       "      <td>Allium cepa L. [Liliaceae]</td>\n",
       "      <td>Leaf</td>\n",
       "      <td>FAT</td>\n",
       "      <td>FAT</td>\n",
       "    </tr>\n",
       "    <tr>\n",
       "      <th>3</th>\n",
       "      <td>9</td>\n",
       "      <td>55</td>\n",
       "      <td>Chives</td>\n",
       "      <td>Allium schoenoprasum L. [Liliaceae]</td>\n",
       "      <td>Leaf</td>\n",
       "      <td>FAT</td>\n",
       "      <td>FAT</td>\n",
       "    </tr>\n",
       "    <tr>\n",
       "      <th>4</th>\n",
       "      <td>11</td>\n",
       "      <td>70</td>\n",
       "      <td>Cashew</td>\n",
       "      <td>Anacardium occidentale L. [Anacardiaceae]</td>\n",
       "      <td>Fruit</td>\n",
       "      <td>FAT</td>\n",
       "      <td>FAT</td>\n",
       "    </tr>\n",
       "    <tr>\n",
       "      <th>5</th>\n",
       "      <td>11</td>\n",
       "      <td>70</td>\n",
       "      <td>Cashew</td>\n",
       "      <td>Anacardium occidentale L. [Anacardiaceae]</td>\n",
       "      <td>Leaf</td>\n",
       "      <td>FAT</td>\n",
       "      <td>FAT</td>\n",
       "    </tr>\n",
       "    <tr>\n",
       "      <th>6</th>\n",
       "      <td>11</td>\n",
       "      <td>70</td>\n",
       "      <td>Cashew</td>\n",
       "      <td>Anacardium occidentale L. [Anacardiaceae]</td>\n",
       "      <td>Seed</td>\n",
       "      <td>FAT</td>\n",
       "      <td>FAT</td>\n",
       "    </tr>\n",
       "    <tr>\n",
       "      <th>7</th>\n",
       "      <td>12</td>\n",
       "      <td>74</td>\n",
       "      <td>Pineapple</td>\n",
       "      <td>Ananas comosus (L.) MERR. [Bromeliaceae]</td>\n",
       "      <td>Fruit</td>\n",
       "      <td>FAT</td>\n",
       "      <td>FAT</td>\n",
       "    </tr>\n",
       "    <tr>\n",
       "      <th>8</th>\n",
       "      <td>13</td>\n",
       "      <td>83</td>\n",
       "      <td>Dill</td>\n",
       "      <td>Anethum graveolens L. [Apiaceae]</td>\n",
       "      <td>Plant</td>\n",
       "      <td>FAT</td>\n",
       "      <td>FAT</td>\n",
       "    </tr>\n",
       "    <tr>\n",
       "      <th>9</th>\n",
       "      <td>13</td>\n",
       "      <td>83</td>\n",
       "      <td>Dill</td>\n",
       "      <td>Anethum graveolens L. [Apiaceae]</td>\n",
       "      <td>Seed</td>\n",
       "      <td>FAT</td>\n",
       "      <td>FAT</td>\n",
       "    </tr>\n",
       "  </tbody>\n",
       "</table>\n",
       "</div>"
      ],
      "text/plain": [
       "   food_id orig_food_id orig_food_common_name  \\\n",
       "0        4           29                  Kiwi   \n",
       "1        6           53                 Onion   \n",
       "2        6           53                 Onion   \n",
       "3        9           55                Chives   \n",
       "4       11           70                Cashew   \n",
       "5       11           70                Cashew   \n",
       "6       11           70                Cashew   \n",
       "7       12           74             Pineapple   \n",
       "8       13           83                  Dill   \n",
       "9       13           83                  Dill   \n",
       "\n",
       "                      orig_food_scientific_name orig_food_part orig_source_id  \\\n",
       "0  Actinidia chinensis PLANCHON [Actinidiaceae]          Fruit            FAT   \n",
       "1                    Allium cepa L. [Liliaceae]           Bulb            FAT   \n",
       "2                    Allium cepa L. [Liliaceae]           Leaf            FAT   \n",
       "3           Allium schoenoprasum L. [Liliaceae]           Leaf            FAT   \n",
       "4     Anacardium occidentale L. [Anacardiaceae]          Fruit            FAT   \n",
       "5     Anacardium occidentale L. [Anacardiaceae]           Leaf            FAT   \n",
       "6     Anacardium occidentale L. [Anacardiaceae]           Seed            FAT   \n",
       "7      Ananas comosus (L.) MERR. [Bromeliaceae]          Fruit            FAT   \n",
       "8              Anethum graveolens L. [Apiaceae]          Plant            FAT   \n",
       "9              Anethum graveolens L. [Apiaceae]           Seed            FAT   \n",
       "\n",
       "  orig_source_name  \n",
       "0              FAT  \n",
       "1              FAT  \n",
       "2              FAT  \n",
       "3              FAT  \n",
       "4              FAT  \n",
       "5              FAT  \n",
       "6              FAT  \n",
       "7              FAT  \n",
       "8              FAT  \n",
       "9              FAT  "
      ]
     },
     "execution_count": 64,
     "metadata": {},
     "output_type": "execute_result"
    }
   ],
   "source": [
    "content.head(10)"
   ]
  },
  {
   "cell_type": "code",
   "execution_count": 28,
   "metadata": {},
   "outputs": [
    {
     "name": "stdout",
     "output_type": "stream",
     "text": [
      "keeping columns: {'orig_source_id', 'orig_food_scientific_name', 'orig_food_common_name', 'orig_food_part', 'orig_source_name', 'food_id', 'orig_food_id'}\n"
     ]
    }
   ],
   "source": [
    "content_drop_cols = [\"id\", \"source_id\", \"source_type\", \"orig_content\", \"orig_min\",\n",
    "       \"orig_max\", \"orig_unit\", \"orig_citation\", \"citation\", \"citation_type\",\n",
    "       \"creator_id\", \"updater_id\", \"created_at\", \"updated_at\", \"orig_method\",\n",
    "       \"orig_unit_expression\", \"standard_content\", \"preparation_type\",\n",
    "       \"export\"]\n",
    "\n",
    "print(f\"keeping columns: {set(content.columns).difference(set(content_drop_cols))}\")"
   ]
  },
  {
   "cell_type": "markdown",
   "metadata": {},
   "source": [
    "## find flavor descriptors\n",
    "- add flags where the descriptors are present"
   ]
  },
  {
   "cell_type": "code",
   "execution_count": 66,
   "metadata": {},
   "outputs": [],
   "source": [
    "# including some basic synonyms here, there's some overlap\n",
    "salty = {\"salt\", \"salty\", \"sharp\", \"tangy\", \"pungent\"}\n",
    "sour = {\"sour\", \"sourness\", \"tart\", \"vinegar\", \"vinegary\"}\n",
    "bitter = {\"bitter\", \"bitterness\"}\n",
    "sweet = {\"sweet\", \"sweetness\", \"syrupy\", \"syrupiness\", \"treacle\", \"treacly\", \"sugary\", \"sugariness\"}\n",
    "fatty = {\"fat\", \"fats\", \"fatty\", \"fattiness\", \"creamy\", \"luscious\"}\n",
    "umami = {\"umami\", \"meaty\", \"meatiness\", \"savory\", \"savoriness\"}\n",
    "acid = {\"acid\", \"acidic\", \"vinegar\", \"vinegary\", \"acidy\"}"
   ]
  }
 ],
 "metadata": {
  "kernelspec": {
   "display_name": "capstone",
   "language": "python",
   "name": "python3"
  },
  "language_info": {
   "codemirror_mode": {
    "name": "ipython",
    "version": 3
   },
   "file_extension": ".py",
   "mimetype": "text/x-python",
   "name": "python",
   "nbconvert_exporter": "python",
   "pygments_lexer": "ipython3",
   "version": "3.12.1"
  }
 },
 "nbformat": 4,
 "nbformat_minor": 2
}
