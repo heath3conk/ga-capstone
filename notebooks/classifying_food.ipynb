{
 "cells": [
  {
   "cell_type": "markdown",
   "metadata": {},
   "source": [
    "# Create classification model(s)\n",
    "- start with the \"food.csv\"\n",
    "- tfidf vectorizer & classification models\n",
    "- combining text fields except for \"food_group\" and/or \"food_subgroup\""
   ]
  },
  {
   "cell_type": "code",
   "execution_count": 2,
   "metadata": {},
   "outputs": [],
   "source": [
    "import pprint\n",
    "import importlib\n",
    "import numpy as np\n",
    "import pandas as pd\n",
    "\n",
    "# import seaborn as sns\n",
    "import matplotlib.pyplot as plt\n",
    "from sklearn.preprocessing import OrdinalEncoder, LabelEncoder\n",
    "from sklearn.compose import ColumnTransformer\n",
    "from sklearn.pipeline import Pipeline\n",
    "from sklearn.model_selection import train_test_split, cross_val_score, GridSearchCV\n",
    "from sklearn.feature_extraction.text import TfidfVectorizer\n",
    "from sklearn.linear_model import LogisticRegression\n",
    "from sklearn.naive_bayes import MultinomialNB\n",
    "from sklearn.neighbors import KNeighborsClassifier\n",
    "from sklearn.tree import DecisionTreeClassifier\n",
    "from sklearn.ensemble import BaggingClassifier, RandomForestClassifier\n",
    "from sklearn.svm import SVC\n",
    "from sklearn.metrics import f1_score\n",
    "from sklearn.metrics import mean_absolute_error\n",
    "\n",
    "import modeling"
   ]
  },
  {
   "cell_type": "code",
   "execution_count": 37,
   "metadata": {},
   "outputs": [],
   "source": [
    "importlib.reload(modeling);"
   ]
  },
  {
   "cell_type": "markdown",
   "metadata": {},
   "source": [
    "#### pull data & basic cleanup\n",
    "- get rid of columns that I won\"t use\n",
    "- remove the 47 rows that are missing \"description\" data"
   ]
  },
  {
   "cell_type": "code",
   "execution_count": 2,
   "metadata": {},
   "outputs": [
    {
     "data": {
      "text/html": [
       "<div>\n",
       "<style scoped>\n",
       "    .dataframe tbody tr th:only-of-type {\n",
       "        vertical-align: middle;\n",
       "    }\n",
       "\n",
       "    .dataframe tbody tr th {\n",
       "        vertical-align: top;\n",
       "    }\n",
       "\n",
       "    .dataframe thead th {\n",
       "        text-align: right;\n",
       "    }\n",
       "</style>\n",
       "<table border=\"1\" class=\"dataframe\">\n",
       "  <thead>\n",
       "    <tr style=\"text-align: right;\">\n",
       "      <th></th>\n",
       "      <th>id</th>\n",
       "      <th>name</th>\n",
       "      <th>name_scientific</th>\n",
       "      <th>description</th>\n",
       "      <th>itis_id</th>\n",
       "      <th>wikipedia_id</th>\n",
       "      <th>picture_file_name</th>\n",
       "      <th>picture_content_type</th>\n",
       "      <th>picture_file_size</th>\n",
       "      <th>picture_updated_at</th>\n",
       "      <th>...</th>\n",
       "      <th>food_type</th>\n",
       "      <th>created_at</th>\n",
       "      <th>updated_at</th>\n",
       "      <th>creator_id</th>\n",
       "      <th>updater_id</th>\n",
       "      <th>export_to_afcdb</th>\n",
       "      <th>category</th>\n",
       "      <th>ncbi_taxonomy_id</th>\n",
       "      <th>export_to_foodb</th>\n",
       "      <th>public_id</th>\n",
       "    </tr>\n",
       "  </thead>\n",
       "  <tbody>\n",
       "    <tr>\n",
       "      <th>0</th>\n",
       "      <td>1</td>\n",
       "      <td>Angelica</td>\n",
       "      <td>Angelica keiskei</td>\n",
       "      <td>Angelica is a genus of about 60 species of tal...</td>\n",
       "      <td>NaN</td>\n",
       "      <td>Angelica</td>\n",
       "      <td>1.jpg</td>\n",
       "      <td>image/jpeg</td>\n",
       "      <td>111325.0</td>\n",
       "      <td>2012-04-20 09:29:57 UTC</td>\n",
       "      <td>...</td>\n",
       "      <td>Type 1</td>\n",
       "      <td>2011-02-09 00:37:14 UTC</td>\n",
       "      <td>2019-05-14 18:04:13 UTC</td>\n",
       "      <td>NaN</td>\n",
       "      <td>2.0</td>\n",
       "      <td>False</td>\n",
       "      <td>specific</td>\n",
       "      <td>357850.0</td>\n",
       "      <td>True</td>\n",
       "      <td>FOOD00001</td>\n",
       "    </tr>\n",
       "    <tr>\n",
       "      <th>1</th>\n",
       "      <td>2</td>\n",
       "      <td>Savoy cabbage</td>\n",
       "      <td>Brassica oleracea var. sabauda</td>\n",
       "      <td>Savoy cabbage (Brassica oleracea convar. capit...</td>\n",
       "      <td>NaN</td>\n",
       "      <td>Savoy cabbage</td>\n",
       "      <td>2.jpg</td>\n",
       "      <td>image/jpeg</td>\n",
       "      <td>155178.0</td>\n",
       "      <td>2012-04-20 09:39:54 UTC</td>\n",
       "      <td>...</td>\n",
       "      <td>Type 1</td>\n",
       "      <td>2011-02-09 00:37:15 UTC</td>\n",
       "      <td>2019-05-14 18:04:13 UTC</td>\n",
       "      <td>NaN</td>\n",
       "      <td>NaN</td>\n",
       "      <td>False</td>\n",
       "      <td>specific</td>\n",
       "      <td>1216010.0</td>\n",
       "      <td>True</td>\n",
       "      <td>FOOD00002</td>\n",
       "    </tr>\n",
       "    <tr>\n",
       "      <th>2</th>\n",
       "      <td>3</td>\n",
       "      <td>Silver linden</td>\n",
       "      <td>Tilia argentea</td>\n",
       "      <td>Tilia tomentosa (Silver Lime in the UK and Sil...</td>\n",
       "      <td>845789.0</td>\n",
       "      <td>Tilia tomentosa</td>\n",
       "      <td>3.jpg</td>\n",
       "      <td>image/jpeg</td>\n",
       "      <td>56367.0</td>\n",
       "      <td>2012-04-20 09:41:25 UTC</td>\n",
       "      <td>...</td>\n",
       "      <td>Type 1</td>\n",
       "      <td>2011-02-09 00:37:15 UTC</td>\n",
       "      <td>2019-05-17 16:19:45 UTC</td>\n",
       "      <td>NaN</td>\n",
       "      <td>NaN</td>\n",
       "      <td>False</td>\n",
       "      <td>specific</td>\n",
       "      <td>NaN</td>\n",
       "      <td>True</td>\n",
       "      <td>FOOD00003</td>\n",
       "    </tr>\n",
       "  </tbody>\n",
       "</table>\n",
       "<p>3 rows × 23 columns</p>\n",
       "</div>"
      ],
      "text/plain": [
       "   id           name                 name_scientific  \\\n",
       "0   1       Angelica                Angelica keiskei   \n",
       "1   2  Savoy cabbage  Brassica oleracea var. sabauda   \n",
       "2   3  Silver linden                  Tilia argentea   \n",
       "\n",
       "                                         description   itis_id  \\\n",
       "0  Angelica is a genus of about 60 species of tal...       NaN   \n",
       "1  Savoy cabbage (Brassica oleracea convar. capit...       NaN   \n",
       "2  Tilia tomentosa (Silver Lime in the UK and Sil...  845789.0   \n",
       "\n",
       "      wikipedia_id picture_file_name picture_content_type  picture_file_size  \\\n",
       "0         Angelica             1.jpg           image/jpeg           111325.0   \n",
       "1    Savoy cabbage             2.jpg           image/jpeg           155178.0   \n",
       "2  Tilia tomentosa             3.jpg           image/jpeg            56367.0   \n",
       "\n",
       "        picture_updated_at  ...  food_type               created_at  \\\n",
       "0  2012-04-20 09:29:57 UTC  ...     Type 1  2011-02-09 00:37:14 UTC   \n",
       "1  2012-04-20 09:39:54 UTC  ...     Type 1  2011-02-09 00:37:15 UTC   \n",
       "2  2012-04-20 09:41:25 UTC  ...     Type 1  2011-02-09 00:37:15 UTC   \n",
       "\n",
       "                updated_at creator_id updater_id export_to_afcdb  category  \\\n",
       "0  2019-05-14 18:04:13 UTC        NaN        2.0           False  specific   \n",
       "1  2019-05-14 18:04:13 UTC        NaN        NaN           False  specific   \n",
       "2  2019-05-17 16:19:45 UTC        NaN        NaN           False  specific   \n",
       "\n",
       "   ncbi_taxonomy_id  export_to_foodb  public_id  \n",
       "0          357850.0             True  FOOD00001  \n",
       "1         1216010.0             True  FOOD00002  \n",
       "2               NaN             True  FOOD00003  \n",
       "\n",
       "[3 rows x 23 columns]"
      ]
     },
     "execution_count": 2,
     "metadata": {},
     "output_type": "execute_result"
    }
   ],
   "source": [
    "food = pd.read_csv(\"data/foodb_2020_04_07_csv/Food.csv\")\n",
    "food.head(3)"
   ]
  },
  {
   "cell_type": "code",
   "execution_count": 3,
   "metadata": {},
   "outputs": [
    {
     "name": "stdout",
     "output_type": "stream",
     "text": [
      "rows: 992\n",
      "columns: Index(['id', 'name', 'name_scientific', 'description', 'itis_id',\n",
      "       'wikipedia_id', 'picture_file_name', 'picture_content_type',\n",
      "       'picture_file_size', 'picture_updated_at', 'legacy_id', 'food_group',\n",
      "       'food_subgroup', 'food_type', 'created_at', 'updated_at', 'creator_id',\n",
      "       'updater_id', 'export_to_afcdb', 'category', 'ncbi_taxonomy_id',\n",
      "       'export_to_foodb', 'public_id'],\n",
      "      dtype='object')\n"
     ]
    }
   ],
   "source": [
    "rows = food.shape[0]\n",
    "print(f\"rows: {rows}\")\n",
    "print(f\"columns: {food.columns}\")"
   ]
  },
  {
   "cell_type": "code",
   "execution_count": 4,
   "metadata": {},
   "outputs": [
    {
     "name": "stdout",
     "output_type": "stream",
     "text": [
      "keeping columns: {'id', 'food_subgroup', 'name_scientific', 'food_group', 'description', 'wikipedia_id', 'name'}\n"
     ]
    }
   ],
   "source": [
    "# getting rid of columns I don\"t care about\n",
    "drop_columns = [\"itis_id\", \"picture_file_name\", \"picture_content_type\", \"picture_file_size\", \"picture_updated_at\", \"legacy_id\", \"created_at\", \"updated_at\", \"creator_id\",\n",
    "       \"updater_id\", \"export_to_afcdb\", \"category\", \"ncbi_taxonomy_id\", \"export_to_foodb\", \"public_id\", \"food_type\"]\n",
    "\n",
    "print(f\"keeping columns: {set(food.columns).difference(set(drop_columns))}\")"
   ]
  },
  {
   "cell_type": "code",
   "execution_count": 5,
   "metadata": {},
   "outputs": [
    {
     "data": {
      "text/html": [
       "<div>\n",
       "<style scoped>\n",
       "    .dataframe tbody tr th:only-of-type {\n",
       "        vertical-align: middle;\n",
       "    }\n",
       "\n",
       "    .dataframe tbody tr th {\n",
       "        vertical-align: top;\n",
       "    }\n",
       "\n",
       "    .dataframe thead th {\n",
       "        text-align: right;\n",
       "    }\n",
       "</style>\n",
       "<table border=\"1\" class=\"dataframe\">\n",
       "  <thead>\n",
       "    <tr style=\"text-align: right;\">\n",
       "      <th></th>\n",
       "      <th>id</th>\n",
       "      <th>name</th>\n",
       "      <th>name_scientific</th>\n",
       "      <th>description</th>\n",
       "      <th>wikipedia_id</th>\n",
       "      <th>food_group</th>\n",
       "      <th>food_subgroup</th>\n",
       "    </tr>\n",
       "  </thead>\n",
       "  <tbody>\n",
       "    <tr>\n",
       "      <th>0</th>\n",
       "      <td>1</td>\n",
       "      <td>Angelica</td>\n",
       "      <td>Angelica keiskei</td>\n",
       "      <td>Angelica is a genus of about 60 species of tal...</td>\n",
       "      <td>Angelica</td>\n",
       "      <td>Herbs and Spices</td>\n",
       "      <td>Herbs</td>\n",
       "    </tr>\n",
       "    <tr>\n",
       "      <th>1</th>\n",
       "      <td>2</td>\n",
       "      <td>Savoy cabbage</td>\n",
       "      <td>Brassica oleracea var. sabauda</td>\n",
       "      <td>Savoy cabbage (Brassica oleracea convar. capit...</td>\n",
       "      <td>Savoy cabbage</td>\n",
       "      <td>Vegetables</td>\n",
       "      <td>Cabbages</td>\n",
       "    </tr>\n",
       "    <tr>\n",
       "      <th>2</th>\n",
       "      <td>3</td>\n",
       "      <td>Silver linden</td>\n",
       "      <td>Tilia argentea</td>\n",
       "      <td>Tilia tomentosa (Silver Lime in the UK and Sil...</td>\n",
       "      <td>Tilia tomentosa</td>\n",
       "      <td>Herbs and Spices</td>\n",
       "      <td>Herbs</td>\n",
       "    </tr>\n",
       "  </tbody>\n",
       "</table>\n",
       "</div>"
      ],
      "text/plain": [
       "   id           name                 name_scientific  \\\n",
       "0   1       Angelica                Angelica keiskei   \n",
       "1   2  Savoy cabbage  Brassica oleracea var. sabauda   \n",
       "2   3  Silver linden                  Tilia argentea   \n",
       "\n",
       "                                         description     wikipedia_id  \\\n",
       "0  Angelica is a genus of about 60 species of tal...         Angelica   \n",
       "1  Savoy cabbage (Brassica oleracea convar. capit...    Savoy cabbage   \n",
       "2  Tilia tomentosa (Silver Lime in the UK and Sil...  Tilia tomentosa   \n",
       "\n",
       "         food_group food_subgroup  \n",
       "0  Herbs and Spices         Herbs  \n",
       "1        Vegetables      Cabbages  \n",
       "2  Herbs and Spices         Herbs  "
      ]
     },
     "execution_count": 5,
     "metadata": {},
     "output_type": "execute_result"
    }
   ],
   "source": [
    "food.drop(columns=drop_columns, inplace=True)\n",
    "food.head(3)"
   ]
  },
  {
   "cell_type": "code",
   "execution_count": 6,
   "metadata": {},
   "outputs": [
    {
     "data": {
      "text/plain": [
       "{'id': 0.0,\n",
       " 'name': 0.0,\n",
       " 'name_scientific': 0.3196,\n",
       " 'description': 0.0474,\n",
       " 'wikipedia_id': 0.1401,\n",
       " 'food_group': 0.003,\n",
       " 'food_subgroup': 0.0071}"
      ]
     },
     "execution_count": 6,
     "metadata": {},
     "output_type": "execute_result"
    }
   ],
   "source": [
    "null_count = {}\n",
    "for col in food.columns:\n",
    "    null_count[col] = round(food[col].isna().sum()/rows, 4)\n",
    "    \n",
    "null_count"
   ]
  },
  {
   "cell_type": "code",
   "execution_count": 7,
   "metadata": {},
   "outputs": [
    {
     "data": {
      "text/plain": [
       "(945, 7)"
      ]
     },
     "execution_count": 7,
     "metadata": {},
     "output_type": "execute_result"
    }
   ],
   "source": [
    "food.dropna(subset=[\"description\"], inplace=True)\n",
    "food.shape"
   ]
  },
  {
   "cell_type": "markdown",
   "metadata": {},
   "source": [
    "---\n",
    "## EDA on \"food_group\" and \"food_subgroup\""
   ]
  },
  {
   "cell_type": "code",
   "execution_count": 8,
   "metadata": {},
   "outputs": [
    {
     "name": "stdout",
     "output_type": "stream",
     "text": [
      "nulls in 'food_subgroup': 2\n",
      "nulls in 'food_group': 2\n"
     ]
    }
   ],
   "source": [
    "print(f\"nulls in 'food_subgroup': {food['food_subgroup'].isna().sum()}\")\n",
    "print(f\"nulls in 'food_group': {food['food_group'].isna().sum()}\")"
   ]
  },
  {
   "cell_type": "code",
   "execution_count": 9,
   "metadata": {},
   "outputs": [
    {
     "data": {
      "text/plain": [
       "(943, 7)"
      ]
     },
     "execution_count": 9,
     "metadata": {},
     "output_type": "execute_result"
    }
   ],
   "source": [
    "food.dropna(subset=[\"food_group\", \"food_subgroup\"], inplace=True)\n",
    "food.shape"
   ]
  },
  {
   "cell_type": "code",
   "execution_count": 10,
   "metadata": {},
   "outputs": [
    {
     "data": {
      "text/plain": [
       "food_group\n",
       "Aquatic foods                  0.179215\n",
       "Fruits                         0.161188\n",
       "Vegetables                     0.144221\n",
       "Herbs and Spices               0.132556\n",
       "Dishes                         0.049841\n",
       "Cereals and cereal products    0.048780\n",
       "Milk and milk products         0.038176\n",
       "Beverages                      0.033934\n",
       "Animal foods                   0.030753\n",
       "Confectioneries                0.030753\n",
       "Pulses                         0.029692\n",
       "Nuts                           0.028632\n",
       "Baking goods                   0.027572\n",
       "Gourds                         0.020148\n",
       "Soy                            0.007423\n",
       "Teas                           0.007423\n",
       "Snack foods                    0.007423\n",
       "Fats and oils                  0.007423\n",
       "Cocoa and cocoa products       0.006363\n",
       "Coffee and coffee products     0.004242\n",
       "Eggs                           0.002121\n",
       "Baby foods                     0.001060\n",
       "Herbs and spices               0.001060\n",
       "Name: proportion, dtype: float64"
      ]
     },
     "execution_count": 10,
     "metadata": {},
     "output_type": "execute_result"
    }
   ],
   "source": [
    "food[\"food_group\"].value_counts(normalize=True)"
   ]
  },
  {
   "cell_type": "code",
   "execution_count": 1,
   "metadata": {},
   "outputs": [
    {
     "ename": "NameError",
     "evalue": "name 'food' is not defined",
     "output_type": "error",
     "traceback": [
      "\u001b[0;31m---------------------------------------------------------------------------\u001b[0m",
      "\u001b[0;31mNameError\u001b[0m                                 Traceback (most recent call last)",
      "Cell \u001b[0;32mIn[1], line 1\u001b[0m\n\u001b[0;32m----> 1\u001b[0m food[\u001b[38;5;124m\"\u001b[39m\u001b[38;5;124mfood_group\u001b[39m\u001b[38;5;124m\"\u001b[39m]\u001b[38;5;241m.\u001b[39munique()\n",
      "\u001b[0;31mNameError\u001b[0m: name 'food' is not defined"
     ]
    }
   ],
   "source": [
    "food[\"food_group\"].unique()"
   ]
  },
  {
   "cell_type": "code",
   "execution_count": 12,
   "metadata": {},
   "outputs": [
    {
     "data": {
      "image/png": "[encoded data removed]",
      "text/plain": [
       "<Figure size 640x480 with 1 Axes>"
      ]
     },
     "metadata": {},
     "output_type": "display_data"
    }
   ],
   "source": [
    "food.groupby(\"food_group\").size().sort_values(ascending=False).plot(kind=\"bar\");"
   ]
  },
  {
   "cell_type": "code",
   "execution_count": 13,
   "metadata": {},
   "outputs": [
    {
     "data": {
      "text/plain": [
       "array(['Herbs and Spices', 'Vegetables', 'Fruits', 'Nuts',\n",
       "       'Cereals and cereal products', 'Pulses', 'Teas', 'Gourds',\n",
       "       'Coffee and coffee products', 'Soy', 'Cocoa and cocoa products',\n",
       "       'Beverages', 'Aquatic foods', 'Animal foods',\n",
       "       'Milk and milk products', 'Eggs', 'Confectioneries',\n",
       "       'Baking goods', 'Dishes', 'Snack foods', 'Baby foods',\n",
       "       'Fats and oils'], dtype=object)"
      ]
     },
     "execution_count": 13,
     "metadata": {},
     "output_type": "execute_result"
    }
   ],
   "source": [
    "food[\"food_group\"] = food[\"food_group\"].str.replace(\"Herbs and spices\", \"Herbs and Spices\")\n",
    "food[\"food_group\"].unique()"
   ]
  },
  {
   "cell_type": "code",
   "execution_count": 14,
   "metadata": {},
   "outputs": [
    {
     "data": {
      "text/html": [
       "<div>\n",
       "<style scoped>\n",
       "    .dataframe tbody tr th:only-of-type {\n",
       "        vertical-align: middle;\n",
       "    }\n",
       "\n",
       "    .dataframe tbody tr th {\n",
       "        vertical-align: top;\n",
       "    }\n",
       "\n",
       "    .dataframe thead th {\n",
       "        text-align: right;\n",
       "    }\n",
       "</style>\n",
       "<table border=\"1\" class=\"dataframe\">\n",
       "  <thead>\n",
       "    <tr style=\"text-align: right;\">\n",
       "      <th></th>\n",
       "      <th>id</th>\n",
       "      <th>name</th>\n",
       "      <th>name_scientific</th>\n",
       "      <th>description</th>\n",
       "      <th>wikipedia_id</th>\n",
       "      <th>food_group</th>\n",
       "      <th>food_subgroup</th>\n",
       "    </tr>\n",
       "  </thead>\n",
       "  <tbody>\n",
       "    <tr>\n",
       "      <th>636</th>\n",
       "      <td>655</td>\n",
       "      <td>Pizza</td>\n",
       "      <td>NaN</td>\n",
       "      <td>Pizza is an oven-baked flat bread typically to...</td>\n",
       "      <td>Pizza</td>\n",
       "      <td>Dishes</td>\n",
       "      <td>Other dishes</td>\n",
       "    </tr>\n",
       "    <tr>\n",
       "      <th>651</th>\n",
       "      <td>671</td>\n",
       "      <td>Sausage</td>\n",
       "      <td>NaN</td>\n",
       "      <td>Sausage is a food usually made from ground mea...</td>\n",
       "      <td>Sausage</td>\n",
       "      <td>Dishes</td>\n",
       "      <td>Ground meat</td>\n",
       "    </tr>\n",
       "    <tr>\n",
       "      <th>652</th>\n",
       "      <td>672</td>\n",
       "      <td>Meatball</td>\n",
       "      <td>NaN</td>\n",
       "      <td>Meatball is made from an amount of ground meat...</td>\n",
       "      <td>Meatball</td>\n",
       "      <td>Dishes</td>\n",
       "      <td>Ground meat</td>\n",
       "    </tr>\n",
       "    <tr>\n",
       "      <th>654</th>\n",
       "      <td>674</td>\n",
       "      <td>Pate</td>\n",
       "      <td>NaN</td>\n",
       "      <td>Pâté is a mixture of ground meat and fat mince...</td>\n",
       "      <td>Pâté</td>\n",
       "      <td>Dishes</td>\n",
       "      <td>Ground meat</td>\n",
       "    </tr>\n",
       "    <tr>\n",
       "      <th>668</th>\n",
       "      <td>691</td>\n",
       "      <td>Dumpling</td>\n",
       "      <td>NaN</td>\n",
       "      <td>Dumplings are cooked balls of dough. They are ...</td>\n",
       "      <td>Dumpling</td>\n",
       "      <td>Dishes</td>\n",
       "      <td>Other dishes</td>\n",
       "    </tr>\n",
       "    <tr>\n",
       "      <th>669</th>\n",
       "      <td>692</td>\n",
       "      <td>Soup</td>\n",
       "      <td>NaN</td>\n",
       "      <td>Soup is a generally warm food that is made by ...</td>\n",
       "      <td>Soup</td>\n",
       "      <td>Dishes</td>\n",
       "      <td>Other dishes</td>\n",
       "    </tr>\n",
       "    <tr>\n",
       "      <th>703</th>\n",
       "      <td>728</td>\n",
       "      <td>Burrito</td>\n",
       "      <td>NaN</td>\n",
       "      <td>A burrito, or taco de harina, is a type of Mex...</td>\n",
       "      <td>Burrito</td>\n",
       "      <td>Dishes</td>\n",
       "      <td>Tex-Mex cuisine</td>\n",
       "    </tr>\n",
       "    <tr>\n",
       "      <th>704</th>\n",
       "      <td>729</td>\n",
       "      <td>Hamburger</td>\n",
       "      <td>NaN</td>\n",
       "      <td>A hamburger (also called a hamburger sandwich ...</td>\n",
       "      <td>Hamburger</td>\n",
       "      <td>Dishes</td>\n",
       "      <td>Sandwiches</td>\n",
       "    </tr>\n",
       "    <tr>\n",
       "      <th>705</th>\n",
       "      <td>730</td>\n",
       "      <td>Baked beans</td>\n",
       "      <td>NaN</td>\n",
       "      <td>Baked beans is a dish containing beans, someti...</td>\n",
       "      <td>Baked_beans</td>\n",
       "      <td>Dishes</td>\n",
       "      <td>Other dishes</td>\n",
       "    </tr>\n",
       "    <tr>\n",
       "      <th>706</th>\n",
       "      <td>731</td>\n",
       "      <td>Chili</td>\n",
       "      <td>NaN</td>\n",
       "      <td>Chili con carne (often known simply as chili) ...</td>\n",
       "      <td>Chili_con_carne</td>\n",
       "      <td>Dishes</td>\n",
       "      <td>Tex-Mex cuisine</td>\n",
       "    </tr>\n",
       "  </tbody>\n",
       "</table>\n",
       "</div>"
      ],
      "text/plain": [
       "      id         name name_scientific  \\\n",
       "636  655        Pizza             NaN   \n",
       "651  671      Sausage             NaN   \n",
       "652  672     Meatball             NaN   \n",
       "654  674         Pate             NaN   \n",
       "668  691     Dumpling             NaN   \n",
       "669  692         Soup             NaN   \n",
       "703  728      Burrito             NaN   \n",
       "704  729    Hamburger             NaN   \n",
       "705  730  Baked beans             NaN   \n",
       "706  731        Chili             NaN   \n",
       "\n",
       "                                           description     wikipedia_id  \\\n",
       "636  Pizza is an oven-baked flat bread typically to...            Pizza   \n",
       "651  Sausage is a food usually made from ground mea...          Sausage   \n",
       "652  Meatball is made from an amount of ground meat...         Meatball   \n",
       "654  Pâté is a mixture of ground meat and fat mince...             Pâté   \n",
       "668  Dumplings are cooked balls of dough. They are ...         Dumpling   \n",
       "669  Soup is a generally warm food that is made by ...             Soup   \n",
       "703  A burrito, or taco de harina, is a type of Mex...          Burrito   \n",
       "704  A hamburger (also called a hamburger sandwich ...        Hamburger   \n",
       "705  Baked beans is a dish containing beans, someti...      Baked_beans   \n",
       "706  Chili con carne (often known simply as chili) ...  Chili_con_carne   \n",
       "\n",
       "    food_group    food_subgroup  \n",
       "636     Dishes     Other dishes  \n",
       "651     Dishes      Ground meat  \n",
       "652     Dishes      Ground meat  \n",
       "654     Dishes      Ground meat  \n",
       "668     Dishes     Other dishes  \n",
       "669     Dishes     Other dishes  \n",
       "703     Dishes  Tex-Mex cuisine  \n",
       "704     Dishes       Sandwiches  \n",
       "705     Dishes     Other dishes  \n",
       "706     Dishes  Tex-Mex cuisine  "
      ]
     },
     "execution_count": 14,
     "metadata": {},
     "output_type": "execute_result"
    }
   ],
   "source": [
    "# \"Dishes\"??? what kind of label is that\n",
    "food.loc[food[\"food_group\"] == \"Dishes\"].head(10)"
   ]
  },
  {
   "cell_type": "code",
   "execution_count": 15,
   "metadata": {},
   "outputs": [
    {
     "data": {
      "text/html": [
       "<div>\n",
       "<style scoped>\n",
       "    .dataframe tbody tr th:only-of-type {\n",
       "        vertical-align: middle;\n",
       "    }\n",
       "\n",
       "    .dataframe tbody tr th {\n",
       "        vertical-align: top;\n",
       "    }\n",
       "\n",
       "    .dataframe thead th {\n",
       "        text-align: right;\n",
       "    }\n",
       "</style>\n",
       "<table border=\"1\" class=\"dataframe\">\n",
       "  <thead>\n",
       "    <tr style=\"text-align: right;\">\n",
       "      <th></th>\n",
       "      <th>id</th>\n",
       "      <th>name</th>\n",
       "      <th>name_scientific</th>\n",
       "      <th>description</th>\n",
       "      <th>wikipedia_id</th>\n",
       "      <th>food_group</th>\n",
       "      <th>food_subgroup</th>\n",
       "    </tr>\n",
       "  </thead>\n",
       "  <tbody>\n",
       "    <tr>\n",
       "      <th>667</th>\n",
       "      <td>690</td>\n",
       "      <td>Baby food</td>\n",
       "      <td>NaN</td>\n",
       "      <td>Baby food is any soft, easily consumed food, o...</td>\n",
       "      <td>Baby food</td>\n",
       "      <td>Baby foods</td>\n",
       "      <td>Baby foods</td>\n",
       "    </tr>\n",
       "  </tbody>\n",
       "</table>\n",
       "</div>"
      ],
      "text/plain": [
       "      id       name name_scientific  \\\n",
       "667  690  Baby food             NaN   \n",
       "\n",
       "                                           description wikipedia_id  \\\n",
       "667  Baby food is any soft, easily consumed food, o...    Baby food   \n",
       "\n",
       "     food_group food_subgroup  \n",
       "667  Baby foods    Baby foods  "
      ]
     },
     "execution_count": 15,
     "metadata": {},
     "output_type": "execute_result"
    }
   ],
   "source": [
    "food.loc[food[\"food_group\"] == \"Baby foods\"].head()"
   ]
  },
  {
   "cell_type": "code",
   "execution_count": 16,
   "metadata": {},
   "outputs": [
    {
     "data": {
      "text/plain": [
       "22"
      ]
     },
     "execution_count": 16,
     "metadata": {},
     "output_type": "execute_result"
    }
   ],
   "source": [
    "len(food[\"food_group\"].unique())"
   ]
  },
  {
   "cell_type": "code",
   "execution_count": 17,
   "metadata": {},
   "outputs": [
    {
     "data": {
      "text/plain": [
       "112"
      ]
     },
     "execution_count": 17,
     "metadata": {},
     "output_type": "execute_result"
    }
   ],
   "source": [
    "len(food[\"food_subgroup\"].unique())"
   ]
  },
  {
   "cell_type": "code",
   "execution_count": 18,
   "metadata": {},
   "outputs": [
    {
     "data": {
      "text/plain": [
       "food_subgroup\n",
       "Fishes                 112\n",
       "Mollusks                18\n",
       "Crustaceans             12\n",
       "Seaweed                  9\n",
       "Pinnipeds                6\n",
       "Other aquatic foods      5\n",
       "Cetaceans                3\n",
       "Amphibians               1\n",
       "Fish products            1\n",
       "Roe                      1\n",
       "Bivalvia                 1\n",
       "Name: count, dtype: int64"
      ]
     },
     "execution_count": 18,
     "metadata": {},
     "output_type": "execute_result"
    }
   ],
   "source": [
    "fishy = food.loc[food[\"food_group\"] == \"Aquatic foods\"]\n",
    "fishy[\"food_subgroup\"].value_counts()"
   ]
  },
  {
   "cell_type": "markdown",
   "metadata": {},
   "source": [
    "---\n",
    "## prepare data for modeling\n",
    "- combine text columns, except for \"food_group\""
   ]
  },
  {
   "cell_type": "code",
   "execution_count": 19,
   "metadata": {},
   "outputs": [
    {
     "data": {
      "text/plain": [
       "['name', 'name_scientific', 'description', 'wikipedia_id', 'food_subgroup']"
      ]
     },
     "execution_count": 19,
     "metadata": {},
     "output_type": "execute_result"
    }
   ],
   "source": [
    "text_cols = list(food.columns)\n",
    "text_cols.remove(\"food_group\")\n",
    "text_cols.remove(\"id\")\n",
    "text_cols"
   ]
  },
  {
   "cell_type": "code",
   "execution_count": 20,
   "metadata": {},
   "outputs": [
    {
     "data": {
      "text/plain": [
       "0    Angelica Angelica keiskei Angelica is a genus ...\n",
       "1    Savoy cabbage Brassica oleracea var. sabauda S...\n",
       "2    Silver linden Tilia argentea Tilia tomentosa (...\n",
       "Name: all_text, dtype: object"
      ]
     },
     "execution_count": 20,
     "metadata": {},
     "output_type": "execute_result"
    }
   ],
   "source": [
    "food.fillna(\"\", inplace=True)\n",
    "\n",
    "food[\"all_text\"] = food[text_cols].apply(\" \".join, axis=1)\n",
    "food[\"all_text\"].head(3)"
   ]
  },
  {
   "cell_type": "markdown",
   "metadata": {},
   "source": [
    "---\n",
    "### transform target\n",
    "- there are 22 labels in the \"food_group\" column\n",
    "- considering a few different ways to encode those labels:\n",
    "    - label encoder: just assigns a numerical value to each label\n",
    "    - one-hot encoder: sparse array of binary values -- can\"t use this on a target\n",
    "    - get_dummies: primary disadvantage of this option is that it doesn\"t generate an encoder object with attributes -- can\"t use this on a target\n",
    "    - <s>target encoder: calculates the probability of each label occurring</s>\n",
    "- since some of the labels have very few instances in the data, I\"m using cross-validation to evaluate thse encoders rather than train/test split\n",
    "- I read a bunch of articles about different ways to encode target variables. These are my primary sources for the encodings I\"ve tried here:\n",
    "    - [this one](https://towardsdatascience.com/categorical-encoding-using-label-encoding-and-one-hot-encoder-911ef77fb5bd) included label and one hot encoding\n",
    "    - [this one](https://medium.com/analytics-vidhya/target-encoding-vs-one-hot-encoding-with-simple-examples-276a7e7b3e64) covered target and one hot encoding \n",
    "    - [this one](https://vitalflux.com/one-hot-encoding-concepts-python-code-examples/) included a section about the pros & cons of using one hot encoding\n",
    "    - [this one](https://towardsdatascience.com/dealing-with-categorical-variables-by-using-target-encoder-a0f1733a4c69) went into more detail about target encoding...and pretty much convinced me not to try it on the food table, given the infrequency of some of the labels. Might try it on the content table, depending on the distribution.\n",
    "    - [this answer](https://stackoverflow.com/questions/36631163/what-are-the-pros-and-cons-between-get-dummies-pandas-and-onehotencoder-sciki) on stack overflow on using sklearn\"s OHE vs. `get_dummies`"
   ]
  },
  {
   "cell_type": "code",
   "execution_count": 21,
   "metadata": {},
   "outputs": [],
   "source": [
    "label_encoder = LabelEncoder()\n",
    "label_enc_y = label_encoder.fit_transform(food[\"food_group\"])"
   ]
  },
  {
   "cell_type": "code",
   "execution_count": 22,
   "metadata": {},
   "outputs": [
    {
     "data": {
      "text/plain": [
       "0.6744455701902511"
      ]
     },
     "execution_count": 22,
     "metadata": {},
     "output_type": "execute_result"
    }
   ],
   "source": [
    "tfidf = TfidfVectorizer(stop_words=\"english\")\n",
    "tfidf_x = tfidf.fit_transform(food[\"all_text\"])\n",
    "\n",
    "lr = LogisticRegression(max_iter=1000)\n",
    "cross_val_score(lr, tfidf_x, label_enc_y, cv=5).mean()"
   ]
  },
  {
   "cell_type": "markdown",
   "metadata": {},
   "source": [
    "## build pipelines\n",
    "### references for choosing these hyperparameter options:\n",
    "- [svc](https://www.baeldung.com/cs/svm-multiclass-classification) kernel options"
   ]
  },
  {
   "cell_type": "code",
   "execution_count": 23,
   "metadata": {},
   "outputs": [],
   "source": [
    "# now that I know my label_encoder works, defining params for the different models I want to try\n",
    "pipe_params = {\n",
    "    \"tfidf__max_features\": [None, 250, 300],\n",
    "    \"tfidf__min_df\": [1, 0.01, 0.05],\n",
    "    \"tfidf__max_df\": [1.0, 0.98, 0.95, 0.9],\n",
    "    \"tfidf__ngram_range\": [(1,1), (1,2), (1,3)],\n",
    "    \"lr__solver\": [\"lbfgs\", \"liblinear\"],\n",
    "    \"lr__C\": [1.0, 0.1, 10],\n",
    "    \"multi__alpha\": [1.0, 0.5],\n",
    "    \"rfc__n_estimators\": [100, 50, 150],\n",
    "    \"rfc__max_depth\": [None, 5, 10],\n",
    "    \"rfc__min_samples_split\": [2, 5, 7],\n",
    "    \"rfc__min_samples_leaf\": [1, 2, 3],\n",
    "    \"rfc__bootstrap\": [True, False],\n",
    "    \"knn__n_neighbors\": range(1,11),\n",
    "    \"knn__weights\": [\"uniform\", \"distance\"],\n",
    "    \"knn__p\": [1, 2],\n",
    "    \"svc__C\": [1.0, 0.1, 10],\n",
    "    \"svc__kernel\": [\"poly\", \"rbf\"],   \n",
    "}"
   ]
  },
  {
   "cell_type": "code",
   "execution_count": 24,
   "metadata": {},
   "outputs": [],
   "source": [
    "# and the components\n",
    "vectorizer = (\"tfidf\", TfidfVectorizer(stop_words=\"english\"))\n",
    "lr_tuple = (\"lr\", LogisticRegression(max_iter=1000))\n",
    "multi_tuple = (\"multi\", MultinomialNB())\n",
    "rand_forest_tuple = (\"rfc\", RandomForestClassifier(n_jobs=-1))\n",
    "knn_tuple = (\"knn\", KNeighborsClassifier())\n",
    "svc_tuple = (\"svc\", SVC(random_state=42))\n",
    "\n",
    "model_options = [lr_tuple, multi_tuple, rand_forest_tuple, knn_tuple, svc_tuple]"
   ]
  },
  {
   "cell_type": "code",
   "execution_count": 48,
   "metadata": {},
   "outputs": [
    {
     "name": "stdout",
     "output_type": "stream",
     "text": [
      "starting lr grid search\n",
      "again!\n",
      "Fitting 5 folds for each of 648 candidates, totalling 3240 fits\n"
     ]
    },
    {
     "name": "stderr",
     "output_type": "stream",
     "text": [
      "/Users/heathercait/anaconda3/envs/capstone/lib/python3.12/site-packages/sklearn/metrics/_classification.py:2458: UserWarning: y_pred contains classes not in y_true\n",
      "  warnings.warn(\"y_pred contains classes not in y_true\")\n",
      "/Users/heathercait/anaconda3/envs/capstone/lib/python3.12/site-packages/sklearn/metrics/_classification.py:2458: UserWarning: y_pred contains classes not in y_true\n",
      "  warnings.warn(\"y_pred contains classes not in y_true\")\n",
      "/Users/heathercait/anaconda3/envs/capstone/lib/python3.12/site-packages/sklearn/metrics/_classification.py:2458: UserWarning: y_pred contains classes not in y_true\n",
      "  warnings.warn(\"y_pred contains classes not in y_true\")\n",
      "/Users/heathercait/anaconda3/envs/capstone/lib/python3.12/site-packages/sklearn/metrics/_classification.py:2458: UserWarning: y_pred contains classes not in y_true\n",
      "  warnings.warn(\"y_pred contains classes not in y_true\")\n",
      "/Users/heathercait/anaconda3/envs/capstone/lib/python3.12/site-packages/sklearn/metrics/_classification.py:2458: UserWarning: y_pred contains classes not in y_true\n",
      "  warnings.warn(\"y_pred contains classes not in y_true\")\n",
      "/Users/heathercait/anaconda3/envs/capstone/lib/python3.12/site-packages/sklearn/metrics/_classification.py:2458: UserWarning: y_pred contains classes not in y_true\n",
      "  warnings.warn(\"y_pred contains classes not in y_true\")\n",
      "/Users/heathercait/anaconda3/envs/capstone/lib/python3.12/site-packages/sklearn/metrics/_classification.py:2458: UserWarning: y_pred contains classes not in y_true\n",
      "  warnings.warn(\"y_pred contains classes not in y_true\")\n",
      "/Users/heathercait/anaconda3/envs/capstone/lib/python3.12/site-packages/sklearn/metrics/_classification.py:2458: UserWarning: y_pred contains classes not in y_true\n",
      "  warnings.warn(\"y_pred contains classes not in y_true\")\n",
      "/Users/heathercait/anaconda3/envs/capstone/lib/python3.12/site-packages/sklearn/metrics/_classification.py:2458: UserWarning: y_pred contains classes not in y_true\n",
      "  warnings.warn(\"y_pred contains classes not in y_true\")\n",
      "/Users/heathercait/anaconda3/envs/capstone/lib/python3.12/site-packages/sklearn/metrics/_classification.py:2458: UserWarning: y_pred contains classes not in y_true\n",
      "  warnings.warn(\"y_pred contains classes not in y_true\")\n",
      "/Users/heathercait/anaconda3/envs/capstone/lib/python3.12/site-packages/sklearn/metrics/_classification.py:2458: UserWarning: y_pred contains classes not in y_true\n",
      "  warnings.warn(\"y_pred contains classes not in y_true\")\n",
      "/Users/heathercait/anaconda3/envs/capstone/lib/python3.12/site-packages/sklearn/metrics/_classification.py:2458: UserWarning: y_pred contains classes not in y_true\n",
      "  warnings.warn(\"y_pred contains classes not in y_true\")\n"
     ]
    },
    {
     "ename": "KeyboardInterrupt",
     "evalue": "",
     "output_type": "error",
     "traceback": [
      "\u001b[0;31m---------------------------------------------------------------------------\u001b[0m",
      "\u001b[0;31mKeyboardInterrupt\u001b[0m                         Traceback (most recent call last)",
      "Cell \u001b[0;32mIn[48], line 8\u001b[0m\n\u001b[1;32m      6\u001b[0m pipe_components \u001b[38;5;241m=\u001b[39m [vectorizer, model]\n\u001b[1;32m      7\u001b[0m \u001b[38;5;28mprint\u001b[39m(\u001b[38;5;124mf\u001b[39m\u001b[38;5;124m\"\u001b[39m\u001b[38;5;124mstarting \u001b[39m\u001b[38;5;132;01m{\u001b[39;00mmodel[\u001b[38;5;241m0\u001b[39m]\u001b[38;5;132;01m}\u001b[39;00m\u001b[38;5;124m grid search\u001b[39m\u001b[38;5;124m\"\u001b[39m)\n\u001b[0;32m----> 8\u001b[0m est \u001b[38;5;241m=\u001b[39m modeling\u001b[38;5;241m.\u001b[39mtrain_save_best_model(pipe\u001b[38;5;241m=\u001b[39mpipe_components, pipe_params\u001b[38;5;241m=\u001b[39mpipe_params, X_train\u001b[38;5;241m=\u001b[39mfood[\u001b[38;5;124m\"\u001b[39m\u001b[38;5;124mall_text\u001b[39m\u001b[38;5;124m\"\u001b[39m],\n\u001b[1;32m      9\u001b[0m                                y_train\u001b[38;5;241m=\u001b[39mlabel_enc_y, file_path\u001b[38;5;241m=\u001b[39m\u001b[38;5;124mf\u001b[39m\u001b[38;5;124m\"\u001b[39m\u001b[38;5;124mmodels/\u001b[39m\u001b[38;5;132;01m{\u001b[39;00mmodel[\u001b[38;5;241m0\u001b[39m]\u001b[38;5;132;01m}\u001b[39;00m\u001b[38;5;124m.pkl\u001b[39m\u001b[38;5;124m\"\u001b[39m)\n\u001b[1;32m     10\u001b[0m estimators\u001b[38;5;241m.\u001b[39mappend(est)\n",
      "File \u001b[0;32m~/workspace/general_assembly/projects/ga-capstone/modeling.py:61\u001b[0m, in \u001b[0;36mtrain_save_best_model\u001b[0;34m(pipe, pipe_params, X_train, y_train, file_path)\u001b[0m\n\u001b[1;32m     59\u001b[0m \u001b[38;5;28;01mdef\u001b[39;00m \u001b[38;5;21mtrain_save_best_model\u001b[39m(pipe: Pipeline, pipe_params: \u001b[38;5;28mdict\u001b[39m[\u001b[38;5;28mstr\u001b[39m, \u001b[38;5;28many\u001b[39m], X_train: pd\u001b[38;5;241m.\u001b[39mDataFrame, y_train: pd\u001b[38;5;241m.\u001b[39mSeries, file_path: \u001b[38;5;28mstr\u001b[39m):\n\u001b[1;32m     60\u001b[0m     gs \u001b[38;5;241m=\u001b[39m generate_gs(pipe, pipe_params)\n\u001b[0;32m---> 61\u001b[0m     gs\u001b[38;5;241m.\u001b[39mfit(X_train, y_train)\n\u001b[1;32m     62\u001b[0m     \u001b[38;5;28;01mwith\u001b[39;00m \u001b[38;5;28mopen\u001b[39m(file_path, \u001b[38;5;124m\"\u001b[39m\u001b[38;5;124mwb\u001b[39m\u001b[38;5;124m\"\u001b[39m) \u001b[38;5;28;01mas\u001b[39;00m f:\n\u001b[1;32m     63\u001b[0m         pickle\u001b[38;5;241m.\u001b[39mdump(gs\u001b[38;5;241m.\u001b[39mbest_estimator_, f)\n",
      "File \u001b[0;32m~/anaconda3/envs/capstone/lib/python3.12/site-packages/sklearn/base.py:1474\u001b[0m, in \u001b[0;36m_fit_context.<locals>.decorator.<locals>.wrapper\u001b[0;34m(estimator, *args, **kwargs)\u001b[0m\n\u001b[1;32m   1467\u001b[0m     estimator\u001b[38;5;241m.\u001b[39m_validate_params()\n\u001b[1;32m   1469\u001b[0m \u001b[38;5;28;01mwith\u001b[39;00m config_context(\n\u001b[1;32m   1470\u001b[0m     skip_parameter_validation\u001b[38;5;241m=\u001b[39m(\n\u001b[1;32m   1471\u001b[0m         prefer_skip_nested_validation \u001b[38;5;129;01mor\u001b[39;00m global_skip_validation\n\u001b[1;32m   1472\u001b[0m     )\n\u001b[1;32m   1473\u001b[0m ):\n\u001b[0;32m-> 1474\u001b[0m     \u001b[38;5;28;01mreturn\u001b[39;00m fit_method(estimator, \u001b[38;5;241m*\u001b[39margs, \u001b[38;5;241m*\u001b[39m\u001b[38;5;241m*\u001b[39mkwargs)\n",
      "File \u001b[0;32m~/anaconda3/envs/capstone/lib/python3.12/site-packages/sklearn/model_selection/_search.py:970\u001b[0m, in \u001b[0;36mBaseSearchCV.fit\u001b[0;34m(self, X, y, **params)\u001b[0m\n\u001b[1;32m    964\u001b[0m     results \u001b[38;5;241m=\u001b[39m \u001b[38;5;28mself\u001b[39m\u001b[38;5;241m.\u001b[39m_format_results(\n\u001b[1;32m    965\u001b[0m         all_candidate_params, n_splits, all_out, all_more_results\n\u001b[1;32m    966\u001b[0m     )\n\u001b[1;32m    968\u001b[0m     \u001b[38;5;28;01mreturn\u001b[39;00m results\n\u001b[0;32m--> 970\u001b[0m \u001b[38;5;28mself\u001b[39m\u001b[38;5;241m.\u001b[39m_run_search(evaluate_candidates)\n\u001b[1;32m    972\u001b[0m \u001b[38;5;66;03m# multimetric is determined here because in the case of a callable\u001b[39;00m\n\u001b[1;32m    973\u001b[0m \u001b[38;5;66;03m# self.scoring the return type is only known after calling\u001b[39;00m\n\u001b[1;32m    974\u001b[0m first_test_score \u001b[38;5;241m=\u001b[39m all_out[\u001b[38;5;241m0\u001b[39m][\u001b[38;5;124m\"\u001b[39m\u001b[38;5;124mtest_scores\u001b[39m\u001b[38;5;124m\"\u001b[39m]\n",
      "File \u001b[0;32m~/anaconda3/envs/capstone/lib/python3.12/site-packages/sklearn/model_selection/_search.py:1527\u001b[0m, in \u001b[0;36mGridSearchCV._run_search\u001b[0;34m(self, evaluate_candidates)\u001b[0m\n\u001b[1;32m   1525\u001b[0m \u001b[38;5;28;01mdef\u001b[39;00m \u001b[38;5;21m_run_search\u001b[39m(\u001b[38;5;28mself\u001b[39m, evaluate_candidates):\n\u001b[1;32m   1526\u001b[0m \u001b[38;5;250m    \u001b[39m\u001b[38;5;124;03m\"\"\"Search all candidates in param_grid\"\"\"\u001b[39;00m\n\u001b[0;32m-> 1527\u001b[0m     evaluate_candidates(ParameterGrid(\u001b[38;5;28mself\u001b[39m\u001b[38;5;241m.\u001b[39mparam_grid))\n",
      "File \u001b[0;32m~/anaconda3/envs/capstone/lib/python3.12/site-packages/sklearn/model_selection/_search.py:916\u001b[0m, in \u001b[0;36mBaseSearchCV.fit.<locals>.evaluate_candidates\u001b[0;34m(candidate_params, cv, more_results)\u001b[0m\n\u001b[1;32m    908\u001b[0m \u001b[38;5;28;01mif\u001b[39;00m \u001b[38;5;28mself\u001b[39m\u001b[38;5;241m.\u001b[39mverbose \u001b[38;5;241m>\u001b[39m \u001b[38;5;241m0\u001b[39m:\n\u001b[1;32m    909\u001b[0m     \u001b[38;5;28mprint\u001b[39m(\n\u001b[1;32m    910\u001b[0m         \u001b[38;5;124m\"\u001b[39m\u001b[38;5;124mFitting \u001b[39m\u001b[38;5;132;01m{0}\u001b[39;00m\u001b[38;5;124m folds for each of \u001b[39m\u001b[38;5;132;01m{1}\u001b[39;00m\u001b[38;5;124m candidates,\u001b[39m\u001b[38;5;124m\"\u001b[39m\n\u001b[1;32m    911\u001b[0m         \u001b[38;5;124m\"\u001b[39m\u001b[38;5;124m totalling \u001b[39m\u001b[38;5;132;01m{2}\u001b[39;00m\u001b[38;5;124m fits\u001b[39m\u001b[38;5;124m\"\u001b[39m\u001b[38;5;241m.\u001b[39mformat(\n\u001b[1;32m    912\u001b[0m             n_splits, n_candidates, n_candidates \u001b[38;5;241m*\u001b[39m n_splits\n\u001b[1;32m    913\u001b[0m         )\n\u001b[1;32m    914\u001b[0m     )\n\u001b[0;32m--> 916\u001b[0m out \u001b[38;5;241m=\u001b[39m parallel(\n\u001b[1;32m    917\u001b[0m     delayed(_fit_and_score)(\n\u001b[1;32m    918\u001b[0m         clone(base_estimator),\n\u001b[1;32m    919\u001b[0m         X,\n\u001b[1;32m    920\u001b[0m         y,\n\u001b[1;32m    921\u001b[0m         train\u001b[38;5;241m=\u001b[39mtrain,\n\u001b[1;32m    922\u001b[0m         test\u001b[38;5;241m=\u001b[39mtest,\n\u001b[1;32m    923\u001b[0m         parameters\u001b[38;5;241m=\u001b[39mparameters,\n\u001b[1;32m    924\u001b[0m         split_progress\u001b[38;5;241m=\u001b[39m(split_idx, n_splits),\n\u001b[1;32m    925\u001b[0m         candidate_progress\u001b[38;5;241m=\u001b[39m(cand_idx, n_candidates),\n\u001b[1;32m    926\u001b[0m         \u001b[38;5;241m*\u001b[39m\u001b[38;5;241m*\u001b[39mfit_and_score_kwargs,\n\u001b[1;32m    927\u001b[0m     )\n\u001b[1;32m    928\u001b[0m     \u001b[38;5;28;01mfor\u001b[39;00m (cand_idx, parameters), (split_idx, (train, test)) \u001b[38;5;129;01min\u001b[39;00m product(\n\u001b[1;32m    929\u001b[0m         \u001b[38;5;28menumerate\u001b[39m(candidate_params),\n\u001b[1;32m    930\u001b[0m         \u001b[38;5;28menumerate\u001b[39m(cv\u001b[38;5;241m.\u001b[39msplit(X, y, \u001b[38;5;241m*\u001b[39m\u001b[38;5;241m*\u001b[39mrouted_params\u001b[38;5;241m.\u001b[39msplitter\u001b[38;5;241m.\u001b[39msplit)),\n\u001b[1;32m    931\u001b[0m     )\n\u001b[1;32m    932\u001b[0m )\n\u001b[1;32m    934\u001b[0m \u001b[38;5;28;01mif\u001b[39;00m \u001b[38;5;28mlen\u001b[39m(out) \u001b[38;5;241m<\u001b[39m \u001b[38;5;241m1\u001b[39m:\n\u001b[1;32m    935\u001b[0m     \u001b[38;5;28;01mraise\u001b[39;00m \u001b[38;5;167;01mValueError\u001b[39;00m(\n\u001b[1;32m    936\u001b[0m         \u001b[38;5;124m\"\u001b[39m\u001b[38;5;124mNo fits were performed. \u001b[39m\u001b[38;5;124m\"\u001b[39m\n\u001b[1;32m    937\u001b[0m         \u001b[38;5;124m\"\u001b[39m\u001b[38;5;124mWas the CV iterator empty? \u001b[39m\u001b[38;5;124m\"\u001b[39m\n\u001b[1;32m    938\u001b[0m         \u001b[38;5;124m\"\u001b[39m\u001b[38;5;124mWere there no candidates?\u001b[39m\u001b[38;5;124m\"\u001b[39m\n\u001b[1;32m    939\u001b[0m     )\n",
      "File \u001b[0;32m~/anaconda3/envs/capstone/lib/python3.12/site-packages/sklearn/utils/parallel.py:67\u001b[0m, in \u001b[0;36mParallel.__call__\u001b[0;34m(self, iterable)\u001b[0m\n\u001b[1;32m     62\u001b[0m config \u001b[38;5;241m=\u001b[39m get_config()\n\u001b[1;32m     63\u001b[0m iterable_with_config \u001b[38;5;241m=\u001b[39m (\n\u001b[1;32m     64\u001b[0m     (_with_config(delayed_func, config), args, kwargs)\n\u001b[1;32m     65\u001b[0m     \u001b[38;5;28;01mfor\u001b[39;00m delayed_func, args, kwargs \u001b[38;5;129;01min\u001b[39;00m iterable\n\u001b[1;32m     66\u001b[0m )\n\u001b[0;32m---> 67\u001b[0m \u001b[38;5;28;01mreturn\u001b[39;00m \u001b[38;5;28msuper\u001b[39m()\u001b[38;5;241m.\u001b[39m\u001b[38;5;21m__call__\u001b[39m(iterable_with_config)\n",
      "File \u001b[0;32m~/anaconda3/envs/capstone/lib/python3.12/site-packages/joblib/parallel.py:1952\u001b[0m, in \u001b[0;36mParallel.__call__\u001b[0;34m(self, iterable)\u001b[0m\n\u001b[1;32m   1946\u001b[0m \u001b[38;5;66;03m# The first item from the output is blank, but it makes the interpreter\u001b[39;00m\n\u001b[1;32m   1947\u001b[0m \u001b[38;5;66;03m# progress until it enters the Try/Except block of the generator and\u001b[39;00m\n\u001b[1;32m   1948\u001b[0m \u001b[38;5;66;03m# reach the first `yield` statement. This starts the aynchronous\u001b[39;00m\n\u001b[1;32m   1949\u001b[0m \u001b[38;5;66;03m# dispatch of the tasks to the workers.\u001b[39;00m\n\u001b[1;32m   1950\u001b[0m \u001b[38;5;28mnext\u001b[39m(output)\n\u001b[0;32m-> 1952\u001b[0m \u001b[38;5;28;01mreturn\u001b[39;00m output \u001b[38;5;28;01mif\u001b[39;00m \u001b[38;5;28mself\u001b[39m\u001b[38;5;241m.\u001b[39mreturn_generator \u001b[38;5;28;01melse\u001b[39;00m \u001b[38;5;28mlist\u001b[39m(output)\n",
      "File \u001b[0;32m~/anaconda3/envs/capstone/lib/python3.12/site-packages/joblib/parallel.py:1595\u001b[0m, in \u001b[0;36mParallel._get_outputs\u001b[0;34m(self, iterator, pre_dispatch)\u001b[0m\n\u001b[1;32m   1592\u001b[0m     \u001b[38;5;28;01myield\u001b[39;00m\n\u001b[1;32m   1594\u001b[0m     \u001b[38;5;28;01mwith\u001b[39;00m \u001b[38;5;28mself\u001b[39m\u001b[38;5;241m.\u001b[39m_backend\u001b[38;5;241m.\u001b[39mretrieval_context():\n\u001b[0;32m-> 1595\u001b[0m         \u001b[38;5;28;01myield from\u001b[39;00m \u001b[38;5;28mself\u001b[39m\u001b[38;5;241m.\u001b[39m_retrieve()\n\u001b[1;32m   1597\u001b[0m \u001b[38;5;28;01mexcept\u001b[39;00m \u001b[38;5;167;01mGeneratorExit\u001b[39;00m:\n\u001b[1;32m   1598\u001b[0m     \u001b[38;5;66;03m# The generator has been garbage collected before being fully\u001b[39;00m\n\u001b[1;32m   1599\u001b[0m     \u001b[38;5;66;03m# consumed. This aborts the remaining tasks if possible and warn\u001b[39;00m\n\u001b[1;32m   1600\u001b[0m     \u001b[38;5;66;03m# the user if necessary.\u001b[39;00m\n\u001b[1;32m   1601\u001b[0m     \u001b[38;5;28mself\u001b[39m\u001b[38;5;241m.\u001b[39m_exception \u001b[38;5;241m=\u001b[39m \u001b[38;5;28;01mTrue\u001b[39;00m\n",
      "File \u001b[0;32m~/anaconda3/envs/capstone/lib/python3.12/site-packages/joblib/parallel.py:1707\u001b[0m, in \u001b[0;36mParallel._retrieve\u001b[0;34m(self)\u001b[0m\n\u001b[1;32m   1702\u001b[0m \u001b[38;5;66;03m# If the next job is not ready for retrieval yet, we just wait for\u001b[39;00m\n\u001b[1;32m   1703\u001b[0m \u001b[38;5;66;03m# async callbacks to progress.\u001b[39;00m\n\u001b[1;32m   1704\u001b[0m \u001b[38;5;28;01mif\u001b[39;00m ((\u001b[38;5;28mlen\u001b[39m(\u001b[38;5;28mself\u001b[39m\u001b[38;5;241m.\u001b[39m_jobs) \u001b[38;5;241m==\u001b[39m \u001b[38;5;241m0\u001b[39m) \u001b[38;5;129;01mor\u001b[39;00m\n\u001b[1;32m   1705\u001b[0m     (\u001b[38;5;28mself\u001b[39m\u001b[38;5;241m.\u001b[39m_jobs[\u001b[38;5;241m0\u001b[39m]\u001b[38;5;241m.\u001b[39mget_status(\n\u001b[1;32m   1706\u001b[0m         timeout\u001b[38;5;241m=\u001b[39m\u001b[38;5;28mself\u001b[39m\u001b[38;5;241m.\u001b[39mtimeout) \u001b[38;5;241m==\u001b[39m TASK_PENDING)):\n\u001b[0;32m-> 1707\u001b[0m     time\u001b[38;5;241m.\u001b[39msleep(\u001b[38;5;241m0.01\u001b[39m)\n\u001b[1;32m   1708\u001b[0m     \u001b[38;5;28;01mcontinue\u001b[39;00m\n\u001b[1;32m   1710\u001b[0m \u001b[38;5;66;03m# We need to be careful: the job list can be filling up as\u001b[39;00m\n\u001b[1;32m   1711\u001b[0m \u001b[38;5;66;03m# we empty it and Python list are not thread-safe by\u001b[39;00m\n\u001b[1;32m   1712\u001b[0m \u001b[38;5;66;03m# default hence the use of the lock\u001b[39;00m\n",
      "\u001b[0;31mKeyboardInterrupt\u001b[0m: "
     ]
    }
   ],
   "source": [
    "# this raises a warning on the \"food\" data:\n",
    "# UserWarning: y_pred contains classes not in y_true - warnings.warn(\"y_pred contains classes not in y_true\")\n",
    "#  which makes sense because there are a couple of \"food_group\" labels with only 1 or 2 instances in that df\n",
    "\n",
    "estimators = []\n",
    "for model in model_options:\n",
    "    pipe_components = [vectorizer, model]\n",
    "    print(f\"starting {model[0]} grid search\")\n",
    "    est = modeling.train_save_best_model(pipe=pipe_components, pipe_params=pipe_params, X_train=food[\"all_text\"],\n",
    "                                   y_train=label_enc_y, file_path=f\"models/{model[0]}.pkl\")\n",
    "    estimators.append(est)"
   ]
  },
  {
   "cell_type": "code",
   "execution_count": 25,
   "metadata": {},
   "outputs": [],
   "source": [
    "X = food[\"all_text\"]\n",
    "y = label_enc_y\n",
    "\n",
    "pipeline_names = [\"knn\", \"lr\", \"multi\", \"rfc\", \"svc\"]"
   ]
  },
  {
   "cell_type": "code",
   "execution_count": 47,
   "metadata": {},
   "outputs": [
    {
     "data": {
      "text/plain": [
       "{'knn': 1.0,\n",
       " 'lr': 0.9968186638388123,\n",
       " 'multi': 0.8494167550371156,\n",
       " 'rfc': 1.0,\n",
       " 'svc': 1.0}"
      ]
     },
     "execution_count": 47,
     "metadata": {},
     "output_type": "execute_result"
    }
   ],
   "source": [
    "# use `fetch_fitted_pipeline` to fetch previously-fitted pipeline\n",
    "scores = {}\n",
    "for model_type in pipeline_names:\n",
    "    gs = modeling.fetch_fitted_pipeline(f\"models/{model_type}.pkl\")\n",
    "    gs.fit(X, y)\n",
    "    scores[model_type] = gs.score(X, y)\n",
    "    \n",
    "scores"
   ]
  },
  {
   "cell_type": "markdown",
   "metadata": {},
   "source": [
    "## combine content & food data"
   ]
  },
  {
   "cell_type": "code",
   "execution_count": 26,
   "metadata": {},
   "outputs": [
    {
     "data": {
      "text/plain": [
       "Index(['id', 'source_id', 'source_type', 'food_id', 'orig_food_id',\n",
       "       'orig_food_common_name', 'orig_food_scientific_name', 'orig_food_part',\n",
       "       'orig_source_id', 'orig_source_name', 'orig_content', 'orig_min',\n",
       "       'orig_max', 'orig_unit', 'orig_citation', 'citation', 'citation_type',\n",
       "       'creator_id', 'updater_id', 'created_at', 'updated_at', 'orig_method',\n",
       "       'orig_unit_expression', 'standard_content', 'preparation_type',\n",
       "       'export'],\n",
       "      dtype='object')"
      ]
     },
     "execution_count": 26,
     "metadata": {},
     "output_type": "execute_result"
    }
   ],
   "source": [
    "content = pd.read_csv(\"data/foodb_2020_04_07_csv/Content.csv\")\n",
    "content.columns"
   ]
  },
  {
   "cell_type": "code",
   "execution_count": 27,
   "metadata": {},
   "outputs": [
    {
     "data": {
      "text/html": [
       "<div>\n",
       "<style scoped>\n",
       "    .dataframe tbody tr th:only-of-type {\n",
       "        vertical-align: middle;\n",
       "    }\n",
       "\n",
       "    .dataframe tbody tr th {\n",
       "        vertical-align: top;\n",
       "    }\n",
       "\n",
       "    .dataframe thead th {\n",
       "        text-align: right;\n",
       "    }\n",
       "</style>\n",
       "<table border=\"1\" class=\"dataframe\">\n",
       "  <thead>\n",
       "    <tr style=\"text-align: right;\">\n",
       "      <th></th>\n",
       "      <th>id</th>\n",
       "      <th>source_id</th>\n",
       "      <th>source_type</th>\n",
       "      <th>food_id</th>\n",
       "      <th>orig_food_id</th>\n",
       "      <th>orig_food_common_name</th>\n",
       "      <th>orig_food_scientific_name</th>\n",
       "      <th>orig_food_part</th>\n",
       "      <th>orig_source_id</th>\n",
       "      <th>orig_source_name</th>\n",
       "      <th>...</th>\n",
       "      <th>citation_type</th>\n",
       "      <th>creator_id</th>\n",
       "      <th>updater_id</th>\n",
       "      <th>created_at</th>\n",
       "      <th>updated_at</th>\n",
       "      <th>orig_method</th>\n",
       "      <th>orig_unit_expression</th>\n",
       "      <th>standard_content</th>\n",
       "      <th>preparation_type</th>\n",
       "      <th>export</th>\n",
       "    </tr>\n",
       "  </thead>\n",
       "  <tbody>\n",
       "    <tr>\n",
       "      <th>0</th>\n",
       "      <td>1</td>\n",
       "      <td>1</td>\n",
       "      <td>Nutrient</td>\n",
       "      <td>4</td>\n",
       "      <td>29</td>\n",
       "      <td>Kiwi</td>\n",
       "      <td>Actinidia chinensis PLANCHON [Actinidiaceae]</td>\n",
       "      <td>Fruit</td>\n",
       "      <td>FAT</td>\n",
       "      <td>FAT</td>\n",
       "      <td>...</td>\n",
       "      <td>DATABASE</td>\n",
       "      <td>NaN</td>\n",
       "      <td>NaN</td>\n",
       "      <td>2014-11-05 13:42:11 UTC</td>\n",
       "      <td>2019-12-11 20:23:57 UTC</td>\n",
       "      <td>NaN</td>\n",
       "      <td>NaN</td>\n",
       "      <td>1955.00</td>\n",
       "      <td>raw</td>\n",
       "      <td>0</td>\n",
       "    </tr>\n",
       "    <tr>\n",
       "      <th>1</th>\n",
       "      <td>2</td>\n",
       "      <td>1</td>\n",
       "      <td>Nutrient</td>\n",
       "      <td>6</td>\n",
       "      <td>53</td>\n",
       "      <td>Onion</td>\n",
       "      <td>Allium cepa L. [Liliaceae]</td>\n",
       "      <td>Bulb</td>\n",
       "      <td>FAT</td>\n",
       "      <td>FAT</td>\n",
       "      <td>...</td>\n",
       "      <td>DATABASE</td>\n",
       "      <td>NaN</td>\n",
       "      <td>NaN</td>\n",
       "      <td>2014-11-05 13:42:11 UTC</td>\n",
       "      <td>2019-12-11 20:23:57 UTC</td>\n",
       "      <td>NaN</td>\n",
       "      <td>NaN</td>\n",
       "      <td>1853.95</td>\n",
       "      <td>raw</td>\n",
       "      <td>0</td>\n",
       "    </tr>\n",
       "    <tr>\n",
       "      <th>2</th>\n",
       "      <td>3</td>\n",
       "      <td>1</td>\n",
       "      <td>Nutrient</td>\n",
       "      <td>6</td>\n",
       "      <td>53</td>\n",
       "      <td>Onion</td>\n",
       "      <td>Allium cepa L. [Liliaceae]</td>\n",
       "      <td>Leaf</td>\n",
       "      <td>FAT</td>\n",
       "      <td>FAT</td>\n",
       "      <td>...</td>\n",
       "      <td>DATABASE</td>\n",
       "      <td>NaN</td>\n",
       "      <td>NaN</td>\n",
       "      <td>2014-11-05 13:42:11 UTC</td>\n",
       "      <td>2019-12-11 20:23:57 UTC</td>\n",
       "      <td>NaN</td>\n",
       "      <td>NaN</td>\n",
       "      <td>4150.00</td>\n",
       "      <td>raw</td>\n",
       "      <td>0</td>\n",
       "    </tr>\n",
       "    <tr>\n",
       "      <th>3</th>\n",
       "      <td>4</td>\n",
       "      <td>1</td>\n",
       "      <td>Nutrient</td>\n",
       "      <td>9</td>\n",
       "      <td>55</td>\n",
       "      <td>Chives</td>\n",
       "      <td>Allium schoenoprasum L. [Liliaceae]</td>\n",
       "      <td>Leaf</td>\n",
       "      <td>FAT</td>\n",
       "      <td>FAT</td>\n",
       "      <td>...</td>\n",
       "      <td>DATABASE</td>\n",
       "      <td>NaN</td>\n",
       "      <td>NaN</td>\n",
       "      <td>2014-11-05 13:42:11 UTC</td>\n",
       "      <td>2019-12-11 20:23:57 UTC</td>\n",
       "      <td>NaN</td>\n",
       "      <td>NaN</td>\n",
       "      <td>3900.00</td>\n",
       "      <td>raw</td>\n",
       "      <td>0</td>\n",
       "    </tr>\n",
       "    <tr>\n",
       "      <th>4</th>\n",
       "      <td>5</td>\n",
       "      <td>1</td>\n",
       "      <td>Nutrient</td>\n",
       "      <td>11</td>\n",
       "      <td>70</td>\n",
       "      <td>Cashew</td>\n",
       "      <td>Anacardium occidentale L. [Anacardiaceae]</td>\n",
       "      <td>Fruit</td>\n",
       "      <td>FAT</td>\n",
       "      <td>FAT</td>\n",
       "      <td>...</td>\n",
       "      <td>DATABASE</td>\n",
       "      <td>NaN</td>\n",
       "      <td>NaN</td>\n",
       "      <td>2014-11-05 13:42:11 UTC</td>\n",
       "      <td>2019-12-11 20:23:57 UTC</td>\n",
       "      <td>NaN</td>\n",
       "      <td>NaN</td>\n",
       "      <td>2500.00</td>\n",
       "      <td>other</td>\n",
       "      <td>0</td>\n",
       "    </tr>\n",
       "    <tr>\n",
       "      <th>5</th>\n",
       "      <td>6</td>\n",
       "      <td>1</td>\n",
       "      <td>Nutrient</td>\n",
       "      <td>11</td>\n",
       "      <td>70</td>\n",
       "      <td>Cashew</td>\n",
       "      <td>Anacardium occidentale L. [Anacardiaceae]</td>\n",
       "      <td>Leaf</td>\n",
       "      <td>FAT</td>\n",
       "      <td>FAT</td>\n",
       "      <td>...</td>\n",
       "      <td>DATABASE</td>\n",
       "      <td>NaN</td>\n",
       "      <td>NaN</td>\n",
       "      <td>2014-11-05 13:42:11 UTC</td>\n",
       "      <td>2019-12-11 20:23:57 UTC</td>\n",
       "      <td>NaN</td>\n",
       "      <td>NaN</td>\n",
       "      <td>1300.00</td>\n",
       "      <td>other</td>\n",
       "      <td>0</td>\n",
       "    </tr>\n",
       "    <tr>\n",
       "      <th>6</th>\n",
       "      <td>7</td>\n",
       "      <td>1</td>\n",
       "      <td>Nutrient</td>\n",
       "      <td>11</td>\n",
       "      <td>70</td>\n",
       "      <td>Cashew</td>\n",
       "      <td>Anacardium occidentale L. [Anacardiaceae]</td>\n",
       "      <td>Seed</td>\n",
       "      <td>FAT</td>\n",
       "      <td>FAT</td>\n",
       "      <td>...</td>\n",
       "      <td>DATABASE</td>\n",
       "      <td>NaN</td>\n",
       "      <td>NaN</td>\n",
       "      <td>2014-11-05 13:42:11 UTC</td>\n",
       "      <td>2019-12-11 20:23:57 UTC</td>\n",
       "      <td>NaN</td>\n",
       "      <td>NaN</td>\n",
       "      <td>42600.00</td>\n",
       "      <td>other</td>\n",
       "      <td>0</td>\n",
       "    </tr>\n",
       "    <tr>\n",
       "      <th>7</th>\n",
       "      <td>8</td>\n",
       "      <td>1</td>\n",
       "      <td>Nutrient</td>\n",
       "      <td>12</td>\n",
       "      <td>74</td>\n",
       "      <td>Pineapple</td>\n",
       "      <td>Ananas comosus (L.) MERR. [Bromeliaceae]</td>\n",
       "      <td>Fruit</td>\n",
       "      <td>FAT</td>\n",
       "      <td>FAT</td>\n",
       "      <td>...</td>\n",
       "      <td>DATABASE</td>\n",
       "      <td>NaN</td>\n",
       "      <td>NaN</td>\n",
       "      <td>2014-11-05 13:42:11 UTC</td>\n",
       "      <td>2019-12-11 20:23:57 UTC</td>\n",
       "      <td>NaN</td>\n",
       "      <td>NaN</td>\n",
       "      <td>2188.60</td>\n",
       "      <td>raw</td>\n",
       "      <td>0</td>\n",
       "    </tr>\n",
       "    <tr>\n",
       "      <th>8</th>\n",
       "      <td>9</td>\n",
       "      <td>1</td>\n",
       "      <td>Nutrient</td>\n",
       "      <td>13</td>\n",
       "      <td>83</td>\n",
       "      <td>Dill</td>\n",
       "      <td>Anethum graveolens L. [Apiaceae]</td>\n",
       "      <td>Plant</td>\n",
       "      <td>FAT</td>\n",
       "      <td>FAT</td>\n",
       "      <td>...</td>\n",
       "      <td>DATABASE</td>\n",
       "      <td>NaN</td>\n",
       "      <td>NaN</td>\n",
       "      <td>2014-11-05 13:42:11 UTC</td>\n",
       "      <td>2019-12-11 20:23:57 UTC</td>\n",
       "      <td>NaN</td>\n",
       "      <td>NaN</td>\n",
       "      <td>4500.00</td>\n",
       "      <td>raw</td>\n",
       "      <td>0</td>\n",
       "    </tr>\n",
       "    <tr>\n",
       "      <th>9</th>\n",
       "      <td>10</td>\n",
       "      <td>1</td>\n",
       "      <td>Nutrient</td>\n",
       "      <td>13</td>\n",
       "      <td>83</td>\n",
       "      <td>Dill</td>\n",
       "      <td>Anethum graveolens L. [Apiaceae]</td>\n",
       "      <td>Seed</td>\n",
       "      <td>FAT</td>\n",
       "      <td>FAT</td>\n",
       "      <td>...</td>\n",
       "      <td>DATABASE</td>\n",
       "      <td>NaN</td>\n",
       "      <td>NaN</td>\n",
       "      <td>2014-11-05 13:42:11 UTC</td>\n",
       "      <td>2019-12-11 20:23:57 UTC</td>\n",
       "      <td>NaN</td>\n",
       "      <td>NaN</td>\n",
       "      <td>12410.00</td>\n",
       "      <td>raw</td>\n",
       "      <td>0</td>\n",
       "    </tr>\n",
       "  </tbody>\n",
       "</table>\n",
       "<p>10 rows × 26 columns</p>\n",
       "</div>"
      ],
      "text/plain": [
       "   id  source_id source_type  food_id orig_food_id orig_food_common_name  \\\n",
       "0   1          1    Nutrient        4           29                  Kiwi   \n",
       "1   2          1    Nutrient        6           53                 Onion   \n",
       "2   3          1    Nutrient        6           53                 Onion   \n",
       "3   4          1    Nutrient        9           55                Chives   \n",
       "4   5          1    Nutrient       11           70                Cashew   \n",
       "5   6          1    Nutrient       11           70                Cashew   \n",
       "6   7          1    Nutrient       11           70                Cashew   \n",
       "7   8          1    Nutrient       12           74             Pineapple   \n",
       "8   9          1    Nutrient       13           83                  Dill   \n",
       "9  10          1    Nutrient       13           83                  Dill   \n",
       "\n",
       "                      orig_food_scientific_name orig_food_part orig_source_id  \\\n",
       "0  Actinidia chinensis PLANCHON [Actinidiaceae]          Fruit            FAT   \n",
       "1                    Allium cepa L. [Liliaceae]           Bulb            FAT   \n",
       "2                    Allium cepa L. [Liliaceae]           Leaf            FAT   \n",
       "3           Allium schoenoprasum L. [Liliaceae]           Leaf            FAT   \n",
       "4     Anacardium occidentale L. [Anacardiaceae]          Fruit            FAT   \n",
       "5     Anacardium occidentale L. [Anacardiaceae]           Leaf            FAT   \n",
       "6     Anacardium occidentale L. [Anacardiaceae]           Seed            FAT   \n",
       "7      Ananas comosus (L.) MERR. [Bromeliaceae]          Fruit            FAT   \n",
       "8              Anethum graveolens L. [Apiaceae]          Plant            FAT   \n",
       "9              Anethum graveolens L. [Apiaceae]           Seed            FAT   \n",
       "\n",
       "  orig_source_name  ...  citation_type  creator_id  updater_id  \\\n",
       "0              FAT  ...       DATABASE         NaN         NaN   \n",
       "1              FAT  ...       DATABASE         NaN         NaN   \n",
       "2              FAT  ...       DATABASE         NaN         NaN   \n",
       "3              FAT  ...       DATABASE         NaN         NaN   \n",
       "4              FAT  ...       DATABASE         NaN         NaN   \n",
       "5              FAT  ...       DATABASE         NaN         NaN   \n",
       "6              FAT  ...       DATABASE         NaN         NaN   \n",
       "7              FAT  ...       DATABASE         NaN         NaN   \n",
       "8              FAT  ...       DATABASE         NaN         NaN   \n",
       "9              FAT  ...       DATABASE         NaN         NaN   \n",
       "\n",
       "                created_at               updated_at orig_method  \\\n",
       "0  2014-11-05 13:42:11 UTC  2019-12-11 20:23:57 UTC         NaN   \n",
       "1  2014-11-05 13:42:11 UTC  2019-12-11 20:23:57 UTC         NaN   \n",
       "2  2014-11-05 13:42:11 UTC  2019-12-11 20:23:57 UTC         NaN   \n",
       "3  2014-11-05 13:42:11 UTC  2019-12-11 20:23:57 UTC         NaN   \n",
       "4  2014-11-05 13:42:11 UTC  2019-12-11 20:23:57 UTC         NaN   \n",
       "5  2014-11-05 13:42:11 UTC  2019-12-11 20:23:57 UTC         NaN   \n",
       "6  2014-11-05 13:42:11 UTC  2019-12-11 20:23:57 UTC         NaN   \n",
       "7  2014-11-05 13:42:11 UTC  2019-12-11 20:23:57 UTC         NaN   \n",
       "8  2014-11-05 13:42:11 UTC  2019-12-11 20:23:57 UTC         NaN   \n",
       "9  2014-11-05 13:42:11 UTC  2019-12-11 20:23:57 UTC         NaN   \n",
       "\n",
       "  orig_unit_expression  standard_content  preparation_type export  \n",
       "0                  NaN           1955.00               raw      0  \n",
       "1                  NaN           1853.95               raw      0  \n",
       "2                  NaN           4150.00               raw      0  \n",
       "3                  NaN           3900.00               raw      0  \n",
       "4                  NaN           2500.00             other      0  \n",
       "5                  NaN           1300.00             other      0  \n",
       "6                  NaN          42600.00             other      0  \n",
       "7                  NaN           2188.60               raw      0  \n",
       "8                  NaN           4500.00               raw      0  \n",
       "9                  NaN          12410.00               raw      0  \n",
       "\n",
       "[10 rows x 26 columns]"
      ]
     },
     "execution_count": 27,
     "metadata": {},
     "output_type": "execute_result"
    }
   ],
   "source": [
    "content.head(10)"
   ]
  },
  {
   "cell_type": "code",
   "execution_count": 28,
   "metadata": {},
   "outputs": [
    {
     "name": "stdout",
     "output_type": "stream",
     "text": [
      "keeping columns: {'orig_food_common_name', 'orig_food_id', 'food_id', 'orig_source_name', 'orig_source_id', 'orig_food_part', 'orig_food_scientific_name'}\n"
     ]
    }
   ],
   "source": [
    "content_drop_cols = [\"id\", \"source_id\", \"source_type\", \"orig_content\", \"orig_min\",\n",
    "       \"orig_max\", \"orig_unit\", \"orig_citation\", \"citation\", \"citation_type\",\n",
    "       \"creator_id\", \"updater_id\", \"created_at\", \"updated_at\", \"orig_method\",\n",
    "       \"orig_unit_expression\", \"standard_content\", \"preparation_type\",\n",
    "       \"export\"]\n",
    "\n",
    "print(f\"keeping columns: {set(content.columns).difference(set(content_drop_cols))}\")"
   ]
  },
  {
   "cell_type": "code",
   "execution_count": 29,
   "metadata": {},
   "outputs": [
    {
     "data": {
      "text/plain": [
       "food_id                            0\n",
       "orig_food_id                 4308143\n",
       "orig_food_common_name         971656\n",
       "orig_food_scientific_name    5099435\n",
       "orig_food_part               5104956\n",
       "orig_source_id               4448551\n",
       "orig_source_name             4445227\n",
       "dtype: int64"
      ]
     },
     "execution_count": 29,
     "metadata": {},
     "output_type": "execute_result"
    }
   ],
   "source": [
    "content.drop(content_drop_cols, axis=1, inplace=True)\n",
    "content.isna().sum()"
   ]
  },
  {
   "cell_type": "code",
   "execution_count": 30,
   "metadata": {},
   "outputs": [
    {
     "data": {
      "text/plain": [
       "{'food_id': 0.0,\n",
       " 'orig_food_id': 0.8373,\n",
       " 'orig_food_common_name': 0.1888,\n",
       " 'orig_food_scientific_name': 0.991,\n",
       " 'orig_food_part': 0.9921,\n",
       " 'orig_source_id': 0.8645,\n",
       " 'orig_source_name': 0.8639}"
      ]
     },
     "execution_count": 30,
     "metadata": {},
     "output_type": "execute_result"
    }
   ],
   "source": [
    "null_content = {}\n",
    "content_rows = content.shape[0]\n",
    "for col in content.columns:\n",
    "    null_content[col] = round(content[col].isna().sum()/content_rows, 4)\n",
    "    \n",
    "null_content"
   ]
  },
  {
   "cell_type": "code",
   "execution_count": 31,
   "metadata": {},
   "outputs": [],
   "source": [
    "# pretty sure this is the column I care the most about so nulls here are no good to me\n",
    "content.dropna(subset=[\"orig_food_common_name\"], inplace=True)"
   ]
  },
  {
   "cell_type": "code",
   "execution_count": 32,
   "metadata": {},
   "outputs": [
    {
     "data": {
      "text/plain": [
       "(4074596, 15)"
      ]
     },
     "execution_count": 32,
     "metadata": {},
     "output_type": "execute_result"
    }
   ],
   "source": [
    "big_food = content.merge(food, how=\"inner\", left_on=\"food_id\", right_on=\"id\")\n",
    "big_food.shape"
   ]
  },
  {
   "cell_type": "code",
   "execution_count": 33,
   "metadata": {},
   "outputs": [
    {
     "data": {
      "text/plain": [
       "Index(['food_id', 'orig_food_id', 'orig_food_common_name',\n",
       "       'orig_food_scientific_name', 'orig_food_part', 'orig_source_id',\n",
       "       'orig_source_name', 'id', 'name', 'name_scientific', 'description',\n",
       "       'wikipedia_id', 'food_group', 'food_subgroup', 'all_text'],\n",
       "      dtype='object')"
      ]
     },
     "execution_count": 33,
     "metadata": {},
     "output_type": "execute_result"
    }
   ],
   "source": [
    "big_food.columns"
   ]
  },
  {
   "cell_type": "code",
   "execution_count": 34,
   "metadata": {},
   "outputs": [
    {
     "data": {
      "image/png": "[encoded data removed]",
      "text/plain": [
       "<Figure size 640x480 with 1 Axes>"
      ]
     },
     "metadata": {},
     "output_type": "display_data"
    }
   ],
   "source": [
    "big_food.groupby(\"food_group\").size().sort_values(ascending=False).plot(kind=\"bar\");"
   ]
  },
  {
   "cell_type": "code",
   "execution_count": 77,
   "metadata": {},
   "outputs": [
    {
     "data": {
      "text/plain": [
       "food_group\n",
       "Animal foods                   1379454\n",
       "Fruits                          631794\n",
       "Vegetables                      598513\n",
       "Herbs and Spices                465520\n",
       "Cereals and cereal products     234181\n",
       "Pulses                          135384\n",
       "Nuts                            115887\n",
       "Gourds                           91254\n",
       "Dishes                           69061\n",
       "Aquatic foods                    60628\n",
       "Milk and milk products           59526\n",
       "Teas                             43304\n",
       "Confectioneries                  43204\n",
       "Soy                              30632\n",
       "Baking goods                     25452\n",
       "Baby foods                       24071\n",
       "Beverages                        19242\n",
       "Coffee and coffee products       16119\n",
       "Snack foods                      13467\n",
       "Fats and oils                     6989\n",
       "Cocoa and cocoa products          5473\n",
       "Eggs                              5441\n",
       "Name: count, dtype: int64"
      ]
     },
     "execution_count": 77,
     "metadata": {},
     "output_type": "execute_result"
    }
   ],
   "source": [
    "big_food[\"food_group\"].value_counts()"
   ]
  },
  {
   "cell_type": "code",
   "execution_count": 78,
   "metadata": {},
   "outputs": [
    {
     "data": {
      "text/plain": [
       "food_id                       int64\n",
       "orig_food_id                 object\n",
       "orig_food_common_name        object\n",
       "orig_food_scientific_name    object\n",
       "orig_food_part               object\n",
       "orig_source_id               object\n",
       "orig_source_name             object\n",
       "id                            int64\n",
       "name                         object\n",
       "name_scientific              object\n",
       "description                  object\n",
       "wikipedia_id                 object\n",
       "food_group                   object\n",
       "food_subgroup                object\n",
       "all_text                     object\n",
       "dtype: object"
      ]
     },
     "execution_count": 78,
     "metadata": {},
     "output_type": "execute_result"
    }
   ],
   "source": [
    "big_food.dtypes"
   ]
  },
  {
   "cell_type": "code",
   "execution_count": 95,
   "metadata": {},
   "outputs": [
    {
     "data": {
      "text/plain": [
       "169"
      ]
     },
     "execution_count": 95,
     "metadata": {},
     "output_type": "execute_result"
    }
   ],
   "source": [
    "food[\"food_group\"].value_counts().max()"
   ]
  },
  {
   "cell_type": "code",
   "execution_count": 92,
   "metadata": {},
   "outputs": [
    {
     "data": {
      "text/plain": [
       "'Aquatic foods'"
      ]
     },
     "execution_count": 92,
     "metadata": {},
     "output_type": "execute_result"
    }
   ],
   "source": [
    "# found this on https://linuxhint.com/pandas-get-most-frequent-value/\n",
    "food[\"food_group\"].value_counts().idxmax(skipna=True)"
   ]
  },
  {
   "cell_type": "code",
   "execution_count": 93,
   "metadata": {},
   "outputs": [
    {
     "data": {
      "text/plain": [
       "Index(['food_id', 'orig_food_id', 'orig_food_common_name',\n",
       "       'orig_food_scientific_name', 'orig_food_part', 'orig_source_id',\n",
       "       'orig_source_name', 'id', 'name', 'name_scientific', 'description',\n",
       "       'wikipedia_id', 'food_group', 'food_subgroup', 'all_text'],\n",
       "      dtype='object')"
      ]
     },
     "execution_count": 93,
     "metadata": {},
     "output_type": "execute_result"
    }
   ],
   "source": [
    "big_food.columns"
   ]
  },
  {
   "cell_type": "code",
   "execution_count": 100,
   "metadata": {},
   "outputs": [
    {
     "name": "stdout",
     "output_type": "stream",
     "text": [
      "{ 'orig_food_common_name': { 'most_common_value': 'Lipid from Arabidopsis '\n",
      "                                                  '(PathBank)',\n",
      "                             'most_common_value_occurances': 1975575,\n",
      "                             'non_null_count': 4074596,\n",
      "                             'null_count': 0,\n",
      "                             'unique_values': 9130},\n",
      "  'orig_food_id': { 'most_common_value': 'WI4600',\n",
      "                    'most_common_value_occurances': 7574,\n",
      "                    'non_null_count': 805873,\n",
      "                    'null_count': 3268723,\n",
      "                    'unique_values': 11663},\n",
      "  'orig_food_part': { 'most_common_value': 'Leaf',\n",
      "                      'most_common_value_occurances': 8026,\n",
      "                      'non_null_count': 40325,\n",
      "                      'null_count': 4034271,\n",
      "                      'unique_values': 79},\n",
      "  'orig_food_scientific_name': { 'most_common_value': 'Camellia sinensis (L.) '\n",
      "                                                      'KUNTZE [Theaceae]',\n",
      "                                 'most_common_value_occurances': 4242,\n",
      "                                 'non_null_count': 40056,\n",
      "                                 'null_count': 4034540,\n",
      "                                 'unique_values': 240},\n",
      "  'orig_source_id': { 'most_common_value': 208,\n",
      "                      'most_common_value_occurances': 7895,\n",
      "                      'non_null_count': 667003,\n",
      "                      'null_count': 3407593,\n",
      "                      'unique_values': 8465},\n",
      "  'orig_source_name': { 'most_common_value': 'Energy',\n",
      "                        'most_common_value_occurances': 15058,\n",
      "                        'non_null_count': 667003,\n",
      "                        'null_count': 3407593,\n",
      "                        'unique_values': 8316}}\n"
     ]
    }
   ],
   "source": [
    "cols_from_content = [\"orig_food_id\", \"orig_food_common_name\", \"orig_food_scientific_name\", \n",
    "                   \"orig_food_part\", \"orig_source_id\", \"orig_source_name\"]\n",
    "merged_rows = big_food.shape[0]\n",
    "table_data = {}\n",
    "for col in cols_from_content:\n",
    "    details = {}\n",
    "    nulls = big_food[col].isna().sum()\n",
    "    unique_vals = len(big_food[col].unique())\n",
    "    details[\"null_count\"] = nulls\n",
    "    details[\"non_null_count\"] = merged_rows-nulls\n",
    "    details[\"unique_values\"] = unique_vals\n",
    "    details[\"most_common_value\"] = big_food[col].value_counts().idxmax(skipna=True)\n",
    "    details[\"most_common_value_occurances\"] = big_food[col].value_counts().max()\n",
    "    table_data[col] = details\n",
    "    \n",
    "pp = pprint.PrettyPrinter(indent=2)\n",
    "pp.pprint(table_data)"
   ]
  },
  {
   "cell_type": "code",
   "execution_count": 35,
   "metadata": {},
   "outputs": [],
   "source": [
    "# seems like there might be good text in these columns to add to the text I already have from food.csv\n",
    "more_text_columns = [\"orig_food_common_name\", \"orig_food_part\", \"orig_food_scientific_name\", \n",
    "                     \"orig_source_name\", \"all_text\"]\n",
    "\n",
    "for col in more_text_columns:\n",
    "    big_food[col].fillna(\"\", inplace=True)"
   ]
  },
  {
   "cell_type": "code",
   "execution_count": 36,
   "metadata": {},
   "outputs": [],
   "source": [
    "big_food[\"all_text\"] = big_food[more_text_columns].apply(\" \".join, axis=1)"
   ]
  },
  {
   "cell_type": "code",
   "execution_count": 37,
   "metadata": {},
   "outputs": [
    {
     "data": {
      "text/plain": [
       "0    Kiwi Fruit Actinidia chinensis PLANCHON [Actin...\n",
       "1    Kiwi fruit, raw   Protein, total Kiwi Actinidi...\n",
       "2    Kiwi fruit, raw   Protein, total-N Kiwi Actini...\n",
       "Name: all_text, dtype: object"
      ]
     },
     "execution_count": 37,
     "metadata": {},
     "output_type": "execute_result"
    }
   ],
   "source": [
    "big_food[\"all_text\"].head(3)"
   ]
  },
  {
   "cell_type": "code",
   "execution_count": 38,
   "metadata": {},
   "outputs": [],
   "source": [
    "big_label_enc_y = label_encoder.fit_transform(big_food[\"food_group\"])"
   ]
  },
  {
   "cell_type": "code",
   "execution_count": 39,
   "metadata": {},
   "outputs": [
    {
     "name": "stdout",
     "output_type": "stream",
     "text": [
      "starting lr grid search\n",
      "again!\n",
      "Fitting 5 folds for each of 648 candidates, totalling 3240 fits\n"
     ]
    }
   ],
   "source": [
    "big_estimators = []\n",
    "for model in model_options:\n",
    "    pipe_components = [vectorizer, model]\n",
    "    print(f\"starting {model[0]} grid search\")\n",
    "    est = modeling.train_save_best_model(pipe=pipe_components, pipe_params=pipe_params, X_train=big_food[\"all_text\"],\n",
    "                                   y_train=big_label_enc_y, file_path=f\"models/big_{model[0]}.pkl\")\n",
    "    big_estimators.append(est)"
   ]
  },
  {
   "cell_type": "code",
   "execution_count": null,
   "metadata": {},
   "outputs": [],
   "source": []
  },
  {
   "cell_type": "code",
   "execution_count": null,
   "metadata": {},
   "outputs": [],
   "source": []
  },
  {
   "cell_type": "code",
   "execution_count": null,
   "metadata": {},
   "outputs": [],
   "source": []
  },
  {
   "cell_type": "code",
   "execution_count": null,
   "metadata": {},
   "outputs": [],
   "source": []
  },
  {
   "cell_type": "markdown",
   "metadata": {},
   "source": [
    "---\n",
    "## rabbit holes\n",
    "- stuff I tried that didn\"t go anywhere"
   ]
  },
  {
   "cell_type": "markdown",
   "metadata": {},
   "source": [
    "---\n",
    "- wouldn\"t it be cool if I could do the transformations of both the data & the target in a pipeline?\n",
    "- sadly, this did not work; I tried:\n",
    "    - passing the whole df to `test_pipe.fit`, without doing a train/test split\n",
    "    - passing the columns, no train/test split\n",
    "    - doing the train/test split & passing `X_train` and `y_train`"
   ]
  },
  {
   "cell_type": "code",
   "execution_count": null,
   "metadata": {},
   "outputs": [],
   "source": [
    "# inspired by this article: https://towardsdatascience.com/step-by-step-tutorial-of-sci-kit-learn-pipeline-62402d5629b6\n",
    "\n",
    "data_transformer = Pipeline(steps=[\n",
    "    (\"tfidf\", TfidfVectorizer(stop_words=\"english\"))\n",
    "])\n",
    "\n",
    "# I don\"t think this would have worked with the LabelEncoder either\n",
    "# if I have time, I\"ll come back & try that because it WOULD be cool if this worked\n",
    "target_transformer = Pipeline(steps=[\n",
    "    (\"ord_encoder\", OrdinalEncoder(categories=food[\"food_group\"].unique())) \n",
    "])\n",
    "\n",
    "preprocessor = ColumnTransformer(transformers=[\n",
    "    (\"data\", data_transformer, \"all_text\"),\n",
    "    (\"target\", target_transformer, \"food_group\")\n",
    "])\n",
    "\n",
    "test_pipe = Pipeline(steps=[\n",
    "    (\"preprocessor\", preprocessor),\n",
    "    (\"log_reg\", LogisticRegression(max_iter=1000))\n",
    "])"
   ]
  },
  {
   "cell_type": "code",
   "execution_count": null,
   "metadata": {},
   "outputs": [],
   "source": [
    "X = food.drop(columns=[\"food_group\"])\n",
    "y = food[\"food_group\"]\n",
    "\n",
    "X_train, X_test, y_train, y_test = train_test_split(X, y, test_size=0.2, random_state=42)"
   ]
  },
  {
   "cell_type": "code",
   "execution_count": null,
   "metadata": {},
   "outputs": [],
   "source": [
    "# lr_model = test_pipe.fit(X_train, y_train)"
   ]
  },
  {
   "cell_type": "code",
   "execution_count": null,
   "metadata": {},
   "outputs": [],
   "source": []
  }
 ],
 "metadata": {
  "kernelspec": {
   "display_name": "capstone",
   "language": "python",
   "name": "python3"
  },
  "language_info": {
   "codemirror_mode": {
    "name": "ipython",
    "version": 3
   },
   "file_extension": ".py",
   "mimetype": "text/x-python",
   "name": "python",
   "nbconvert_exporter": "python",
   "pygments_lexer": "ipython3",
   "version": "3.12.1"
  }
 },
 "nbformat": 4,
 "nbformat_minor": 2
}
