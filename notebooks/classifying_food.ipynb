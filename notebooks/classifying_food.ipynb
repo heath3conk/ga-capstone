{
 "cells": [
  {
   "cell_type": "markdown",
   "metadata": {},
   "source": [
    "# Create classification model(s)\n",
    "- start with the \"food.csv\"\n",
    "- tfidf vectorizer & classification models\n",
    "- combining text fields except for \"food_group\" and/or \"food_subgroup\""
   ]
  },
  {
   "cell_type": "code",
   "execution_count": 35,
   "metadata": {},
   "outputs": [],
   "source": [
    "# import pprint\n",
    "import importlib\n",
    "import numpy as np\n",
    "import pandas as pd\n",
    "\n",
    "# import seaborn as sns\n",
    "import matplotlib.pyplot as plt\n",
    "from sklearn.preprocessing import OrdinalEncoder, LabelEncoder, OneHotEncoder\n",
    "from sklearn.compose import ColumnTransformer\n",
    "from sklearn.pipeline import Pipeline\n",
    "from sklearn.model_selection import train_test_split, cross_val_score, GridSearchCV\n",
    "from sklearn.feature_extraction.text import TfidfVectorizer\n",
    "from sklearn.linear_model import LogisticRegression\n",
    "from sklearn.naive_bayes import MultinomialNB\n",
    "from sklearn.neighbors import KNeighborsClassifier\n",
    "from sklearn.tree import DecisionTreeClassifier\n",
    "from sklearn.ensemble import BaggingClassifier, RandomForestClassifier, AdaBoostClassifier\n",
    "from sklearn.svm import SVC\n",
    "from sklearn.metrics import f1_score\n",
    "from sklearn.metrics import mean_absolute_error\n",
    "\n",
    "import modeling"
   ]
  },
  {
   "cell_type": "code",
   "execution_count": null,
   "metadata": {},
   "outputs": [],
   "source": [
    "importlib.reload(modeling)"
   ]
  },
  {
   "cell_type": "markdown",
   "metadata": {},
   "source": [
    "#### pull data & basic cleanup\n",
    "- get rid of columns that I won't use\n",
    "- remove the 47 rows that are missing \"description\" data"
   ]
  },
  {
   "cell_type": "code",
   "execution_count": 2,
   "metadata": {},
   "outputs": [],
   "source": [
    "food = pd.read_csv(\"data/foodb_2020_04_07_csv/Food.csv\")\n",
    "# food.head(3)"
   ]
  },
  {
   "cell_type": "code",
   "execution_count": 3,
   "metadata": {},
   "outputs": [
    {
     "name": "stdout",
     "output_type": "stream",
     "text": [
      "rows: 992\n",
      "columns: Index(['id', 'name', 'name_scientific', 'description', 'itis_id',\n",
      "       'wikipedia_id', 'picture_file_name', 'picture_content_type',\n",
      "       'picture_file_size', 'picture_updated_at', 'legacy_id', 'food_group',\n",
      "       'food_subgroup', 'food_type', 'created_at', 'updated_at', 'creator_id',\n",
      "       'updater_id', 'export_to_afcdb', 'category', 'ncbi_taxonomy_id',\n",
      "       'export_to_foodb', 'public_id'],\n",
      "      dtype='object')\n"
     ]
    }
   ],
   "source": [
    "rows = food.shape[0]\n",
    "print(f\"rows: {rows}\")\n",
    "print(f\"columns: {food.columns}\")"
   ]
  },
  {
   "cell_type": "code",
   "execution_count": 4,
   "metadata": {},
   "outputs": [
    {
     "name": "stdout",
     "output_type": "stream",
     "text": [
      "keeping columns: {'wikipedia_id', 'name', 'description', 'food_group', 'food_subgroup', 'name_scientific'}\n"
     ]
    }
   ],
   "source": [
    "# getting rid of columns I don\"t care about\n",
    "drop_columns = [\"id\", \"itis_id\", \"picture_file_name\", \"picture_content_type\", \"picture_file_size\", \"picture_updated_at\", \"legacy_id\", \"created_at\", \"updated_at\", \"creator_id\",\n",
    "       \"updater_id\", \"export_to_afcdb\", \"category\", \"ncbi_taxonomy_id\", \"export_to_foodb\", \"public_id\", \"food_type\"]\n",
    "\n",
    "print(f\"keeping columns: {set(food.columns).difference(set(drop_columns))}\")"
   ]
  },
  {
   "cell_type": "code",
   "execution_count": 5,
   "metadata": {},
   "outputs": [
    {
     "data": {
      "text/html": [
       "<div>\n",
       "<style scoped>\n",
       "    .dataframe tbody tr th:only-of-type {\n",
       "        vertical-align: middle;\n",
       "    }\n",
       "\n",
       "    .dataframe tbody tr th {\n",
       "        vertical-align: top;\n",
       "    }\n",
       "\n",
       "    .dataframe thead th {\n",
       "        text-align: right;\n",
       "    }\n",
       "</style>\n",
       "<table border=\"1\" class=\"dataframe\">\n",
       "  <thead>\n",
       "    <tr style=\"text-align: right;\">\n",
       "      <th></th>\n",
       "      <th>name</th>\n",
       "      <th>name_scientific</th>\n",
       "      <th>description</th>\n",
       "      <th>wikipedia_id</th>\n",
       "      <th>food_group</th>\n",
       "      <th>food_subgroup</th>\n",
       "    </tr>\n",
       "  </thead>\n",
       "  <tbody>\n",
       "    <tr>\n",
       "      <th>0</th>\n",
       "      <td>Angelica</td>\n",
       "      <td>Angelica keiskei</td>\n",
       "      <td>Angelica is a genus of about 60 species of tal...</td>\n",
       "      <td>Angelica</td>\n",
       "      <td>Herbs and Spices</td>\n",
       "      <td>Herbs</td>\n",
       "    </tr>\n",
       "    <tr>\n",
       "      <th>1</th>\n",
       "      <td>Savoy cabbage</td>\n",
       "      <td>Brassica oleracea var. sabauda</td>\n",
       "      <td>Savoy cabbage (Brassica oleracea convar. capit...</td>\n",
       "      <td>Savoy cabbage</td>\n",
       "      <td>Vegetables</td>\n",
       "      <td>Cabbages</td>\n",
       "    </tr>\n",
       "    <tr>\n",
       "      <th>2</th>\n",
       "      <td>Silver linden</td>\n",
       "      <td>Tilia argentea</td>\n",
       "      <td>Tilia tomentosa (Silver Lime in the UK and Sil...</td>\n",
       "      <td>Tilia tomentosa</td>\n",
       "      <td>Herbs and Spices</td>\n",
       "      <td>Herbs</td>\n",
       "    </tr>\n",
       "  </tbody>\n",
       "</table>\n",
       "</div>"
      ],
      "text/plain": [
       "            name                 name_scientific  \\\n",
       "0       Angelica                Angelica keiskei   \n",
       "1  Savoy cabbage  Brassica oleracea var. sabauda   \n",
       "2  Silver linden                  Tilia argentea   \n",
       "\n",
       "                                         description     wikipedia_id  \\\n",
       "0  Angelica is a genus of about 60 species of tal...         Angelica   \n",
       "1  Savoy cabbage (Brassica oleracea convar. capit...    Savoy cabbage   \n",
       "2  Tilia tomentosa (Silver Lime in the UK and Sil...  Tilia tomentosa   \n",
       "\n",
       "         food_group food_subgroup  \n",
       "0  Herbs and Spices         Herbs  \n",
       "1        Vegetables      Cabbages  \n",
       "2  Herbs and Spices         Herbs  "
      ]
     },
     "execution_count": 5,
     "metadata": {},
     "output_type": "execute_result"
    }
   ],
   "source": [
    "food.drop(columns=drop_columns, inplace=True)\n",
    "food.head(3)"
   ]
  },
  {
   "cell_type": "code",
   "execution_count": 6,
   "metadata": {},
   "outputs": [
    {
     "data": {
      "text/plain": [
       "{'name': 0.0,\n",
       " 'name_scientific': 0.3196,\n",
       " 'description': 0.0474,\n",
       " 'wikipedia_id': 0.1401,\n",
       " 'food_group': 0.003,\n",
       " 'food_subgroup': 0.0071}"
      ]
     },
     "execution_count": 6,
     "metadata": {},
     "output_type": "execute_result"
    }
   ],
   "source": [
    "null_count = {}\n",
    "for col in food.columns:\n",
    "    null_count[col] = round(food[col].isna().sum()/rows, 4)\n",
    "    \n",
    "null_count"
   ]
  },
  {
   "cell_type": "code",
   "execution_count": 7,
   "metadata": {},
   "outputs": [
    {
     "data": {
      "text/plain": [
       "(945, 6)"
      ]
     },
     "execution_count": 7,
     "metadata": {},
     "output_type": "execute_result"
    }
   ],
   "source": [
    "food.dropna(subset=[\"description\"], inplace=True)\n",
    "food.shape"
   ]
  },
  {
   "cell_type": "markdown",
   "metadata": {},
   "source": [
    "---\n",
    "## EDA on \"food_group\" and \"food_subgroup\""
   ]
  },
  {
   "cell_type": "code",
   "execution_count": 8,
   "metadata": {},
   "outputs": [
    {
     "name": "stdout",
     "output_type": "stream",
     "text": [
      "nulls in 'food_subgroup': 2\n",
      "nulls in 'food_group': 2\n"
     ]
    }
   ],
   "source": [
    "print(f\"nulls in 'food_subgroup': {food[\"food_subgroup\"].isna().sum()}\")\n",
    "print(f\"nulls in 'food_group': {food[\"food_group\"].isna().sum()}\")"
   ]
  },
  {
   "cell_type": "code",
   "execution_count": 9,
   "metadata": {},
   "outputs": [
    {
     "data": {
      "text/plain": [
       "(943, 6)"
      ]
     },
     "execution_count": 9,
     "metadata": {},
     "output_type": "execute_result"
    }
   ],
   "source": [
    "food.dropna(subset=[\"food_group\", \"food_subgroup\"], inplace=True)\n",
    "food.shape"
   ]
  },
  {
   "cell_type": "code",
   "execution_count": 10,
   "metadata": {},
   "outputs": [
    {
     "data": {
      "text/plain": [
       "food_group\n",
       "Aquatic foods                  0.179215\n",
       "Fruits                         0.161188\n",
       "Vegetables                     0.144221\n",
       "Herbs and Spices               0.132556\n",
       "Dishes                         0.049841\n",
       "Cereals and cereal products    0.048780\n",
       "Milk and milk products         0.038176\n",
       "Beverages                      0.033934\n",
       "Animal foods                   0.030753\n",
       "Confectioneries                0.030753\n",
       "Pulses                         0.029692\n",
       "Nuts                           0.028632\n",
       "Baking goods                   0.027572\n",
       "Gourds                         0.020148\n",
       "Soy                            0.007423\n",
       "Teas                           0.007423\n",
       "Snack foods                    0.007423\n",
       "Fats and oils                  0.007423\n",
       "Cocoa and cocoa products       0.006363\n",
       "Coffee and coffee products     0.004242\n",
       "Eggs                           0.002121\n",
       "Baby foods                     0.001060\n",
       "Herbs and spices               0.001060\n",
       "Name: proportion, dtype: float64"
      ]
     },
     "execution_count": 10,
     "metadata": {},
     "output_type": "execute_result"
    }
   ],
   "source": [
    "food[\"food_group\"].value_counts(normalize=True)"
   ]
  },
  {
   "cell_type": "code",
   "execution_count": 11,
   "metadata": {},
   "outputs": [
    {
     "data": {
      "text/plain": [
       "array(['Herbs and Spices', 'Vegetables', 'Fruits', 'Nuts',\n",
       "       'Cereals and cereal products', 'Pulses', 'Teas', 'Gourds',\n",
       "       'Coffee and coffee products', 'Soy', 'Cocoa and cocoa products',\n",
       "       'Beverages', 'Aquatic foods', 'Animal foods',\n",
       "       'Milk and milk products', 'Eggs', 'Confectioneries',\n",
       "       'Baking goods', 'Dishes', 'Snack foods', 'Baby foods',\n",
       "       'Fats and oils', 'Herbs and spices'], dtype=object)"
      ]
     },
     "execution_count": 11,
     "metadata": {},
     "output_type": "execute_result"
    }
   ],
   "source": [
    "food[\"food_group\"].unique()"
   ]
  },
  {
   "cell_type": "code",
   "execution_count": 12,
   "metadata": {},
   "outputs": [
    {
     "data": {
      "image/png": "[encoded data removed]",
      "text/plain": [
       "<Figure size 640x480 with 1 Axes>"
      ]
     },
     "metadata": {},
     "output_type": "display_data"
    }
   ],
   "source": [
    "food.groupby(\"food_group\").size().sort_values(ascending=False).plot(kind=\"bar\");"
   ]
  },
  {
   "cell_type": "code",
   "execution_count": 13,
   "metadata": {},
   "outputs": [
    {
     "data": {
      "text/plain": [
       "array(['Herbs and Spices', 'Vegetables', 'Fruits', 'Nuts',\n",
       "       'Cereals and cereal products', 'Pulses', 'Teas', 'Gourds',\n",
       "       'Coffee and coffee products', 'Soy', 'Cocoa and cocoa products',\n",
       "       'Beverages', 'Aquatic foods', 'Animal foods',\n",
       "       'Milk and milk products', 'Eggs', 'Confectioneries',\n",
       "       'Baking goods', 'Dishes', 'Snack foods', 'Baby foods',\n",
       "       'Fats and oils'], dtype=object)"
      ]
     },
     "execution_count": 13,
     "metadata": {},
     "output_type": "execute_result"
    }
   ],
   "source": [
    "food[\"food_group\"] = food[\"food_group\"].str.replace(\"Herbs and spices\", \"Herbs and Spices\")\n",
    "food[\"food_group\"].unique()"
   ]
  },
  {
   "cell_type": "code",
   "execution_count": 14,
   "metadata": {},
   "outputs": [
    {
     "data": {
      "text/html": [
       "<div>\n",
       "<style scoped>\n",
       "    .dataframe tbody tr th:only-of-type {\n",
       "        vertical-align: middle;\n",
       "    }\n",
       "\n",
       "    .dataframe tbody tr th {\n",
       "        vertical-align: top;\n",
       "    }\n",
       "\n",
       "    .dataframe thead th {\n",
       "        text-align: right;\n",
       "    }\n",
       "</style>\n",
       "<table border=\"1\" class=\"dataframe\">\n",
       "  <thead>\n",
       "    <tr style=\"text-align: right;\">\n",
       "      <th></th>\n",
       "      <th>name</th>\n",
       "      <th>name_scientific</th>\n",
       "      <th>description</th>\n",
       "      <th>wikipedia_id</th>\n",
       "      <th>food_group</th>\n",
       "      <th>food_subgroup</th>\n",
       "    </tr>\n",
       "  </thead>\n",
       "  <tbody>\n",
       "    <tr>\n",
       "      <th>636</th>\n",
       "      <td>Pizza</td>\n",
       "      <td>NaN</td>\n",
       "      <td>Pizza is an oven-baked flat bread typically to...</td>\n",
       "      <td>Pizza</td>\n",
       "      <td>Dishes</td>\n",
       "      <td>Other dishes</td>\n",
       "    </tr>\n",
       "    <tr>\n",
       "      <th>651</th>\n",
       "      <td>Sausage</td>\n",
       "      <td>NaN</td>\n",
       "      <td>Sausage is a food usually made from ground mea...</td>\n",
       "      <td>Sausage</td>\n",
       "      <td>Dishes</td>\n",
       "      <td>Ground meat</td>\n",
       "    </tr>\n",
       "    <tr>\n",
       "      <th>652</th>\n",
       "      <td>Meatball</td>\n",
       "      <td>NaN</td>\n",
       "      <td>Meatball is made from an amount of ground meat...</td>\n",
       "      <td>Meatball</td>\n",
       "      <td>Dishes</td>\n",
       "      <td>Ground meat</td>\n",
       "    </tr>\n",
       "    <tr>\n",
       "      <th>654</th>\n",
       "      <td>Pate</td>\n",
       "      <td>NaN</td>\n",
       "      <td>Pâté is a mixture of ground meat and fat mince...</td>\n",
       "      <td>Pâté</td>\n",
       "      <td>Dishes</td>\n",
       "      <td>Ground meat</td>\n",
       "    </tr>\n",
       "    <tr>\n",
       "      <th>668</th>\n",
       "      <td>Dumpling</td>\n",
       "      <td>NaN</td>\n",
       "      <td>Dumplings are cooked balls of dough. They are ...</td>\n",
       "      <td>Dumpling</td>\n",
       "      <td>Dishes</td>\n",
       "      <td>Other dishes</td>\n",
       "    </tr>\n",
       "    <tr>\n",
       "      <th>669</th>\n",
       "      <td>Soup</td>\n",
       "      <td>NaN</td>\n",
       "      <td>Soup is a generally warm food that is made by ...</td>\n",
       "      <td>Soup</td>\n",
       "      <td>Dishes</td>\n",
       "      <td>Other dishes</td>\n",
       "    </tr>\n",
       "    <tr>\n",
       "      <th>703</th>\n",
       "      <td>Burrito</td>\n",
       "      <td>NaN</td>\n",
       "      <td>A burrito, or taco de harina, is a type of Mex...</td>\n",
       "      <td>Burrito</td>\n",
       "      <td>Dishes</td>\n",
       "      <td>Tex-Mex cuisine</td>\n",
       "    </tr>\n",
       "    <tr>\n",
       "      <th>704</th>\n",
       "      <td>Hamburger</td>\n",
       "      <td>NaN</td>\n",
       "      <td>A hamburger (also called a hamburger sandwich ...</td>\n",
       "      <td>Hamburger</td>\n",
       "      <td>Dishes</td>\n",
       "      <td>Sandwiches</td>\n",
       "    </tr>\n",
       "    <tr>\n",
       "      <th>705</th>\n",
       "      <td>Baked beans</td>\n",
       "      <td>NaN</td>\n",
       "      <td>Baked beans is a dish containing beans, someti...</td>\n",
       "      <td>Baked_beans</td>\n",
       "      <td>Dishes</td>\n",
       "      <td>Other dishes</td>\n",
       "    </tr>\n",
       "    <tr>\n",
       "      <th>706</th>\n",
       "      <td>Chili</td>\n",
       "      <td>NaN</td>\n",
       "      <td>Chili con carne (often known simply as chili) ...</td>\n",
       "      <td>Chili_con_carne</td>\n",
       "      <td>Dishes</td>\n",
       "      <td>Tex-Mex cuisine</td>\n",
       "    </tr>\n",
       "  </tbody>\n",
       "</table>\n",
       "</div>"
      ],
      "text/plain": [
       "            name name_scientific  \\\n",
       "636        Pizza             NaN   \n",
       "651      Sausage             NaN   \n",
       "652     Meatball             NaN   \n",
       "654         Pate             NaN   \n",
       "668     Dumpling             NaN   \n",
       "669         Soup             NaN   \n",
       "703      Burrito             NaN   \n",
       "704    Hamburger             NaN   \n",
       "705  Baked beans             NaN   \n",
       "706        Chili             NaN   \n",
       "\n",
       "                                           description     wikipedia_id  \\\n",
       "636  Pizza is an oven-baked flat bread typically to...            Pizza   \n",
       "651  Sausage is a food usually made from ground mea...          Sausage   \n",
       "652  Meatball is made from an amount of ground meat...         Meatball   \n",
       "654  Pâté is a mixture of ground meat and fat mince...             Pâté   \n",
       "668  Dumplings are cooked balls of dough. They are ...         Dumpling   \n",
       "669  Soup is a generally warm food that is made by ...             Soup   \n",
       "703  A burrito, or taco de harina, is a type of Mex...          Burrito   \n",
       "704  A hamburger (also called a hamburger sandwich ...        Hamburger   \n",
       "705  Baked beans is a dish containing beans, someti...      Baked_beans   \n",
       "706  Chili con carne (often known simply as chili) ...  Chili_con_carne   \n",
       "\n",
       "    food_group    food_subgroup  \n",
       "636     Dishes     Other dishes  \n",
       "651     Dishes      Ground meat  \n",
       "652     Dishes      Ground meat  \n",
       "654     Dishes      Ground meat  \n",
       "668     Dishes     Other dishes  \n",
       "669     Dishes     Other dishes  \n",
       "703     Dishes  Tex-Mex cuisine  \n",
       "704     Dishes       Sandwiches  \n",
       "705     Dishes     Other dishes  \n",
       "706     Dishes  Tex-Mex cuisine  "
      ]
     },
     "execution_count": 14,
     "metadata": {},
     "output_type": "execute_result"
    }
   ],
   "source": [
    "# \"Dishes\"??? what kind of label is that\n",
    "food.loc[food[\"food_group\"] == \"Dishes\"].head(10)"
   ]
  },
  {
   "cell_type": "code",
   "execution_count": 15,
   "metadata": {},
   "outputs": [
    {
     "data": {
      "text/html": [
       "<div>\n",
       "<style scoped>\n",
       "    .dataframe tbody tr th:only-of-type {\n",
       "        vertical-align: middle;\n",
       "    }\n",
       "\n",
       "    .dataframe tbody tr th {\n",
       "        vertical-align: top;\n",
       "    }\n",
       "\n",
       "    .dataframe thead th {\n",
       "        text-align: right;\n",
       "    }\n",
       "</style>\n",
       "<table border=\"1\" class=\"dataframe\">\n",
       "  <thead>\n",
       "    <tr style=\"text-align: right;\">\n",
       "      <th></th>\n",
       "      <th>name</th>\n",
       "      <th>name_scientific</th>\n",
       "      <th>description</th>\n",
       "      <th>wikipedia_id</th>\n",
       "      <th>food_group</th>\n",
       "      <th>food_subgroup</th>\n",
       "    </tr>\n",
       "  </thead>\n",
       "  <tbody>\n",
       "    <tr>\n",
       "      <th>667</th>\n",
       "      <td>Baby food</td>\n",
       "      <td>NaN</td>\n",
       "      <td>Baby food is any soft, easily consumed food, o...</td>\n",
       "      <td>Baby food</td>\n",
       "      <td>Baby foods</td>\n",
       "      <td>Baby foods</td>\n",
       "    </tr>\n",
       "  </tbody>\n",
       "</table>\n",
       "</div>"
      ],
      "text/plain": [
       "          name name_scientific  \\\n",
       "667  Baby food             NaN   \n",
       "\n",
       "                                           description wikipedia_id  \\\n",
       "667  Baby food is any soft, easily consumed food, o...    Baby food   \n",
       "\n",
       "     food_group food_subgroup  \n",
       "667  Baby foods    Baby foods  "
      ]
     },
     "execution_count": 15,
     "metadata": {},
     "output_type": "execute_result"
    }
   ],
   "source": [
    "food.loc[food[\"food_group\"] == \"Baby foods\"].head()"
   ]
  },
  {
   "cell_type": "code",
   "execution_count": 29,
   "metadata": {},
   "outputs": [
    {
     "data": {
      "text/plain": [
       "22"
      ]
     },
     "execution_count": 29,
     "metadata": {},
     "output_type": "execute_result"
    }
   ],
   "source": [
    "len(food[\"food_group\"].unique())"
   ]
  },
  {
   "cell_type": "code",
   "execution_count": 16,
   "metadata": {},
   "outputs": [
    {
     "data": {
      "text/plain": [
       "112"
      ]
     },
     "execution_count": 16,
     "metadata": {},
     "output_type": "execute_result"
    }
   ],
   "source": [
    "len(food[\"food_subgroup\"].unique())"
   ]
  },
  {
   "cell_type": "code",
   "execution_count": 17,
   "metadata": {},
   "outputs": [
    {
     "data": {
      "text/plain": [
       "food_subgroup\n",
       "Fishes                 112\n",
       "Mollusks                18\n",
       "Crustaceans             12\n",
       "Seaweed                  9\n",
       "Pinnipeds                6\n",
       "Other aquatic foods      5\n",
       "Cetaceans                3\n",
       "Amphibians               1\n",
       "Fish products            1\n",
       "Roe                      1\n",
       "Bivalvia                 1\n",
       "Name: count, dtype: int64"
      ]
     },
     "execution_count": 17,
     "metadata": {},
     "output_type": "execute_result"
    }
   ],
   "source": [
    "fishy = food.loc[food[\"food_group\"] == \"Aquatic foods\"]\n",
    "fishy[\"food_subgroup\"].value_counts()"
   ]
  },
  {
   "cell_type": "markdown",
   "metadata": {},
   "source": [
    "---\n",
    "## prepare data for modeling\n",
    "- combine text columns, except for \"food_group\""
   ]
  },
  {
   "cell_type": "code",
   "execution_count": 18,
   "metadata": {},
   "outputs": [
    {
     "data": {
      "text/plain": [
       "['name', 'name_scientific', 'description', 'wikipedia_id', 'food_subgroup']"
      ]
     },
     "execution_count": 18,
     "metadata": {},
     "output_type": "execute_result"
    }
   ],
   "source": [
    "text_cols = list(food.columns)\n",
    "text_cols.remove(\"food_group\")\n",
    "text_cols"
   ]
  },
  {
   "cell_type": "code",
   "execution_count": 19,
   "metadata": {},
   "outputs": [
    {
     "data": {
      "text/plain": [
       "0    Angelica Angelica keiskei Angelica is a genus ...\n",
       "1    Savoy cabbage Brassica oleracea var. sabauda S...\n",
       "2    Silver linden Tilia argentea Tilia tomentosa (...\n",
       "Name: all_text, dtype: object"
      ]
     },
     "execution_count": 19,
     "metadata": {},
     "output_type": "execute_result"
    }
   ],
   "source": [
    "food.fillna(\"\", inplace=True)\n",
    "\n",
    "food[\"all_text\"] = food[text_cols].apply(\" \".join, axis=1)\n",
    "food[\"all_text\"].head(3)"
   ]
  },
  {
   "cell_type": "markdown",
   "metadata": {},
   "source": [
    "---\n",
    "- wouldn't it be cool if I could do the transformations of both the data & the target in a pipeline?\n",
    "- sadly, this did not work; I tried:\n",
    "    - passing the whole df to `test_pipe.fit`, without doing a train/test split\n",
    "    - passing the columns, no train/test split\n",
    "    - doing the train/test split & passing `X_train` and `y_train`"
   ]
  },
  {
   "cell_type": "code",
   "execution_count": 30,
   "metadata": {},
   "outputs": [],
   "source": [
    "# inspired by this article: https://towardsdatascience.com/step-by-step-tutorial-of-sci-kit-learn-pipeline-62402d5629b6\n",
    "\n",
    "data_transformer = Pipeline(steps=[\n",
    "    (\"tfidf\", TfidfVectorizer(stop_words=\"english\"))\n",
    "])\n",
    "\n",
    "target_transformer = Pipeline(steps=[\n",
    "    (\"ord_encoder\", OrdinalEncoder(categories=food[\"food_group\"].unique()))\n",
    "])\n",
    "\n",
    "preprocessor = ColumnTransformer(transformers=[\n",
    "    (\"data\", data_transformer, \"all_text\"),\n",
    "    (\"target\", target_transformer, \"food_group\")\n",
    "])\n",
    "\n",
    "test_pipe = Pipeline(steps=[\n",
    "    (\"preprocessor\", preprocessor),\n",
    "    (\"log_reg\", LogisticRegression(max_iter=1000))\n",
    "])"
   ]
  },
  {
   "cell_type": "code",
   "execution_count": 26,
   "metadata": {},
   "outputs": [],
   "source": [
    "X = food.drop(columns=[\"food_group\"])\n",
    "y = food[\"food_group\"]\n",
    "\n",
    "X_train, X_test, y_train, y_test = train_test_split(X, y, test_size=0.2, random_state=42)"
   ]
  },
  {
   "cell_type": "code",
   "execution_count": 28,
   "metadata": {},
   "outputs": [],
   "source": [
    "# lr_model = test_pipe.fit(X_train, y_train)"
   ]
  },
  {
   "cell_type": "markdown",
   "metadata": {},
   "source": [
    "---\n",
    "### transform target\n",
    "- there are 22 labels in the \"food_group\" column\n",
    "- trying a few different ways to encode those labels:\n",
    "    - label encoder: just assigns a numerical value to each label\n",
    "    - target encoder: calculates the probability of each label occurring\n",
    "    - OHE: sparse array of binary values\n",
    "    - get_dummies: \n",
    "- since some of the labels have very few instances in the data, I'm using cross-validation to evaluate thse encoders rather than train/test split"
   ]
  },
  {
   "cell_type": "code",
   "execution_count": 36,
   "metadata": {},
   "outputs": [],
   "source": [
    "label_encoder = LabelEncoder()\n",
    "label_enc_y = label_encoder.fit_transform(food[\"food_group\"])"
   ]
  },
  {
   "cell_type": "code",
   "execution_count": 38,
   "metadata": {},
   "outputs": [
    {
     "name": "stderr",
     "output_type": "stream",
     "text": [
      "/Users/heathercait/anaconda3/envs/capstone/lib/python3.12/site-packages/sklearn/model_selection/_split.py:737: UserWarning: The least populated class in y has only 1 members, which is less than n_splits=5.\n",
      "  warnings.warn(\n"
     ]
    },
    {
     "data": {
      "text/plain": [
       "0.6744455701902511"
      ]
     },
     "execution_count": 38,
     "metadata": {},
     "output_type": "execute_result"
    }
   ],
   "source": [
    "tfidf = TfidfVectorizer(stop_words=\"english\")\n",
    "tfidf_x = tfidf.fit_transform(food[\"all_text\"])\n",
    "\n",
    "lr = LogisticRegression(max_iter=1000)\n",
    "cross_val_score(lr, tfidf_x, label_enc_y, cv=5).mean()"
   ]
  },
  {
   "cell_type": "code",
   "execution_count": null,
   "metadata": {},
   "outputs": [],
   "source": []
  },
  {
   "cell_type": "code",
   "execution_count": null,
   "metadata": {},
   "outputs": [],
   "source": []
  },
  {
   "cell_type": "code",
   "execution_count": null,
   "metadata": {},
   "outputs": [],
   "source": []
  },
  {
   "cell_type": "code",
   "execution_count": null,
   "metadata": {},
   "outputs": [],
   "source": []
  },
  {
   "cell_type": "code",
   "execution_count": null,
   "metadata": {},
   "outputs": [],
   "source": [
    "# defining params for the different models\n",
    "pipe_params = {\n",
    "    \"tfidf__max_features\": [None, 250, 300],\n",
    "    \"tfidf__min_df\": [1, 0.01, 0.05],\n",
    "    \"tfidf__max_df\": [1.0, 0.98, 0.95, 0.9],\n",
    "    \"tfidf__ngram_range\": [(1,1), (1,2), (1,3)],\n",
    "    \"lr__solver\": [\"lbfgs\", \"liblinear\"],\n",
    "    \"lr__C\": [1.0, 0.1, 10],\n",
    "    \"multi__alpha\": [1.0, 0.5],\n",
    "    \"rfc__n_estimators\": [100, 50, 150],\n",
    "    \"rfc__max_depth\": [None, 5, 10],\n",
    "    \"rfc__min_samples_split\": [2, 5, 7],\n",
    "    \"rfc__min_samples_leaf\": [1, 2, 3],\n",
    "    \"rfc__bootstrap\": [True, False]\n",
    "}"
   ]
  },
  {
   "cell_type": "code",
   "execution_count": null,
   "metadata": {},
   "outputs": [],
   "source": [
    "# and the pipelines\n",
    "lr_pipe = [(\"tfidf\", TfidfVectorizer(stop_words=\"english\")), (\"lr\", LogisticRegression(max_iter=1000))]\n",
    "multi_pipe = [(\"tfidf\", TfidfVectorizer(stop_words=\"english\")), (\"multi\", )]\n"
   ]
  },
  {
   "cell_type": "code",
   "execution_count": null,
   "metadata": {},
   "outputs": [],
   "source": []
  },
  {
   "cell_type": "code",
   "execution_count": null,
   "metadata": {},
   "outputs": [],
   "source": []
  }
 ],
 "metadata": {
  "kernelspec": {
   "display_name": "capstone",
   "language": "python",
   "name": "python3"
  },
  "language_info": {
   "codemirror_mode": {
    "name": "ipython",
    "version": 3
   },
   "file_extension": ".py",
   "mimetype": "text/x-python",
   "name": "python",
   "nbconvert_exporter": "python",
   "pygments_lexer": "ipython3",
   "version": "3.12.1"
  }
 },
 "nbformat": 4,
 "nbformat_minor": 2
}
