{
  "cells": [
    {
      "cell_type": "markdown",
      "metadata": {
        "id": "7rs5-tVN8r5-"
      },
      "source": [
        "# Run classification models in colab\n",
        "- this is mostly the same work as in the classifying_food.ipynb but running in colab to accommodate the size of the data\n",
        "- check out that notebook for additional EDA on these tables"
      ]
    },
    {
      "cell_type": "code",
      "execution_count": 30,
      "metadata": {
        "id": "WxCJxDss8r5_"
      },
      "outputs": [],
      "source": [
        "import pickle\n",
        "import importlib\n",
        "import numpy as np\n",
        "import pandas as pd\n",
        "\n",
        "# import seaborn as sns\n",
        "import matplotlib.pyplot as plt\n",
        "from sklearn.preprocessing import LabelEncoder\n",
        "from sklearn.pipeline import Pipeline\n",
        "from sklearn.model_selection import train_test_split, GridSearchCV\n",
        "from sklearn.feature_extraction.text import TfidfVectorizer\n",
        "from sklearn.linear_model import LogisticRegression\n",
        "from sklearn.naive_bayes import MultinomialNB\n",
        "from sklearn.neighbors import KNeighborsClassifier\n",
        "from sklearn.ensemble import RandomForestClassifier\n",
        "from sklearn.svm import SVC\n",
        "from sklearn.metrics import f1_score\n",
        "from sklearn.metrics import mean_absolute_error"
      ]
    },
    {
      "cell_type": "code",
      "execution_count": 2,
      "metadata": {
        "colab": {
          "base_uri": "https://localhost:8080/"
        },
        "id": "m6LcbZqt8r6A",
        "outputId": "7a8f249c-7249-4619-998b-bbe8e101ab1d"
      },
      "outputs": [
        {
          "output_type": "stream",
          "name": "stdout",
          "text": [
            "Mounted at /content/drive\n"
          ]
        }
      ],
      "source": [
        "# from https://medium.com/analytics-vidhya/importing-your-own-python-module-or-python-file-into-colab-3e365f0a35ec\n",
        "# there's NO WAY colab needs all of those permissions\n",
        "from google.colab import drive\n",
        "drive.mount('/content/drive')"
      ]
    },
    {
      "cell_type": "code",
      "source": [
        "import sys\n",
        "sys.path.insert(0,\"/content/drive/My Drive/GeneralAssembly/capstone\")\n",
        "import modeling"
      ],
      "metadata": {
        "id": "tE32um1UFPtE"
      },
      "execution_count": 3,
      "outputs": []
    },
    {
      "cell_type": "markdown",
      "metadata": {
        "id": "Pg467cU78r6A"
      },
      "source": [
        "#### pull data & basic cleanup\n",
        "- get rid of columns that I won\"t use\n",
        "- remove the 47 rows that are missing \"description\" data"
      ]
    },
    {
      "cell_type": "code",
      "execution_count": 4,
      "metadata": {
        "colab": {
          "base_uri": "https://localhost:8080/",
          "height": 384
        },
        "id": "oJiFxHiU8r6A",
        "outputId": "9553f3c5-c7f5-4290-b411-9340b5cc9108"
      },
      "outputs": [
        {
          "output_type": "execute_result",
          "data": {
            "text/plain": [
              "   id           name                 name_scientific  \\\n",
              "0   1       Angelica                Angelica keiskei   \n",
              "1   2  Savoy cabbage  Brassica oleracea var. sabauda   \n",
              "2   3  Silver linden                  Tilia argentea   \n",
              "\n",
              "                                         description   itis_id  \\\n",
              "0  Angelica is a genus of about 60 species of tal...       NaN   \n",
              "1  Savoy cabbage (Brassica oleracea convar. capit...       NaN   \n",
              "2  Tilia tomentosa (Silver Lime in the UK and Sil...  845789.0   \n",
              "\n",
              "      wikipedia_id picture_file_name picture_content_type  picture_file_size  \\\n",
              "0         Angelica             1.jpg           image/jpeg           111325.0   \n",
              "1    Savoy cabbage             2.jpg           image/jpeg           155178.0   \n",
              "2  Tilia tomentosa             3.jpg           image/jpeg            56367.0   \n",
              "\n",
              "        picture_updated_at  ...  food_type               created_at  \\\n",
              "0  2012-04-20 09:29:57 UTC  ...     Type 1  2011-02-09 00:37:14 UTC   \n",
              "1  2012-04-20 09:39:54 UTC  ...     Type 1  2011-02-09 00:37:15 UTC   \n",
              "2  2012-04-20 09:41:25 UTC  ...     Type 1  2011-02-09 00:37:15 UTC   \n",
              "\n",
              "                updated_at creator_id updater_id export_to_afcdb  category  \\\n",
              "0  2019-05-14 18:04:13 UTC        NaN        2.0           False  specific   \n",
              "1  2019-05-14 18:04:13 UTC        NaN        NaN           False  specific   \n",
              "2  2019-05-17 16:19:45 UTC        NaN        NaN           False  specific   \n",
              "\n",
              "   ncbi_taxonomy_id  export_to_foodb  public_id  \n",
              "0          357850.0             True  FOOD00001  \n",
              "1         1216010.0             True  FOOD00002  \n",
              "2               NaN             True  FOOD00003  \n",
              "\n",
              "[3 rows x 23 columns]"
            ],
            "text/html": [
              "\n",
              "  <div id=\"df-5387b231-440f-4fe6-9a8f-2ab723f4014f\" class=\"colab-df-container\">\n",
              "    <div>\n",
              "<style scoped>\n",
              "    .dataframe tbody tr th:only-of-type {\n",
              "        vertical-align: middle;\n",
              "    }\n",
              "\n",
              "    .dataframe tbody tr th {\n",
              "        vertical-align: top;\n",
              "    }\n",
              "\n",
              "    .dataframe thead th {\n",
              "        text-align: right;\n",
              "    }\n",
              "</style>\n",
              "<table border=\"1\" class=\"dataframe\">\n",
              "  <thead>\n",
              "    <tr style=\"text-align: right;\">\n",
              "      <th></th>\n",
              "      <th>id</th>\n",
              "      <th>name</th>\n",
              "      <th>name_scientific</th>\n",
              "      <th>description</th>\n",
              "      <th>itis_id</th>\n",
              "      <th>wikipedia_id</th>\n",
              "      <th>picture_file_name</th>\n",
              "      <th>picture_content_type</th>\n",
              "      <th>picture_file_size</th>\n",
              "      <th>picture_updated_at</th>\n",
              "      <th>...</th>\n",
              "      <th>food_type</th>\n",
              "      <th>created_at</th>\n",
              "      <th>updated_at</th>\n",
              "      <th>creator_id</th>\n",
              "      <th>updater_id</th>\n",
              "      <th>export_to_afcdb</th>\n",
              "      <th>category</th>\n",
              "      <th>ncbi_taxonomy_id</th>\n",
              "      <th>export_to_foodb</th>\n",
              "      <th>public_id</th>\n",
              "    </tr>\n",
              "  </thead>\n",
              "  <tbody>\n",
              "    <tr>\n",
              "      <th>0</th>\n",
              "      <td>1</td>\n",
              "      <td>Angelica</td>\n",
              "      <td>Angelica keiskei</td>\n",
              "      <td>Angelica is a genus of about 60 species of tal...</td>\n",
              "      <td>NaN</td>\n",
              "      <td>Angelica</td>\n",
              "      <td>1.jpg</td>\n",
              "      <td>image/jpeg</td>\n",
              "      <td>111325.0</td>\n",
              "      <td>2012-04-20 09:29:57 UTC</td>\n",
              "      <td>...</td>\n",
              "      <td>Type 1</td>\n",
              "      <td>2011-02-09 00:37:14 UTC</td>\n",
              "      <td>2019-05-14 18:04:13 UTC</td>\n",
              "      <td>NaN</td>\n",
              "      <td>2.0</td>\n",
              "      <td>False</td>\n",
              "      <td>specific</td>\n",
              "      <td>357850.0</td>\n",
              "      <td>True</td>\n",
              "      <td>FOOD00001</td>\n",
              "    </tr>\n",
              "    <tr>\n",
              "      <th>1</th>\n",
              "      <td>2</td>\n",
              "      <td>Savoy cabbage</td>\n",
              "      <td>Brassica oleracea var. sabauda</td>\n",
              "      <td>Savoy cabbage (Brassica oleracea convar. capit...</td>\n",
              "      <td>NaN</td>\n",
              "      <td>Savoy cabbage</td>\n",
              "      <td>2.jpg</td>\n",
              "      <td>image/jpeg</td>\n",
              "      <td>155178.0</td>\n",
              "      <td>2012-04-20 09:39:54 UTC</td>\n",
              "      <td>...</td>\n",
              "      <td>Type 1</td>\n",
              "      <td>2011-02-09 00:37:15 UTC</td>\n",
              "      <td>2019-05-14 18:04:13 UTC</td>\n",
              "      <td>NaN</td>\n",
              "      <td>NaN</td>\n",
              "      <td>False</td>\n",
              "      <td>specific</td>\n",
              "      <td>1216010.0</td>\n",
              "      <td>True</td>\n",
              "      <td>FOOD00002</td>\n",
              "    </tr>\n",
              "    <tr>\n",
              "      <th>2</th>\n",
              "      <td>3</td>\n",
              "      <td>Silver linden</td>\n",
              "      <td>Tilia argentea</td>\n",
              "      <td>Tilia tomentosa (Silver Lime in the UK and Sil...</td>\n",
              "      <td>845789.0</td>\n",
              "      <td>Tilia tomentosa</td>\n",
              "      <td>3.jpg</td>\n",
              "      <td>image/jpeg</td>\n",
              "      <td>56367.0</td>\n",
              "      <td>2012-04-20 09:41:25 UTC</td>\n",
              "      <td>...</td>\n",
              "      <td>Type 1</td>\n",
              "      <td>2011-02-09 00:37:15 UTC</td>\n",
              "      <td>2019-05-17 16:19:45 UTC</td>\n",
              "      <td>NaN</td>\n",
              "      <td>NaN</td>\n",
              "      <td>False</td>\n",
              "      <td>specific</td>\n",
              "      <td>NaN</td>\n",
              "      <td>True</td>\n",
              "      <td>FOOD00003</td>\n",
              "    </tr>\n",
              "  </tbody>\n",
              "</table>\n",
              "<p>3 rows × 23 columns</p>\n",
              "</div>\n",
              "    <div class=\"colab-df-buttons\">\n",
              "\n",
              "  <div class=\"colab-df-container\">\n",
              "    <button class=\"colab-df-convert\" onclick=\"convertToInteractive('df-5387b231-440f-4fe6-9a8f-2ab723f4014f')\"\n",
              "            title=\"Convert this dataframe to an interactive table.\"\n",
              "            style=\"display:none;\">\n",
              "\n",
              "  <svg xmlns=\"http://www.w3.org/2000/svg\" height=\"24px\" viewBox=\"0 -960 960 960\">\n",
              "    <path d=\"M120-120v-720h720v720H120Zm60-500h600v-160H180v160Zm220 220h160v-160H400v160Zm0 220h160v-160H400v160ZM180-400h160v-160H180v160Zm440 0h160v-160H620v160ZM180-180h160v-160H180v160Zm440 0h160v-160H620v160Z\"/>\n",
              "  </svg>\n",
              "    </button>\n",
              "\n",
              "  <style>\n",
              "    .colab-df-container {\n",
              "      display:flex;\n",
              "      gap: 12px;\n",
              "    }\n",
              "\n",
              "    .colab-df-convert {\n",
              "      background-color: #E8F0FE;\n",
              "      border: none;\n",
              "      border-radius: 50%;\n",
              "      cursor: pointer;\n",
              "      display: none;\n",
              "      fill: #1967D2;\n",
              "      height: 32px;\n",
              "      padding: 0 0 0 0;\n",
              "      width: 32px;\n",
              "    }\n",
              "\n",
              "    .colab-df-convert:hover {\n",
              "      background-color: #E2EBFA;\n",
              "      box-shadow: 0px 1px 2px rgba(60, 64, 67, 0.3), 0px 1px 3px 1px rgba(60, 64, 67, 0.15);\n",
              "      fill: #174EA6;\n",
              "    }\n",
              "\n",
              "    .colab-df-buttons div {\n",
              "      margin-bottom: 4px;\n",
              "    }\n",
              "\n",
              "    [theme=dark] .colab-df-convert {\n",
              "      background-color: #3B4455;\n",
              "      fill: #D2E3FC;\n",
              "    }\n",
              "\n",
              "    [theme=dark] .colab-df-convert:hover {\n",
              "      background-color: #434B5C;\n",
              "      box-shadow: 0px 1px 3px 1px rgba(0, 0, 0, 0.15);\n",
              "      filter: drop-shadow(0px 1px 2px rgba(0, 0, 0, 0.3));\n",
              "      fill: #FFFFFF;\n",
              "    }\n",
              "  </style>\n",
              "\n",
              "    <script>\n",
              "      const buttonEl =\n",
              "        document.querySelector('#df-5387b231-440f-4fe6-9a8f-2ab723f4014f button.colab-df-convert');\n",
              "      buttonEl.style.display =\n",
              "        google.colab.kernel.accessAllowed ? 'block' : 'none';\n",
              "\n",
              "      async function convertToInteractive(key) {\n",
              "        const element = document.querySelector('#df-5387b231-440f-4fe6-9a8f-2ab723f4014f');\n",
              "        const dataTable =\n",
              "          await google.colab.kernel.invokeFunction('convertToInteractive',\n",
              "                                                    [key], {});\n",
              "        if (!dataTable) return;\n",
              "\n",
              "        const docLinkHtml = 'Like what you see? Visit the ' +\n",
              "          '<a target=\"_blank\" href=https://colab.research.google.com/notebooks/data_table.ipynb>data table notebook</a>'\n",
              "          + ' to learn more about interactive tables.';\n",
              "        element.innerHTML = '';\n",
              "        dataTable['output_type'] = 'display_data';\n",
              "        await google.colab.output.renderOutput(dataTable, element);\n",
              "        const docLink = document.createElement('div');\n",
              "        docLink.innerHTML = docLinkHtml;\n",
              "        element.appendChild(docLink);\n",
              "      }\n",
              "    </script>\n",
              "  </div>\n",
              "\n",
              "\n",
              "<div id=\"df-c9216a2d-d5fe-4a55-912e-bf426437a184\">\n",
              "  <button class=\"colab-df-quickchart\" onclick=\"quickchart('df-c9216a2d-d5fe-4a55-912e-bf426437a184')\"\n",
              "            title=\"Suggest charts\"\n",
              "            style=\"display:none;\">\n",
              "\n",
              "<svg xmlns=\"http://www.w3.org/2000/svg\" height=\"24px\"viewBox=\"0 0 24 24\"\n",
              "     width=\"24px\">\n",
              "    <g>\n",
              "        <path d=\"M19 3H5c-1.1 0-2 .9-2 2v14c0 1.1.9 2 2 2h14c1.1 0 2-.9 2-2V5c0-1.1-.9-2-2-2zM9 17H7v-7h2v7zm4 0h-2V7h2v10zm4 0h-2v-4h2v4z\"/>\n",
              "    </g>\n",
              "</svg>\n",
              "  </button>\n",
              "\n",
              "<style>\n",
              "  .colab-df-quickchart {\n",
              "      --bg-color: #E8F0FE;\n",
              "      --fill-color: #1967D2;\n",
              "      --hover-bg-color: #E2EBFA;\n",
              "      --hover-fill-color: #174EA6;\n",
              "      --disabled-fill-color: #AAA;\n",
              "      --disabled-bg-color: #DDD;\n",
              "  }\n",
              "\n",
              "  [theme=dark] .colab-df-quickchart {\n",
              "      --bg-color: #3B4455;\n",
              "      --fill-color: #D2E3FC;\n",
              "      --hover-bg-color: #434B5C;\n",
              "      --hover-fill-color: #FFFFFF;\n",
              "      --disabled-bg-color: #3B4455;\n",
              "      --disabled-fill-color: #666;\n",
              "  }\n",
              "\n",
              "  .colab-df-quickchart {\n",
              "    background-color: var(--bg-color);\n",
              "    border: none;\n",
              "    border-radius: 50%;\n",
              "    cursor: pointer;\n",
              "    display: none;\n",
              "    fill: var(--fill-color);\n",
              "    height: 32px;\n",
              "    padding: 0;\n",
              "    width: 32px;\n",
              "  }\n",
              "\n",
              "  .colab-df-quickchart:hover {\n",
              "    background-color: var(--hover-bg-color);\n",
              "    box-shadow: 0 1px 2px rgba(60, 64, 67, 0.3), 0 1px 3px 1px rgba(60, 64, 67, 0.15);\n",
              "    fill: var(--button-hover-fill-color);\n",
              "  }\n",
              "\n",
              "  .colab-df-quickchart-complete:disabled,\n",
              "  .colab-df-quickchart-complete:disabled:hover {\n",
              "    background-color: var(--disabled-bg-color);\n",
              "    fill: var(--disabled-fill-color);\n",
              "    box-shadow: none;\n",
              "  }\n",
              "\n",
              "  .colab-df-spinner {\n",
              "    border: 2px solid var(--fill-color);\n",
              "    border-color: transparent;\n",
              "    border-bottom-color: var(--fill-color);\n",
              "    animation:\n",
              "      spin 1s steps(1) infinite;\n",
              "  }\n",
              "\n",
              "  @keyframes spin {\n",
              "    0% {\n",
              "      border-color: transparent;\n",
              "      border-bottom-color: var(--fill-color);\n",
              "      border-left-color: var(--fill-color);\n",
              "    }\n",
              "    20% {\n",
              "      border-color: transparent;\n",
              "      border-left-color: var(--fill-color);\n",
              "      border-top-color: var(--fill-color);\n",
              "    }\n",
              "    30% {\n",
              "      border-color: transparent;\n",
              "      border-left-color: var(--fill-color);\n",
              "      border-top-color: var(--fill-color);\n",
              "      border-right-color: var(--fill-color);\n",
              "    }\n",
              "    40% {\n",
              "      border-color: transparent;\n",
              "      border-right-color: var(--fill-color);\n",
              "      border-top-color: var(--fill-color);\n",
              "    }\n",
              "    60% {\n",
              "      border-color: transparent;\n",
              "      border-right-color: var(--fill-color);\n",
              "    }\n",
              "    80% {\n",
              "      border-color: transparent;\n",
              "      border-right-color: var(--fill-color);\n",
              "      border-bottom-color: var(--fill-color);\n",
              "    }\n",
              "    90% {\n",
              "      border-color: transparent;\n",
              "      border-bottom-color: var(--fill-color);\n",
              "    }\n",
              "  }\n",
              "</style>\n",
              "\n",
              "  <script>\n",
              "    async function quickchart(key) {\n",
              "      const quickchartButtonEl =\n",
              "        document.querySelector('#' + key + ' button');\n",
              "      quickchartButtonEl.disabled = true;  // To prevent multiple clicks.\n",
              "      quickchartButtonEl.classList.add('colab-df-spinner');\n",
              "      try {\n",
              "        const charts = await google.colab.kernel.invokeFunction(\n",
              "            'suggestCharts', [key], {});\n",
              "      } catch (error) {\n",
              "        console.error('Error during call to suggestCharts:', error);\n",
              "      }\n",
              "      quickchartButtonEl.classList.remove('colab-df-spinner');\n",
              "      quickchartButtonEl.classList.add('colab-df-quickchart-complete');\n",
              "    }\n",
              "    (() => {\n",
              "      let quickchartButtonEl =\n",
              "        document.querySelector('#df-c9216a2d-d5fe-4a55-912e-bf426437a184 button');\n",
              "      quickchartButtonEl.style.display =\n",
              "        google.colab.kernel.accessAllowed ? 'block' : 'none';\n",
              "    })();\n",
              "  </script>\n",
              "</div>\n",
              "\n",
              "    </div>\n",
              "  </div>\n"
            ],
            "application/vnd.google.colaboratory.intrinsic+json": {
              "type": "dataframe",
              "variable_name": "food"
            }
          },
          "metadata": {},
          "execution_count": 4
        }
      ],
      "source": [
        "food = pd.read_csv(\"/content/sample_data/Food.csv\")\n",
        "food.head(3)"
      ]
    },
    {
      "cell_type": "code",
      "execution_count": 5,
      "metadata": {
        "colab": {
          "base_uri": "https://localhost:8080/"
        },
        "id": "5fe-_7oN8r6B",
        "outputId": "e24b70ba-e2fe-413f-f40e-d4433578154d"
      },
      "outputs": [
        {
          "output_type": "stream",
          "name": "stdout",
          "text": [
            "keeping columns: {'wikipedia_id', 'name', 'id', 'food_group', 'name_scientific', 'food_subgroup', 'description'}\n"
          ]
        }
      ],
      "source": [
        "# getting rid of columns I don\"t care about\n",
        "drop_columns = [\"itis_id\", \"picture_file_name\", \"picture_content_type\", \"picture_file_size\", \"picture_updated_at\", \"legacy_id\", \"created_at\", \"updated_at\", \"creator_id\",\n",
        "       \"updater_id\", \"export_to_afcdb\", \"category\", \"ncbi_taxonomy_id\", \"export_to_foodb\", \"public_id\", \"food_type\"]\n",
        "\n",
        "print(f\"keeping columns: {set(food.columns).difference(set(drop_columns))}\")"
      ]
    },
    {
      "cell_type": "code",
      "execution_count": 6,
      "metadata": {
        "colab": {
          "base_uri": "https://localhost:8080/",
          "height": 143
        },
        "id": "maFaEv3L8r6B",
        "outputId": "d023febe-2f33-446a-c35f-1cde290c3c52"
      },
      "outputs": [
        {
          "output_type": "execute_result",
          "data": {
            "text/plain": [
              "   id           name                 name_scientific  \\\n",
              "0   1       Angelica                Angelica keiskei   \n",
              "1   2  Savoy cabbage  Brassica oleracea var. sabauda   \n",
              "2   3  Silver linden                  Tilia argentea   \n",
              "\n",
              "                                         description     wikipedia_id  \\\n",
              "0  Angelica is a genus of about 60 species of tal...         Angelica   \n",
              "1  Savoy cabbage (Brassica oleracea convar. capit...    Savoy cabbage   \n",
              "2  Tilia tomentosa (Silver Lime in the UK and Sil...  Tilia tomentosa   \n",
              "\n",
              "         food_group food_subgroup  \n",
              "0  Herbs and Spices         Herbs  \n",
              "1        Vegetables      Cabbages  \n",
              "2  Herbs and Spices         Herbs  "
            ],
            "text/html": [
              "\n",
              "  <div id=\"df-35ca7ba1-ad23-40f9-9851-afadb89d7678\" class=\"colab-df-container\">\n",
              "    <div>\n",
              "<style scoped>\n",
              "    .dataframe tbody tr th:only-of-type {\n",
              "        vertical-align: middle;\n",
              "    }\n",
              "\n",
              "    .dataframe tbody tr th {\n",
              "        vertical-align: top;\n",
              "    }\n",
              "\n",
              "    .dataframe thead th {\n",
              "        text-align: right;\n",
              "    }\n",
              "</style>\n",
              "<table border=\"1\" class=\"dataframe\">\n",
              "  <thead>\n",
              "    <tr style=\"text-align: right;\">\n",
              "      <th></th>\n",
              "      <th>id</th>\n",
              "      <th>name</th>\n",
              "      <th>name_scientific</th>\n",
              "      <th>description</th>\n",
              "      <th>wikipedia_id</th>\n",
              "      <th>food_group</th>\n",
              "      <th>food_subgroup</th>\n",
              "    </tr>\n",
              "  </thead>\n",
              "  <tbody>\n",
              "    <tr>\n",
              "      <th>0</th>\n",
              "      <td>1</td>\n",
              "      <td>Angelica</td>\n",
              "      <td>Angelica keiskei</td>\n",
              "      <td>Angelica is a genus of about 60 species of tal...</td>\n",
              "      <td>Angelica</td>\n",
              "      <td>Herbs and Spices</td>\n",
              "      <td>Herbs</td>\n",
              "    </tr>\n",
              "    <tr>\n",
              "      <th>1</th>\n",
              "      <td>2</td>\n",
              "      <td>Savoy cabbage</td>\n",
              "      <td>Brassica oleracea var. sabauda</td>\n",
              "      <td>Savoy cabbage (Brassica oleracea convar. capit...</td>\n",
              "      <td>Savoy cabbage</td>\n",
              "      <td>Vegetables</td>\n",
              "      <td>Cabbages</td>\n",
              "    </tr>\n",
              "    <tr>\n",
              "      <th>2</th>\n",
              "      <td>3</td>\n",
              "      <td>Silver linden</td>\n",
              "      <td>Tilia argentea</td>\n",
              "      <td>Tilia tomentosa (Silver Lime in the UK and Sil...</td>\n",
              "      <td>Tilia tomentosa</td>\n",
              "      <td>Herbs and Spices</td>\n",
              "      <td>Herbs</td>\n",
              "    </tr>\n",
              "  </tbody>\n",
              "</table>\n",
              "</div>\n",
              "    <div class=\"colab-df-buttons\">\n",
              "\n",
              "  <div class=\"colab-df-container\">\n",
              "    <button class=\"colab-df-convert\" onclick=\"convertToInteractive('df-35ca7ba1-ad23-40f9-9851-afadb89d7678')\"\n",
              "            title=\"Convert this dataframe to an interactive table.\"\n",
              "            style=\"display:none;\">\n",
              "\n",
              "  <svg xmlns=\"http://www.w3.org/2000/svg\" height=\"24px\" viewBox=\"0 -960 960 960\">\n",
              "    <path d=\"M120-120v-720h720v720H120Zm60-500h600v-160H180v160Zm220 220h160v-160H400v160Zm0 220h160v-160H400v160ZM180-400h160v-160H180v160Zm440 0h160v-160H620v160ZM180-180h160v-160H180v160Zm440 0h160v-160H620v160Z\"/>\n",
              "  </svg>\n",
              "    </button>\n",
              "\n",
              "  <style>\n",
              "    .colab-df-container {\n",
              "      display:flex;\n",
              "      gap: 12px;\n",
              "    }\n",
              "\n",
              "    .colab-df-convert {\n",
              "      background-color: #E8F0FE;\n",
              "      border: none;\n",
              "      border-radius: 50%;\n",
              "      cursor: pointer;\n",
              "      display: none;\n",
              "      fill: #1967D2;\n",
              "      height: 32px;\n",
              "      padding: 0 0 0 0;\n",
              "      width: 32px;\n",
              "    }\n",
              "\n",
              "    .colab-df-convert:hover {\n",
              "      background-color: #E2EBFA;\n",
              "      box-shadow: 0px 1px 2px rgba(60, 64, 67, 0.3), 0px 1px 3px 1px rgba(60, 64, 67, 0.15);\n",
              "      fill: #174EA6;\n",
              "    }\n",
              "\n",
              "    .colab-df-buttons div {\n",
              "      margin-bottom: 4px;\n",
              "    }\n",
              "\n",
              "    [theme=dark] .colab-df-convert {\n",
              "      background-color: #3B4455;\n",
              "      fill: #D2E3FC;\n",
              "    }\n",
              "\n",
              "    [theme=dark] .colab-df-convert:hover {\n",
              "      background-color: #434B5C;\n",
              "      box-shadow: 0px 1px 3px 1px rgba(0, 0, 0, 0.15);\n",
              "      filter: drop-shadow(0px 1px 2px rgba(0, 0, 0, 0.3));\n",
              "      fill: #FFFFFF;\n",
              "    }\n",
              "  </style>\n",
              "\n",
              "    <script>\n",
              "      const buttonEl =\n",
              "        document.querySelector('#df-35ca7ba1-ad23-40f9-9851-afadb89d7678 button.colab-df-convert');\n",
              "      buttonEl.style.display =\n",
              "        google.colab.kernel.accessAllowed ? 'block' : 'none';\n",
              "\n",
              "      async function convertToInteractive(key) {\n",
              "        const element = document.querySelector('#df-35ca7ba1-ad23-40f9-9851-afadb89d7678');\n",
              "        const dataTable =\n",
              "          await google.colab.kernel.invokeFunction('convertToInteractive',\n",
              "                                                    [key], {});\n",
              "        if (!dataTable) return;\n",
              "\n",
              "        const docLinkHtml = 'Like what you see? Visit the ' +\n",
              "          '<a target=\"_blank\" href=https://colab.research.google.com/notebooks/data_table.ipynb>data table notebook</a>'\n",
              "          + ' to learn more about interactive tables.';\n",
              "        element.innerHTML = '';\n",
              "        dataTable['output_type'] = 'display_data';\n",
              "        await google.colab.output.renderOutput(dataTable, element);\n",
              "        const docLink = document.createElement('div');\n",
              "        docLink.innerHTML = docLinkHtml;\n",
              "        element.appendChild(docLink);\n",
              "      }\n",
              "    </script>\n",
              "  </div>\n",
              "\n",
              "\n",
              "<div id=\"df-27bbe2f5-fb11-4699-b497-d18fd7e3df49\">\n",
              "  <button class=\"colab-df-quickchart\" onclick=\"quickchart('df-27bbe2f5-fb11-4699-b497-d18fd7e3df49')\"\n",
              "            title=\"Suggest charts\"\n",
              "            style=\"display:none;\">\n",
              "\n",
              "<svg xmlns=\"http://www.w3.org/2000/svg\" height=\"24px\"viewBox=\"0 0 24 24\"\n",
              "     width=\"24px\">\n",
              "    <g>\n",
              "        <path d=\"M19 3H5c-1.1 0-2 .9-2 2v14c0 1.1.9 2 2 2h14c1.1 0 2-.9 2-2V5c0-1.1-.9-2-2-2zM9 17H7v-7h2v7zm4 0h-2V7h2v10zm4 0h-2v-4h2v4z\"/>\n",
              "    </g>\n",
              "</svg>\n",
              "  </button>\n",
              "\n",
              "<style>\n",
              "  .colab-df-quickchart {\n",
              "      --bg-color: #E8F0FE;\n",
              "      --fill-color: #1967D2;\n",
              "      --hover-bg-color: #E2EBFA;\n",
              "      --hover-fill-color: #174EA6;\n",
              "      --disabled-fill-color: #AAA;\n",
              "      --disabled-bg-color: #DDD;\n",
              "  }\n",
              "\n",
              "  [theme=dark] .colab-df-quickchart {\n",
              "      --bg-color: #3B4455;\n",
              "      --fill-color: #D2E3FC;\n",
              "      --hover-bg-color: #434B5C;\n",
              "      --hover-fill-color: #FFFFFF;\n",
              "      --disabled-bg-color: #3B4455;\n",
              "      --disabled-fill-color: #666;\n",
              "  }\n",
              "\n",
              "  .colab-df-quickchart {\n",
              "    background-color: var(--bg-color);\n",
              "    border: none;\n",
              "    border-radius: 50%;\n",
              "    cursor: pointer;\n",
              "    display: none;\n",
              "    fill: var(--fill-color);\n",
              "    height: 32px;\n",
              "    padding: 0;\n",
              "    width: 32px;\n",
              "  }\n",
              "\n",
              "  .colab-df-quickchart:hover {\n",
              "    background-color: var(--hover-bg-color);\n",
              "    box-shadow: 0 1px 2px rgba(60, 64, 67, 0.3), 0 1px 3px 1px rgba(60, 64, 67, 0.15);\n",
              "    fill: var(--button-hover-fill-color);\n",
              "  }\n",
              "\n",
              "  .colab-df-quickchart-complete:disabled,\n",
              "  .colab-df-quickchart-complete:disabled:hover {\n",
              "    background-color: var(--disabled-bg-color);\n",
              "    fill: var(--disabled-fill-color);\n",
              "    box-shadow: none;\n",
              "  }\n",
              "\n",
              "  .colab-df-spinner {\n",
              "    border: 2px solid var(--fill-color);\n",
              "    border-color: transparent;\n",
              "    border-bottom-color: var(--fill-color);\n",
              "    animation:\n",
              "      spin 1s steps(1) infinite;\n",
              "  }\n",
              "\n",
              "  @keyframes spin {\n",
              "    0% {\n",
              "      border-color: transparent;\n",
              "      border-bottom-color: var(--fill-color);\n",
              "      border-left-color: var(--fill-color);\n",
              "    }\n",
              "    20% {\n",
              "      border-color: transparent;\n",
              "      border-left-color: var(--fill-color);\n",
              "      border-top-color: var(--fill-color);\n",
              "    }\n",
              "    30% {\n",
              "      border-color: transparent;\n",
              "      border-left-color: var(--fill-color);\n",
              "      border-top-color: var(--fill-color);\n",
              "      border-right-color: var(--fill-color);\n",
              "    }\n",
              "    40% {\n",
              "      border-color: transparent;\n",
              "      border-right-color: var(--fill-color);\n",
              "      border-top-color: var(--fill-color);\n",
              "    }\n",
              "    60% {\n",
              "      border-color: transparent;\n",
              "      border-right-color: var(--fill-color);\n",
              "    }\n",
              "    80% {\n",
              "      border-color: transparent;\n",
              "      border-right-color: var(--fill-color);\n",
              "      border-bottom-color: var(--fill-color);\n",
              "    }\n",
              "    90% {\n",
              "      border-color: transparent;\n",
              "      border-bottom-color: var(--fill-color);\n",
              "    }\n",
              "  }\n",
              "</style>\n",
              "\n",
              "  <script>\n",
              "    async function quickchart(key) {\n",
              "      const quickchartButtonEl =\n",
              "        document.querySelector('#' + key + ' button');\n",
              "      quickchartButtonEl.disabled = true;  // To prevent multiple clicks.\n",
              "      quickchartButtonEl.classList.add('colab-df-spinner');\n",
              "      try {\n",
              "        const charts = await google.colab.kernel.invokeFunction(\n",
              "            'suggestCharts', [key], {});\n",
              "      } catch (error) {\n",
              "        console.error('Error during call to suggestCharts:', error);\n",
              "      }\n",
              "      quickchartButtonEl.classList.remove('colab-df-spinner');\n",
              "      quickchartButtonEl.classList.add('colab-df-quickchart-complete');\n",
              "    }\n",
              "    (() => {\n",
              "      let quickchartButtonEl =\n",
              "        document.querySelector('#df-27bbe2f5-fb11-4699-b497-d18fd7e3df49 button');\n",
              "      quickchartButtonEl.style.display =\n",
              "        google.colab.kernel.accessAllowed ? 'block' : 'none';\n",
              "    })();\n",
              "  </script>\n",
              "</div>\n",
              "\n",
              "    </div>\n",
              "  </div>\n"
            ],
            "application/vnd.google.colaboratory.intrinsic+json": {
              "type": "dataframe",
              "variable_name": "food",
              "summary": "{\n  \"name\": \"food\",\n  \"rows\": 992,\n  \"fields\": [\n    {\n      \"column\": \"id\",\n      \"properties\": {\n        \"dtype\": \"number\",\n        \"std\": 298,\n        \"min\": 1,\n        \"max\": 1024,\n        \"num_unique_values\": 992,\n        \"samples\": [\n          214,\n          337,\n          513\n        ],\n        \"semantic_type\": \"\",\n        \"description\": \"\"\n      }\n    },\n    {\n      \"column\": \"name\",\n      \"properties\": {\n        \"dtype\": \"string\",\n        \"num_unique_values\": 992,\n        \"samples\": [\n          \"Celeriac\",\n          \"Chinese water chestnut\",\n          \"Broad whitefish\"\n        ],\n        \"semantic_type\": \"\",\n        \"description\": \"\"\n      }\n    },\n    {\n      \"column\": \"name_scientific\",\n      \"properties\": {\n        \"dtype\": \"string\",\n        \"num_unique_values\": 662,\n        \"samples\": [\n          \"Octopus vulgaris\",\n          \"Trisopterus esmarkii\",\n          \"Psidium cattleianum\"\n        ],\n        \"semantic_type\": \"\",\n        \"description\": \"\"\n      }\n    },\n    {\n      \"column\": \"description\",\n      \"properties\": {\n        \"dtype\": \"string\",\n        \"num_unique_values\": 939,\n        \"samples\": [\n          \"The burbot (Lota lota) or bubbot is the only gadiform (cod-like) freshwater fish. Also known as mariah, the lawyer, and (misleadingly) eelpout, the burbot is closely related to the marine common ling and the cusk. It is the only member of the genus Lota.\",\n          \"Muskmelon (Cucumis melo) is a species of melon that has been developed into many cultivated varieties. These include smooth skinned varieties such as honeydew, crenshaw and casaba, and different netted cultivars (cantaloupe, Persian melon and Santa Claus or Christmas melon). The Armenian cucumber is also a variety of muskmelon, but its shape, taste, and culinary uses more closely resemble those of a cucumber. The large number of cultivars in this species approaches that found in wild cabbage, though morphological variation is not as extensive. It is a fruit of a type called pepo. Muskmelon is native to Persia, Anatolia, Armenia, and adjacent areas on the west and the east which is believed to be their center of origin and development, with a secondary center including the northwest provinces of India and Afghanistan. Although truly wild forms of C. melo have not been found, several related wild species have been noted in those regions.\",\n          \"Anise, Pimpinella anisum, also called aniseed, is a flowering plant in the family Apiaceae native to the eastern Mediterranean region and Southwest Asia. Its flavor has similarities with some other spices, such as star anise, fennel and liquorice.\"\n        ],\n        \"semantic_type\": \"\",\n        \"description\": \"\"\n      }\n    },\n    {\n      \"column\": \"wikipedia_id\",\n      \"properties\": {\n        \"dtype\": \"string\",\n        \"num_unique_values\": 838,\n        \"samples\": [\n          \"Buffalo_currant\",\n          \"Castanospermum\",\n          \"Buckwheat\"\n        ],\n        \"semantic_type\": \"\",\n        \"description\": \"\"\n      }\n    },\n    {\n      \"column\": \"food_group\",\n      \"properties\": {\n        \"dtype\": \"category\",\n        \"num_unique_values\": 24,\n        \"samples\": [\n          \"Coffee and coffee products\",\n          \"Confectioneries\",\n          \"Herbs and Spices\"\n        ],\n        \"semantic_type\": \"\",\n        \"description\": \"\"\n      }\n    },\n    {\n      \"column\": \"food_subgroup\",\n      \"properties\": {\n        \"dtype\": \"category\",\n        \"num_unique_values\": 119,\n        \"samples\": [\n          \"Unfermented milks\",\n          \"Tex-Mex cuisine\",\n          \"Nuts\"\n        ],\n        \"semantic_type\": \"\",\n        \"description\": \"\"\n      }\n    }\n  ]\n}"
            }
          },
          "metadata": {},
          "execution_count": 6
        }
      ],
      "source": [
        "food.drop(columns=drop_columns, inplace=True)\n",
        "food.head(3)"
      ]
    },
    {
      "cell_type": "code",
      "execution_count": 7,
      "metadata": {
        "colab": {
          "base_uri": "https://localhost:8080/"
        },
        "id": "CxGkC9rf8r6B",
        "outputId": "ad3b2b19-3dd9-4948-9a06-a2d2cab6cc33"
      },
      "outputs": [
        {
          "output_type": "execute_result",
          "data": {
            "text/plain": [
              "(945, 7)"
            ]
          },
          "metadata": {},
          "execution_count": 7
        }
      ],
      "source": [
        "food.dropna(subset=[\"description\"], inplace=True)\n",
        "food.shape"
      ]
    },
    {
      "cell_type": "markdown",
      "metadata": {
        "id": "AQxuqswk8r6B"
      },
      "source": [
        "---\n",
        "## clean up \"food_group\""
      ]
    },
    {
      "cell_type": "code",
      "execution_count": 8,
      "metadata": {
        "colab": {
          "base_uri": "https://localhost:8080/"
        },
        "id": "aHXs7OWU8r6B",
        "outputId": "0b69137b-104e-442c-dbf0-b7f7d7e769f3"
      },
      "outputs": [
        {
          "output_type": "stream",
          "name": "stdout",
          "text": [
            "nulls in 'food_subgroup': 2\n",
            "nulls in 'food_group': 2\n"
          ]
        }
      ],
      "source": [
        "print(f\"nulls in 'food_subgroup': {food['food_subgroup'].isna().sum()}\")\n",
        "print(f\"nulls in 'food_group': {food['food_group'].isna().sum()}\")"
      ]
    },
    {
      "cell_type": "code",
      "execution_count": 9,
      "metadata": {
        "colab": {
          "base_uri": "https://localhost:8080/"
        },
        "id": "CZiPhwRX8r6B",
        "outputId": "720ad7ca-5c25-4fea-ce8c-12f34004d8a6"
      },
      "outputs": [
        {
          "output_type": "execute_result",
          "data": {
            "text/plain": [
              "(943, 7)"
            ]
          },
          "metadata": {},
          "execution_count": 9
        }
      ],
      "source": [
        "food.dropna(subset=[\"food_group\", \"food_subgroup\"], inplace=True)\n",
        "food.shape"
      ]
    },
    {
      "cell_type": "code",
      "execution_count": 10,
      "metadata": {
        "colab": {
          "base_uri": "https://localhost:8080/"
        },
        "id": "yy94WXLy8r6C",
        "outputId": "75180e92-ec9d-46d2-b231-3dc37369859f"
      },
      "outputs": [
        {
          "output_type": "execute_result",
          "data": {
            "text/plain": [
              "array(['Herbs and Spices', 'Vegetables', 'Fruits', 'Nuts',\n",
              "       'Cereals and cereal products', 'Pulses', 'Teas', 'Gourds',\n",
              "       'Coffee and coffee products', 'Soy', 'Cocoa and cocoa products',\n",
              "       'Beverages', 'Aquatic foods', 'Animal foods',\n",
              "       'Milk and milk products', 'Eggs', 'Confectioneries',\n",
              "       'Baking goods', 'Dishes', 'Snack foods', 'Baby foods',\n",
              "       'Fats and oils'], dtype=object)"
            ]
          },
          "metadata": {},
          "execution_count": 10
        }
      ],
      "source": [
        "food[\"food_group\"] = food[\"food_group\"].str.replace(\"Herbs and spices\", \"Herbs and Spices\")\n",
        "food[\"food_group\"].unique()"
      ]
    },
    {
      "cell_type": "code",
      "execution_count": 11,
      "metadata": {
        "colab": {
          "base_uri": "https://localhost:8080/"
        },
        "id": "faZlNTui8r6C",
        "outputId": "49e6b1dc-cf7a-4070-a7a1-77e5799253a7"
      },
      "outputs": [
        {
          "output_type": "execute_result",
          "data": {
            "text/plain": [
              "22"
            ]
          },
          "metadata": {},
          "execution_count": 11
        }
      ],
      "source": [
        "len(food[\"food_group\"].unique())"
      ]
    },
    {
      "cell_type": "code",
      "execution_count": 12,
      "metadata": {
        "colab": {
          "base_uri": "https://localhost:8080/"
        },
        "id": "jjq4CYa88r6C",
        "outputId": "745ac655-89aa-4142-9531-7372427de8a4"
      },
      "outputs": [
        {
          "output_type": "execute_result",
          "data": {
            "text/plain": [
              "112"
            ]
          },
          "metadata": {},
          "execution_count": 12
        }
      ],
      "source": [
        "len(food[\"food_subgroup\"].unique())"
      ]
    },
    {
      "cell_type": "markdown",
      "metadata": {
        "id": "mw8RCRDe8r6C"
      },
      "source": [
        "---\n",
        "## prepare data for modeling\n",
        "- combine text columns, except for \"food_group\""
      ]
    },
    {
      "cell_type": "code",
      "execution_count": 13,
      "metadata": {
        "colab": {
          "base_uri": "https://localhost:8080/"
        },
        "id": "bPMFwm_78r6C",
        "outputId": "99d38061-a920-4c4b-e779-d6a4e372c09c"
      },
      "outputs": [
        {
          "output_type": "execute_result",
          "data": {
            "text/plain": [
              "['name', 'name_scientific', 'description', 'wikipedia_id', 'food_subgroup']"
            ]
          },
          "metadata": {},
          "execution_count": 13
        }
      ],
      "source": [
        "text_cols = list(food.columns)\n",
        "text_cols.remove(\"food_group\")\n",
        "text_cols.remove(\"id\")\n",
        "text_cols"
      ]
    },
    {
      "cell_type": "code",
      "execution_count": 14,
      "metadata": {
        "colab": {
          "base_uri": "https://localhost:8080/"
        },
        "id": "dzWrtAfQ8r6C",
        "outputId": "9cf06338-b18b-46e1-e0f3-2c5457cf8cf3"
      },
      "outputs": [
        {
          "output_type": "execute_result",
          "data": {
            "text/plain": [
              "0    Angelica Angelica keiskei Angelica is a genus ...\n",
              "1    Savoy cabbage Brassica oleracea var. sabauda S...\n",
              "2    Silver linden Tilia argentea Tilia tomentosa (...\n",
              "Name: all_text, dtype: object"
            ]
          },
          "metadata": {},
          "execution_count": 14
        }
      ],
      "source": [
        "food.fillna(\"\", inplace=True)\n",
        "\n",
        "food[\"all_text\"] = food[text_cols].apply(\" \".join, axis=1)\n",
        "food[\"all_text\"].head(3)"
      ]
    },
    {
      "cell_type": "markdown",
      "metadata": {
        "id": "GxtqG73M8r6D"
      },
      "source": [
        "## combine content & food data"
      ]
    },
    {
      "cell_type": "code",
      "execution_count": 15,
      "metadata": {
        "colab": {
          "base_uri": "https://localhost:8080/"
        },
        "id": "SVireUIF8r6D",
        "outputId": "6429f040-9090-41fe-b82a-767347eab84f"
      },
      "outputs": [
        {
          "output_type": "stream",
          "name": "stderr",
          "text": [
            "WARNING:py.warnings:<ipython-input-15-33c7d466b7af>:1: DtypeWarning: Columns (4,5,6,7,8,9,13,14,21,22,24) have mixed types. Specify dtype option on import or set low_memory=False.\n",
            "  content = pd.read_csv(\"/content/sample_data/Content.csv\")\n",
            "\n"
          ]
        },
        {
          "output_type": "execute_result",
          "data": {
            "text/plain": [
              "Index(['id', 'source_id', 'source_type', 'food_id', 'orig_food_id',\n",
              "       'orig_food_common_name', 'orig_food_scientific_name', 'orig_food_part',\n",
              "       'orig_source_id', 'orig_source_name', 'orig_content', 'orig_min',\n",
              "       'orig_max', 'orig_unit', 'orig_citation', 'citation', 'citation_type',\n",
              "       'creator_id', 'updater_id', 'created_at', 'updated_at', 'orig_method',\n",
              "       'orig_unit_expression', 'standard_content', 'preparation_type',\n",
              "       'export'],\n",
              "      dtype='object')"
            ]
          },
          "metadata": {},
          "execution_count": 15
        }
      ],
      "source": [
        "content = pd.read_csv(\"/content/sample_data/Content.csv\")\n",
        "content.columns"
      ]
    },
    {
      "cell_type": "code",
      "execution_count": 16,
      "metadata": {
        "colab": {
          "base_uri": "https://localhost:8080/"
        },
        "id": "WPSnjGxC8r6D",
        "outputId": "9670a930-eeab-4ddc-a578-f8292e3326d1"
      },
      "outputs": [
        {
          "output_type": "stream",
          "name": "stdout",
          "text": [
            "keeping columns: {'orig_source_id', 'orig_source_name', 'orig_food_common_name', 'orig_food_id', 'orig_food_scientific_name', 'orig_food_part', 'food_id'}\n"
          ]
        }
      ],
      "source": [
        "content_drop_cols = [\"id\", \"source_id\", \"source_type\", \"orig_content\", \"orig_min\",\n",
        "       \"orig_max\", \"orig_unit\", \"orig_citation\", \"citation\", \"citation_type\",\n",
        "       \"creator_id\", \"updater_id\", \"created_at\", \"updated_at\", \"orig_method\",\n",
        "       \"orig_unit_expression\", \"standard_content\", \"preparation_type\",\n",
        "       \"export\"]\n",
        "\n",
        "print(f\"keeping columns: {set(content.columns).difference(set(content_drop_cols))}\")"
      ]
    },
    {
      "cell_type": "code",
      "execution_count": 17,
      "metadata": {
        "colab": {
          "base_uri": "https://localhost:8080/"
        },
        "id": "6izdbRbi8r6D",
        "outputId": "39aad0db-9f9d-478b-ad5e-a95e6c9d658f"
      },
      "outputs": [
        {
          "output_type": "execute_result",
          "data": {
            "text/plain": [
              "food_id                            0\n",
              "orig_food_id                 4308143\n",
              "orig_food_common_name         971656\n",
              "orig_food_scientific_name    5099435\n",
              "orig_food_part               5104956\n",
              "orig_source_id               4448551\n",
              "orig_source_name             4445227\n",
              "dtype: int64"
            ]
          },
          "metadata": {},
          "execution_count": 17
        }
      ],
      "source": [
        "content.drop(content_drop_cols, axis=1, inplace=True)\n",
        "content.isna().sum()"
      ]
    },
    {
      "cell_type": "code",
      "execution_count": 18,
      "metadata": {
        "id": "BhBfPoCN8r6E"
      },
      "outputs": [],
      "source": [
        "# pretty sure this is the column I care the most about so nulls here are no good to me\n",
        "content.dropna(subset=[\"orig_food_common_name\"], inplace=True)"
      ]
    },
    {
      "cell_type": "markdown",
      "source": [
        "## combine \"food\" & \"content\" data"
      ],
      "metadata": {
        "id": "ISMPGRtrPgKn"
      }
    },
    {
      "cell_type": "code",
      "execution_count": 19,
      "metadata": {
        "colab": {
          "base_uri": "https://localhost:8080/"
        },
        "id": "pZMu2tfq8r6E",
        "outputId": "76a0333e-8cef-472c-c2c2-bf05afe81863"
      },
      "outputs": [
        {
          "output_type": "execute_result",
          "data": {
            "text/plain": [
              "(4074596, 15)"
            ]
          },
          "metadata": {},
          "execution_count": 19
        }
      ],
      "source": [
        "big_food = content.merge(food, how=\"inner\", left_on=\"food_id\", right_on=\"id\")\n",
        "big_food.shape"
      ]
    },
    {
      "cell_type": "code",
      "execution_count": 20,
      "metadata": {
        "colab": {
          "base_uri": "https://localhost:8080/"
        },
        "id": "y5uSzPjN8r6E",
        "outputId": "7ea56ab7-4f9d-4021-a1e9-1258b7919bd4"
      },
      "outputs": [
        {
          "output_type": "execute_result",
          "data": {
            "text/plain": [
              "Index(['food_id', 'orig_food_id', 'orig_food_common_name',\n",
              "       'orig_food_scientific_name', 'orig_food_part', 'orig_source_id',\n",
              "       'orig_source_name', 'id', 'name', 'name_scientific', 'description',\n",
              "       'wikipedia_id', 'food_group', 'food_subgroup', 'all_text'],\n",
              "      dtype='object')"
            ]
          },
          "metadata": {},
          "execution_count": 20
        }
      ],
      "source": [
        "big_food.columns"
      ]
    },
    {
      "cell_type": "code",
      "execution_count": 21,
      "metadata": {
        "id": "ibCyeeG08r6E"
      },
      "outputs": [],
      "source": [
        "# seems like there might be good text in these columns to add to the text I already have from food.csv\n",
        "# check out the \"classifying_food.ipynb\" for more details about these columns\n",
        "more_text_columns = [\"orig_food_common_name\", \"orig_food_part\", \"orig_food_scientific_name\",\n",
        "                     \"orig_source_name\", \"all_text\"]\n",
        "\n",
        "for col in more_text_columns:\n",
        "    big_food[col].fillna(\"\", inplace=True)"
      ]
    },
    {
      "cell_type": "code",
      "execution_count": 22,
      "metadata": {
        "id": "WJ1sMv4y8r6E"
      },
      "outputs": [],
      "source": [
        "big_food[\"all_text\"] = big_food[more_text_columns].apply(\" \".join, axis=1)"
      ]
    },
    {
      "cell_type": "code",
      "execution_count": 23,
      "metadata": {
        "colab": {
          "base_uri": "https://localhost:8080/"
        },
        "id": "GZPRlAAz8r6E",
        "outputId": "30784d09-6756-4784-abf0-18bd813a81db"
      },
      "outputs": [
        {
          "output_type": "execute_result",
          "data": {
            "text/plain": [
              "0    Kiwi Fruit Actinidia chinensis PLANCHON [Actin...\n",
              "1    Kiwi fruit, raw   Protein, total Kiwi Actinidi...\n",
              "2    Kiwi fruit, raw   Protein, total-N Kiwi Actini...\n",
              "Name: all_text, dtype: object"
            ]
          },
          "metadata": {},
          "execution_count": 23
        }
      ],
      "source": [
        "big_food[\"all_text\"].head(3)"
      ]
    },
    {
      "cell_type": "markdown",
      "metadata": {
        "id": "lhH5Yh7L8r6C"
      },
      "source": [
        "---\n",
        "## set X & y, train/test split\n",
        "- there are 22 labels in the \"food_group\" column\n",
        "- using label encoder: just assigns a numerical value to each label\n",
        "- this notebook is running the classification models on the combined \"content\" and \"food\" data so there's less of an issue with representation, will be doing the usual train/test split here"
      ]
    },
    {
      "cell_type": "code",
      "source": [
        "tfidf = TfidfVectorizer(stop_words=\"english\")\n",
        "tfidf_x = tfidf.fit_transform(big_food[\"all_text\"])"
      ],
      "metadata": {
        "id": "QlYr9m6Mc8HM"
      },
      "execution_count": 24,
      "outputs": []
    },
    {
      "cell_type": "code",
      "source": [
        "label_encoder = LabelEncoder()\n",
        "label_enc_y = label_encoder.fit_transform(big_food[\"food_group\"])\n",
        "y = label_enc_y\n",
        "\n",
        "X_train, X_test, y_train, y_test = train_test_split(tfidf_x, y, random_state=42, stratify=y)\n",
        "\n",
        "pipeline_names = [\"knn\", \"lr\", \"multi\", \"rfc\", \"svc\"]"
      ],
      "metadata": {
        "id": "lC_XoGfMOgty"
      },
      "execution_count": 25,
      "outputs": []
    },
    {
      "cell_type": "code",
      "source": [
        "lr = LogisticRegression(max_iter=1000)\n"
      ],
      "metadata": {
        "id": "zXij5AZvcmSw"
      },
      "execution_count": 26,
      "outputs": []
    },
    {
      "cell_type": "code",
      "source": [
        "lr.fit(X_train, y_train)"
      ],
      "metadata": {
        "id": "JfDl-fTAcmPo",
        "colab": {
          "base_uri": "https://localhost:8080/",
          "height": 75
        },
        "outputId": "91cbfb10-c184-452f-b286-ed33c506087c"
      },
      "execution_count": 27,
      "outputs": [
        {
          "output_type": "execute_result",
          "data": {
            "text/plain": [
              "LogisticRegression(max_iter=1000)"
            ],
            "text/html": [
              "<style>#sk-container-id-1 {color: black;background-color: white;}#sk-container-id-1 pre{padding: 0;}#sk-container-id-1 div.sk-toggleable {background-color: white;}#sk-container-id-1 label.sk-toggleable__label {cursor: pointer;display: block;width: 100%;margin-bottom: 0;padding: 0.3em;box-sizing: border-box;text-align: center;}#sk-container-id-1 label.sk-toggleable__label-arrow:before {content: \"▸\";float: left;margin-right: 0.25em;color: #696969;}#sk-container-id-1 label.sk-toggleable__label-arrow:hover:before {color: black;}#sk-container-id-1 div.sk-estimator:hover label.sk-toggleable__label-arrow:before {color: black;}#sk-container-id-1 div.sk-toggleable__content {max-height: 0;max-width: 0;overflow: hidden;text-align: left;background-color: #f0f8ff;}#sk-container-id-1 div.sk-toggleable__content pre {margin: 0.2em;color: black;border-radius: 0.25em;background-color: #f0f8ff;}#sk-container-id-1 input.sk-toggleable__control:checked~div.sk-toggleable__content {max-height: 200px;max-width: 100%;overflow: auto;}#sk-container-id-1 input.sk-toggleable__control:checked~label.sk-toggleable__label-arrow:before {content: \"▾\";}#sk-container-id-1 div.sk-estimator input.sk-toggleable__control:checked~label.sk-toggleable__label {background-color: #d4ebff;}#sk-container-id-1 div.sk-label input.sk-toggleable__control:checked~label.sk-toggleable__label {background-color: #d4ebff;}#sk-container-id-1 input.sk-hidden--visually {border: 0;clip: rect(1px 1px 1px 1px);clip: rect(1px, 1px, 1px, 1px);height: 1px;margin: -1px;overflow: hidden;padding: 0;position: absolute;width: 1px;}#sk-container-id-1 div.sk-estimator {font-family: monospace;background-color: #f0f8ff;border: 1px dotted black;border-radius: 0.25em;box-sizing: border-box;margin-bottom: 0.5em;}#sk-container-id-1 div.sk-estimator:hover {background-color: #d4ebff;}#sk-container-id-1 div.sk-parallel-item::after {content: \"\";width: 100%;border-bottom: 1px solid gray;flex-grow: 1;}#sk-container-id-1 div.sk-label:hover label.sk-toggleable__label {background-color: #d4ebff;}#sk-container-id-1 div.sk-serial::before {content: \"\";position: absolute;border-left: 1px solid gray;box-sizing: border-box;top: 0;bottom: 0;left: 50%;z-index: 0;}#sk-container-id-1 div.sk-serial {display: flex;flex-direction: column;align-items: center;background-color: white;padding-right: 0.2em;padding-left: 0.2em;position: relative;}#sk-container-id-1 div.sk-item {position: relative;z-index: 1;}#sk-container-id-1 div.sk-parallel {display: flex;align-items: stretch;justify-content: center;background-color: white;position: relative;}#sk-container-id-1 div.sk-item::before, #sk-container-id-1 div.sk-parallel-item::before {content: \"\";position: absolute;border-left: 1px solid gray;box-sizing: border-box;top: 0;bottom: 0;left: 50%;z-index: -1;}#sk-container-id-1 div.sk-parallel-item {display: flex;flex-direction: column;z-index: 1;position: relative;background-color: white;}#sk-container-id-1 div.sk-parallel-item:first-child::after {align-self: flex-end;width: 50%;}#sk-container-id-1 div.sk-parallel-item:last-child::after {align-self: flex-start;width: 50%;}#sk-container-id-1 div.sk-parallel-item:only-child::after {width: 0;}#sk-container-id-1 div.sk-dashed-wrapped {border: 1px dashed gray;margin: 0 0.4em 0.5em 0.4em;box-sizing: border-box;padding-bottom: 0.4em;background-color: white;}#sk-container-id-1 div.sk-label label {font-family: monospace;font-weight: bold;display: inline-block;line-height: 1.2em;}#sk-container-id-1 div.sk-label-container {text-align: center;}#sk-container-id-1 div.sk-container {/* jupyter's `normalize.less` sets `[hidden] { display: none; }` but bootstrap.min.css set `[hidden] { display: none !important; }` so we also need the `!important` here to be able to override the default hidden behavior on the sphinx rendered scikit-learn.org. See: https://github.com/scikit-learn/scikit-learn/issues/21755 */display: inline-block !important;position: relative;}#sk-container-id-1 div.sk-text-repr-fallback {display: none;}</style><div id=\"sk-container-id-1\" class=\"sk-top-container\"><div class=\"sk-text-repr-fallback\"><pre>LogisticRegression(max_iter=1000)</pre><b>In a Jupyter environment, please rerun this cell to show the HTML representation or trust the notebook. <br />On GitHub, the HTML representation is unable to render, please try loading this page with nbviewer.org.</b></div><div class=\"sk-container\" hidden><div class=\"sk-item\"><div class=\"sk-estimator sk-toggleable\"><input class=\"sk-toggleable__control sk-hidden--visually\" id=\"sk-estimator-id-1\" type=\"checkbox\" checked><label for=\"sk-estimator-id-1\" class=\"sk-toggleable__label sk-toggleable__label-arrow\">LogisticRegression</label><div class=\"sk-toggleable__content\"><pre>LogisticRegression(max_iter=1000)</pre></div></div></div></div></div>"
            ]
          },
          "metadata": {},
          "execution_count": 27
        }
      ]
    },
    {
      "cell_type": "code",
      "source": [
        "lr_score_train = lr.score(X_train, y_train)\n",
        "lr_score_test = lr.score(X_test, y_test)\n",
        "lr_preds = lr.predict(X_test)\n",
        "\n",
        "lr_df = pd.DataFrame.from_dict([{\n",
        "    \"model\": \"LogisticRegression\",\n",
        "    \"score\": lr_score_train,\n",
        "    \"score_type\": \"training score\"\n",
        "}, {\n",
        "    \"model\": \"LogisticRegression\",\n",
        "    \"score\": lr_score_test,\n",
        "    \"score_type\": \"test score\"\n",
        "}])"
      ],
      "metadata": {
        "id": "bHDATNVn3GMV"
      },
      "execution_count": 28,
      "outputs": []
    },
    {
      "cell_type": "code",
      "source": [
        "print(f\"training score: {lr_score_train}\")\n",
        "print(f\"test score: {lr_score_test}\")"
      ],
      "metadata": {
        "colab": {
          "base_uri": "https://localhost:8080/"
        },
        "id": "zjxd2uF43GJh",
        "outputId": "46207b17-af88-4e07-b112-731f8399cdf9"
      },
      "execution_count": 29,
      "outputs": [
        {
          "output_type": "stream",
          "name": "stdout",
          "text": [
            "training score: 1.0\n",
            "test score: 1.0\n"
          ]
        }
      ]
    },
    {
      "cell_type": "code",
      "source": [
        "with open(\"/content/models/lr.pkl\", \"wb\") as f:\n",
        "    pickle.dump(lr, f)"
      ],
      "metadata": {
        "id": "R-i-vzCs3F_h"
      },
      "execution_count": 31,
      "outputs": []
    },
    {
      "cell_type": "code",
      "source": [
        "knn = KNeighborsClassifier()  # starting out with the defaults\n",
        "knn.fit(X_train, y_train)"
      ],
      "metadata": {
        "colab": {
          "base_uri": "https://localhost:8080/",
          "height": 75
        },
        "id": "noqLrMbw9vQG",
        "outputId": "721a573f-d0f2-4ab5-e184-241ae1375a5b"
      },
      "execution_count": 32,
      "outputs": [
        {
          "output_type": "execute_result",
          "data": {
            "text/plain": [
              "KNeighborsClassifier()"
            ],
            "text/html": [
              "<style>#sk-container-id-2 {color: black;background-color: white;}#sk-container-id-2 pre{padding: 0;}#sk-container-id-2 div.sk-toggleable {background-color: white;}#sk-container-id-2 label.sk-toggleable__label {cursor: pointer;display: block;width: 100%;margin-bottom: 0;padding: 0.3em;box-sizing: border-box;text-align: center;}#sk-container-id-2 label.sk-toggleable__label-arrow:before {content: \"▸\";float: left;margin-right: 0.25em;color: #696969;}#sk-container-id-2 label.sk-toggleable__label-arrow:hover:before {color: black;}#sk-container-id-2 div.sk-estimator:hover label.sk-toggleable__label-arrow:before {color: black;}#sk-container-id-2 div.sk-toggleable__content {max-height: 0;max-width: 0;overflow: hidden;text-align: left;background-color: #f0f8ff;}#sk-container-id-2 div.sk-toggleable__content pre {margin: 0.2em;color: black;border-radius: 0.25em;background-color: #f0f8ff;}#sk-container-id-2 input.sk-toggleable__control:checked~div.sk-toggleable__content {max-height: 200px;max-width: 100%;overflow: auto;}#sk-container-id-2 input.sk-toggleable__control:checked~label.sk-toggleable__label-arrow:before {content: \"▾\";}#sk-container-id-2 div.sk-estimator input.sk-toggleable__control:checked~label.sk-toggleable__label {background-color: #d4ebff;}#sk-container-id-2 div.sk-label input.sk-toggleable__control:checked~label.sk-toggleable__label {background-color: #d4ebff;}#sk-container-id-2 input.sk-hidden--visually {border: 0;clip: rect(1px 1px 1px 1px);clip: rect(1px, 1px, 1px, 1px);height: 1px;margin: -1px;overflow: hidden;padding: 0;position: absolute;width: 1px;}#sk-container-id-2 div.sk-estimator {font-family: monospace;background-color: #f0f8ff;border: 1px dotted black;border-radius: 0.25em;box-sizing: border-box;margin-bottom: 0.5em;}#sk-container-id-2 div.sk-estimator:hover {background-color: #d4ebff;}#sk-container-id-2 div.sk-parallel-item::after {content: \"\";width: 100%;border-bottom: 1px solid gray;flex-grow: 1;}#sk-container-id-2 div.sk-label:hover label.sk-toggleable__label {background-color: #d4ebff;}#sk-container-id-2 div.sk-serial::before {content: \"\";position: absolute;border-left: 1px solid gray;box-sizing: border-box;top: 0;bottom: 0;left: 50%;z-index: 0;}#sk-container-id-2 div.sk-serial {display: flex;flex-direction: column;align-items: center;background-color: white;padding-right: 0.2em;padding-left: 0.2em;position: relative;}#sk-container-id-2 div.sk-item {position: relative;z-index: 1;}#sk-container-id-2 div.sk-parallel {display: flex;align-items: stretch;justify-content: center;background-color: white;position: relative;}#sk-container-id-2 div.sk-item::before, #sk-container-id-2 div.sk-parallel-item::before {content: \"\";position: absolute;border-left: 1px solid gray;box-sizing: border-box;top: 0;bottom: 0;left: 50%;z-index: -1;}#sk-container-id-2 div.sk-parallel-item {display: flex;flex-direction: column;z-index: 1;position: relative;background-color: white;}#sk-container-id-2 div.sk-parallel-item:first-child::after {align-self: flex-end;width: 50%;}#sk-container-id-2 div.sk-parallel-item:last-child::after {align-self: flex-start;width: 50%;}#sk-container-id-2 div.sk-parallel-item:only-child::after {width: 0;}#sk-container-id-2 div.sk-dashed-wrapped {border: 1px dashed gray;margin: 0 0.4em 0.5em 0.4em;box-sizing: border-box;padding-bottom: 0.4em;background-color: white;}#sk-container-id-2 div.sk-label label {font-family: monospace;font-weight: bold;display: inline-block;line-height: 1.2em;}#sk-container-id-2 div.sk-label-container {text-align: center;}#sk-container-id-2 div.sk-container {/* jupyter's `normalize.less` sets `[hidden] { display: none; }` but bootstrap.min.css set `[hidden] { display: none !important; }` so we also need the `!important` here to be able to override the default hidden behavior on the sphinx rendered scikit-learn.org. See: https://github.com/scikit-learn/scikit-learn/issues/21755 */display: inline-block !important;position: relative;}#sk-container-id-2 div.sk-text-repr-fallback {display: none;}</style><div id=\"sk-container-id-2\" class=\"sk-top-container\"><div class=\"sk-text-repr-fallback\"><pre>KNeighborsClassifier()</pre><b>In a Jupyter environment, please rerun this cell to show the HTML representation or trust the notebook. <br />On GitHub, the HTML representation is unable to render, please try loading this page with nbviewer.org.</b></div><div class=\"sk-container\" hidden><div class=\"sk-item\"><div class=\"sk-estimator sk-toggleable\"><input class=\"sk-toggleable__control sk-hidden--visually\" id=\"sk-estimator-id-2\" type=\"checkbox\" checked><label for=\"sk-estimator-id-2\" class=\"sk-toggleable__label sk-toggleable__label-arrow\">KNeighborsClassifier</label><div class=\"sk-toggleable__content\"><pre>KNeighborsClassifier()</pre></div></div></div></div></div>"
            ]
          },
          "metadata": {},
          "execution_count": 32
        }
      ]
    },
    {
      "cell_type": "code",
      "source": [
        "knn_score_train = knn.score(X_train, y_train)\n",
        "knn_score_test = knn.score(X_test, y_test)\n",
        "knn_preds = knn.predict(X_test)\n",
        "\n",
        "knn_df = pd.DataFrame.from_dict([{\n",
        "    \"model\": \"LogisticRegression\",\n",
        "    \"score\": knn_score_train,\n",
        "    \"score_type\": \"training score\"\n",
        "}, {\n",
        "    \"model\": \"LogisticRegression\",\n",
        "    \"score\": knn_score_test,\n",
        "    \"score_type\": \"test score\"\n",
        "}])"
      ],
      "metadata": {
        "id": "HiijFfXB9-Ks"
      },
      "execution_count": null,
      "outputs": []
    },
    {
      "cell_type": "code",
      "source": [],
      "metadata": {
        "id": "1L_hpkgX9-Hp"
      },
      "execution_count": null,
      "outputs": []
    },
    {
      "cell_type": "code",
      "source": [],
      "metadata": {
        "id": "9W3c0zfo9-AU"
      },
      "execution_count": null,
      "outputs": []
    },
    {
      "cell_type": "markdown",
      "metadata": {
        "id": "l6lx6N1S8r6C"
      },
      "source": [
        "## build pipelines\n",
        "### references for choosing these hyperparameter options:\n",
        "- [svc](https://www.baeldung.com/cs/svm-multiclass-classification) kernel options"
      ]
    },
    {
      "cell_type": "code",
      "execution_count": null,
      "metadata": {
        "id": "U53WmlIE8r6C"
      },
      "outputs": [],
      "source": [
        "pipe_params = {\n",
        "    \"tfidf__max_features\": [None, 250, 300],\n",
        "    \"tfidf__min_df\": [1, 0.01, 0.05],\n",
        "    \"tfidf__max_df\": [1.0, 0.98, 0.95, 0.9],\n",
        "    \"tfidf__ngram_range\": [(1,1), (1,2), (1,3)],\n",
        "    \"lr__solver\": [\"lbfgs\", \"liblinear\"],\n",
        "    \"lr__C\": [1.0, 0.1, 10],\n",
        "    \"multi__alpha\": [1.0, 0.5],\n",
        "    \"rfc__n_estimators\": [100, 50, 150],\n",
        "    \"rfc__max_depth\": [None, 5, 10],\n",
        "    \"rfc__min_samples_split\": [2, 5, 7],\n",
        "    \"rfc__min_samples_leaf\": [1, 2, 3],\n",
        "    \"rfc__bootstrap\": [True, False],\n",
        "    \"knn__n_neighbors\": range(1,11),\n",
        "    \"knn__weights\": [\"uniform\", \"distance\"],\n",
        "    \"knn__p\": [1, 2],\n",
        "    \"svc__C\": [1.0, 0.1, 10],\n",
        "    \"svc__kernel\": [\"poly\", \"rbf\"],\n",
        "}"
      ]
    },
    {
      "cell_type": "code",
      "execution_count": null,
      "metadata": {
        "id": "ufMQxyxv8r6D"
      },
      "outputs": [],
      "source": [
        "# and the components\n",
        "vectorizer = (\"tfidf\", TfidfVectorizer(stop_words=\"english\"))\n",
        "lr_tuple = (\"lr\", LogisticRegression(max_iter=1000))\n",
        "multi_tuple = (\"multi\", MultinomialNB())\n",
        "rand_forest_tuple = (\"rfc\", RandomForestClassifier(n_jobs=-1))\n",
        "knn_tuple = (\"knn\", KNeighborsClassifier())\n",
        "svc_tuple = (\"svc\", SVC(random_state=42))\n",
        "\n",
        "model_options = [lr_tuple, multi_tuple, rand_forest_tuple, knn_tuple, svc_tuple]"
      ]
    },
    {
      "cell_type": "code",
      "source": [],
      "metadata": {
        "id": "EHSEcIE0T7tZ"
      },
      "execution_count": null,
      "outputs": []
    },
    {
      "cell_type": "code",
      "execution_count": null,
      "metadata": {
        "colab": {
          "base_uri": "https://localhost:8080/"
        },
        "id": "VpdFRX9c8r6F",
        "outputId": "39b563f4-e6d7-4c01-ec37-d18c02c1a4e3"
      },
      "outputs": [
        {
          "output_type": "stream",
          "name": "stdout",
          "text": [
            "starting lr grid search\n",
            "again!\n",
            "Fitting 5 folds for each of 648 candidates, totalling 3240 fits\n"
          ]
        }
      ],
      "source": [
        "big_estimators = []\n",
        "for model in model_options:\n",
        "    pipe_components = [vectorizer, model]\n",
        "    print(f\"starting {model[0]} grid search\")\n",
        "    est = modeling.train_save_best_model(pipe=pipe_components, pipe_params=pipe_params, X_train=X_train,\n",
        "                                   y_train=y_train, file_path=f\"/content/models/big_{model[0]}.pkl\")\n",
        "    big_estimators.append(est)"
      ]
    },
    {
      "cell_type": "code",
      "execution_count": null,
      "metadata": {
        "id": "l7tP7Bjs8r6F"
      },
      "outputs": [],
      "source": []
    },
    {
      "cell_type": "code",
      "execution_count": null,
      "metadata": {
        "id": "ZVsctvAR8r6F"
      },
      "outputs": [],
      "source": []
    },
    {
      "cell_type": "code",
      "execution_count": null,
      "metadata": {
        "id": "k1Tf0r6K8r6F"
      },
      "outputs": [],
      "source": []
    },
    {
      "cell_type": "code",
      "execution_count": null,
      "metadata": {
        "id": "5HLkU2lK8r6F"
      },
      "outputs": [],
      "source": []
    },
    {
      "cell_type": "code",
      "execution_count": null,
      "metadata": {
        "id": "kpWWsQq58r6F"
      },
      "outputs": [],
      "source": []
    },
    {
      "cell_type": "code",
      "execution_count": null,
      "metadata": {
        "id": "EF6qP1cF8r6D",
        "outputId": "88dec141-fe31-4fb7-ec98-059c6a1cea4e"
      },
      "outputs": [
        {
          "data": {
            "text/plain": [
              "{'knn': 1.0,\n",
              " 'lr': 0.9968186638388123,\n",
              " 'multi': 0.8494167550371156,\n",
              " 'rfc': 1.0,\n",
              " 'svc': 1.0}"
            ]
          },
          "execution_count": 47,
          "metadata": {},
          "output_type": "execute_result"
        }
      ],
      "source": [
        "# use `fetch_fitted_pipeline` to fetch previously-fitted pipeline\n",
        "scores = {}\n",
        "for model_type in pipeline_names:\n",
        "    gs = modeling.fetch_fitted_pipeline(f\"models/{model_type}.pkl\")\n",
        "    gs.fit(X, y)\n",
        "    scores[model_type] = gs.score(X, y)\n",
        "\n",
        "scores"
      ]
    }
  ],
  "metadata": {
    "kernelspec": {
      "display_name": "Python 3",
      "name": "python3"
    },
    "language_info": {
      "codemirror_mode": {
        "name": "ipython",
        "version": 3
      },
      "file_extension": ".py",
      "mimetype": "text/x-python",
      "name": "python",
      "nbconvert_exporter": "python",
      "pygments_lexer": "ipython3",
      "version": "3.12.1"
    },
    "colab": {
      "provenance": [],
      "gpuType": "T4",
      "machine_shape": "hm"
    },
    "accelerator": "GPU"
  },
  "nbformat": 4,
  "nbformat_minor": 0
}