{
 "cells": [
  {
   "cell_type": "markdown",
   "metadata": {},
   "source": [
    "# edamam API\n",
    "- [docs](https://developer.edamam.com/edamam-docs-recipe-api)\n"
   ]
  },
  {
   "cell_type": "code",
   "execution_count": 1,
   "metadata": {},
   "outputs": [],
   "source": [
    "import json\n",
    "import requests\n",
    "\n",
    "import pandas as pd"
   ]
  },
  {
   "cell_type": "code",
   "execution_count": 2,
   "metadata": {},
   "outputs": [],
   "source": [
    "# fetch api key from secrets.json file\n",
    "with open(\"secrets.json\", \"rb\") as f:\n",
    "    key_file = json.loads(f.read())\n",
    "\n",
    "app_id = key_file[\"app_id\"]\n",
    "app_key = key_file[\"key\"]"
   ]
  },
  {
   "cell_type": "markdown",
   "metadata": {},
   "source": [
    "- [sample reponse](/sample_response.json) from edamam \"get recipes\" endpoint with \"q=cherry tomatoes, sourdough bread\" and \"ingr=3-7\""
   ]
  },
  {
   "cell_type": "code",
   "execution_count": 3,
   "metadata": {},
   "outputs": [],
   "source": [
    "def get_recipes(ingr: list[str], num_ingr: tuple[int, int], dish: str, meal: str, app_id: str, app_key: str):\n",
    "    recipes_endpoint = \"https://api.edamam.com/api/recipes/v2?type=public\"\n",
    "    ingredients = f\"q={'%2C%20'.join(ingr)}\"  # TODO: handle empty `ingr` list\n",
    "    min_max_ingr = f\"ingr={min(num_ingr)}-{max(num_ingr)}\"  # TODO: handle empty or single-element `num_ingr`\n",
    "    dish_type=f\"dishType={dish}\"  # TODO: set default `dish`?\n",
    "    meal_type = f\"mealType={meal}\"  # TODO: set default `meal`?\n",
    "    # full_url = f\"{recipes_endpoint}&{ingredients}&{min_max_ingr}&{dish_type}&{meal_type}&app_id={app_id}&app_key={app_key}\"\n",
    "    full_url = f\"{recipes_endpoint}&{ingredients}&{min_max_ingr}&{dish_type}&app_id={app_id}&app_key={app_key}\"\n",
    "    print(full_url)\n",
    "    response = requests.get(full_url)\n",
    "    data = response.json()\n",
    "    print(response.status_code)\n",
    "    \n",
    "    if response.status_code == 200 and data[\"count\"] > 0:\n",
    "        items = []\n",
    "        for item in data[\"hits\"]:\n",
    "            recipe_dict = {}\n",
    "            recipe_dict[\"title\"] = item[\"recipe\"][\"label\"]\n",
    "            recipe_dict[\"link\"] = item[\"recipe\"][\"url\"]\n",
    "            recipe_dict[\"servings\"] = item[\"recipe\"][\"yield\"]\n",
    "            recipe_dict[\"cuisine\"] = item[\"recipe\"][\"cuisineType\"]\n",
    "            recipe_dict[\"diet_labels\"] = item[\"recipe\"][\"dietLabels\"]\n",
    "            recipe_dict[\"healh_labels\"] = item[\"recipe\"][\"healthLabels\"]\n",
    "            recipe_dict[\"cautions\"] = item[\"recipe\"][\"cautions\"]\n",
    "            recipe_dict[\"ingredient_lines\"] = item[\"recipe\"][\"ingredientLines\"]\n",
    "            \n",
    "            ingreds = []\n",
    "            for ingr in item[\"recipe\"][\"ingredients\"]:\n",
    "                ingredient_details = {}\n",
    "                ingredient_details[\"text\"] = ingr[\"text\"]\n",
    "                ingredient_details[\"quantity\"] = ingr[\"quantity\"]\n",
    "                ingredient_details[\"measure\"] = ingr[\"measure\"]\n",
    "                ingredient_details[\"weight\"] = ingr[\"weight\"]\n",
    "                ingredient_details[\"food\"] = ingr[\"food\"]\n",
    "                ingredient_details[\"food_category\"] = ingr[\"foodCategory\"]\n",
    "                ingreds.append(ingredient_details)\n",
    "                recipe_dict[\"ingredient_details\"] = ingreds\n",
    "            items.append(recipe_dict)\n",
    "        \n",
    "    return pd.DataFrame.from_dict(items)\n",
    "\n",
    "    "
   ]
  },
  {
   "cell_type": "markdown",
   "metadata": {},
   "source": [
    "| dishType options | mealType options |\n",
    "| --- | --- |\n",
    "| Biscuits and cookies, Bread, Cereal, Condiments and sauces, Desserts, Drinks,  Main course, Pancake, Preps, Preserve, Salad, Sandwiches, Soup, Starter, Sweets | Breakfast, Dinner, Lunch, Snack, Teatime |"
   ]
  },
  {
   "cell_type": "code",
   "execution_count": 4,
   "metadata": {},
   "outputs": [],
   "source": [
    "test_ingr = [\"cherry%20tomatoes\", \"sourdough%20bread\"]\n",
    "test_min_max = (3,7)\n",
    "test_dish = \"Main%20course\"\n",
    "test_meal = \"Breakfast\""
   ]
  },
  {
   "cell_type": "code",
   "execution_count": 5,
   "metadata": {},
   "outputs": [
    {
     "name": "stdout",
     "output_type": "stream",
     "text": [
      "https://api.edamam.com/api/recipes/v2?type=public&q=cherry%20tomatoes%2C%20sourdough%20bread&ingr=3-7&dishType=Main%20course&app_id=ebe7f48e&app_key=2b1886dad7aff33d1d0cba45c943fd60\n",
      "200\n"
     ]
    }
   ],
   "source": [
    "df = get_recipes(ingr=test_ingr, num_ingr=test_min_max, dish=test_dish, meal=test_meal, app_id=app_id, app_key=app_key)"
   ]
  },
  {
   "cell_type": "code",
   "execution_count": 6,
   "metadata": {},
   "outputs": [
    {
     "data": {
      "text/plain": [
       "Index(['title', 'link', 'servings', 'cuisine', 'diet_labels', 'healh_labels',\n",
       "       'cautions', 'ingredient_lines', 'ingredient_details'],\n",
       "      dtype='object')"
      ]
     },
     "execution_count": 6,
     "metadata": {},
     "output_type": "execute_result"
    }
   ],
   "source": [
    "df.columns"
   ]
  },
  {
   "cell_type": "code",
   "execution_count": 7,
   "metadata": {},
   "outputs": [
    {
     "data": {
      "text/plain": [
       "0    [{'text': '* 8 to 12 cherry tomato, depending ...\n",
       "1    [{'text': 'One large slice of wholemeal or sou...\n",
       "2    [{'text': '2 cherry tomatoes or 1 roma tomato,...\n",
       "3    [{'text': '6 eggs', 'quantity': 6.0, 'measure'...\n",
       "4    [{'text': '5 cherry tomatoes', 'quantity': 5.0...\n",
       "Name: ingredient_details, dtype: object"
      ]
     },
     "execution_count": 7,
     "metadata": {},
     "output_type": "execute_result"
    }
   ],
   "source": [
    "df[\"ingredient_details\"].head()"
   ]
  },
  {
   "cell_type": "markdown",
   "metadata": {},
   "source": [
    "----\n",
    "## Exploring FooDB data\n",
    "Downloaded the \"FooDB CSV File\" from [here](https://foodb.ca/downloads), which turned out to be a zip file with about 2 dozen csv files, some of them bigger than git can handle. I put them all in the \"data/foodb_2020_04_07_csv\" folder & then added that to my gitignore.\n",
    "\n",
    "If I end up using any of the ones that are too big, I'll have to figure out how to make them available to my app. Lots of possibilities for that."
   ]
  },
  {
   "cell_type": "code",
   "execution_count": 8,
   "metadata": {},
   "outputs": [
    {
     "data": {
      "text/html": [
       "<div>\n",
       "<style scoped>\n",
       "    .dataframe tbody tr th:only-of-type {\n",
       "        vertical-align: middle;\n",
       "    }\n",
       "\n",
       "    .dataframe tbody tr th {\n",
       "        vertical-align: top;\n",
       "    }\n",
       "\n",
       "    .dataframe thead th {\n",
       "        text-align: right;\n",
       "    }\n",
       "</style>\n",
       "<table border=\"1\" class=\"dataframe\">\n",
       "  <thead>\n",
       "    <tr style=\"text-align: right;\">\n",
       "      <th></th>\n",
       "      <th>id</th>\n",
       "      <th>name</th>\n",
       "      <th>flavor_group</th>\n",
       "      <th>category</th>\n",
       "      <th>created_at</th>\n",
       "      <th>updated_at</th>\n",
       "      <th>creator_id</th>\n",
       "      <th>updater_id</th>\n",
       "    </tr>\n",
       "  </thead>\n",
       "  <tbody>\n",
       "    <tr>\n",
       "      <th>0</th>\n",
       "      <td>1</td>\n",
       "      <td>celery</td>\n",
       "      <td>vegetable</td>\n",
       "      <td>odor</td>\n",
       "      <td>2011-10-02 06:10:04 UTC</td>\n",
       "      <td>2011-10-02 06:10:04 UTC</td>\n",
       "      <td>NaN</td>\n",
       "      <td>NaN</td>\n",
       "    </tr>\n",
       "    <tr>\n",
       "      <th>1</th>\n",
       "      <td>2</td>\n",
       "      <td>corn</td>\n",
       "      <td>vegetable</td>\n",
       "      <td>odor</td>\n",
       "      <td>2011-10-02 06:10:04 UTC</td>\n",
       "      <td>2011-10-02 06:10:04 UTC</td>\n",
       "      <td>NaN</td>\n",
       "      <td>NaN</td>\n",
       "    </tr>\n",
       "    <tr>\n",
       "      <th>2</th>\n",
       "      <td>3</td>\n",
       "      <td>cucumber</td>\n",
       "      <td>vegetable</td>\n",
       "      <td>odor</td>\n",
       "      <td>2011-10-02 06:10:04 UTC</td>\n",
       "      <td>2011-10-02 06:10:04 UTC</td>\n",
       "      <td>NaN</td>\n",
       "      <td>NaN</td>\n",
       "    </tr>\n",
       "    <tr>\n",
       "      <th>3</th>\n",
       "      <td>4</td>\n",
       "      <td>horseradish</td>\n",
       "      <td>vegetable</td>\n",
       "      <td>odor</td>\n",
       "      <td>2011-10-02 06:10:05 UTC</td>\n",
       "      <td>2011-10-02 06:10:05 UTC</td>\n",
       "      <td>NaN</td>\n",
       "      <td>NaN</td>\n",
       "    </tr>\n",
       "    <tr>\n",
       "      <th>4</th>\n",
       "      <td>5</td>\n",
       "      <td>vegetable</td>\n",
       "      <td>vegetable</td>\n",
       "      <td>odor</td>\n",
       "      <td>2011-10-02 06:10:05 UTC</td>\n",
       "      <td>2011-10-02 06:10:05 UTC</td>\n",
       "      <td>NaN</td>\n",
       "      <td>NaN</td>\n",
       "    </tr>\n",
       "  </tbody>\n",
       "</table>\n",
       "</div>"
      ],
      "text/plain": [
       "   id         name flavor_group category               created_at  \\\n",
       "0   1       celery    vegetable     odor  2011-10-02 06:10:04 UTC   \n",
       "1   2         corn    vegetable     odor  2011-10-02 06:10:04 UTC   \n",
       "2   3     cucumber    vegetable     odor  2011-10-02 06:10:04 UTC   \n",
       "3   4  horseradish    vegetable     odor  2011-10-02 06:10:05 UTC   \n",
       "4   5    vegetable    vegetable     odor  2011-10-02 06:10:05 UTC   \n",
       "\n",
       "                updated_at  creator_id  updater_id  \n",
       "0  2011-10-02 06:10:04 UTC         NaN         NaN  \n",
       "1  2011-10-02 06:10:04 UTC         NaN         NaN  \n",
       "2  2011-10-02 06:10:04 UTC         NaN         NaN  \n",
       "3  2011-10-02 06:10:05 UTC         NaN         NaN  \n",
       "4  2011-10-02 06:10:05 UTC         NaN         NaN  "
      ]
     },
     "execution_count": 8,
     "metadata": {},
     "output_type": "execute_result"
    }
   ],
   "source": [
    "flavor = pd.read_csv(\"data/foodb_2020_04_07_csv/Flavor.csv\")\n",
    "flavor.head()"
   ]
  },
  {
   "cell_type": "code",
   "execution_count": 9,
   "metadata": {},
   "outputs": [
    {
     "data": {
      "text/plain": [
       "(883, 8)"
      ]
     },
     "execution_count": 9,
     "metadata": {},
     "output_type": "execute_result"
    }
   ],
   "source": [
    "flavor.shape"
   ]
  },
  {
   "cell_type": "code",
   "execution_count": 10,
   "metadata": {},
   "outputs": [
    {
     "data": {
      "text/plain": [
       "array(['vegetable', 'herbaceous', 'fatty', 'spicy', 'floral', 'balsamic',\n",
       "       'citrus', 'woody', 'meaty', 'green', 'wine_like', 'earthy',\n",
       "       'fruity', 'chemical', 'nutty', 'camphoraceous', 'tobacco', 'minty',\n",
       "       'pepper', 'medicinal', 'mossy', 'fishy', 'smoky', 'musky', 'soapy',\n",
       "       'seedy', 'animal', nan], dtype=object)"
      ]
     },
     "execution_count": 10,
     "metadata": {},
     "output_type": "execute_result"
    }
   ],
   "source": [
    "flavor[\"flavor_group\"].unique()  # 87% of the rows in this column are empty"
   ]
  },
  {
   "cell_type": "code",
   "execution_count": 11,
   "metadata": {},
   "outputs": [
    {
     "data": {
      "text/plain": [
       "array(['odor'], dtype=object)"
      ]
     },
     "execution_count": 11,
     "metadata": {},
     "output_type": "execute_result"
    }
   ],
   "source": [
    "flavor[\"category\"].unique() # why even have this column??? no empty rows, all the same value"
   ]
  },
  {
   "cell_type": "code",
   "execution_count": 12,
   "metadata": {},
   "outputs": [
    {
     "data": {
      "text/plain": [
       "id                0\n",
       "name              0\n",
       "flavor_group    770\n",
       "category          0\n",
       "created_at        0\n",
       "updated_at        0\n",
       "creator_id      882\n",
       "updater_id      881\n",
       "dtype: int64"
      ]
     },
     "execution_count": 12,
     "metadata": {},
     "output_type": "execute_result"
    }
   ],
   "source": [
    "flavor.isna().sum()"
   ]
  },
  {
   "cell_type": "markdown",
   "metadata": {},
   "source": [
    "----\n",
    "## food.csv"
   ]
  },
  {
   "cell_type": "code",
   "execution_count": 19,
   "metadata": {},
   "outputs": [
    {
     "data": {
      "text/html": [
       "<div>\n",
       "<style scoped>\n",
       "    .dataframe tbody tr th:only-of-type {\n",
       "        vertical-align: middle;\n",
       "    }\n",
       "\n",
       "    .dataframe tbody tr th {\n",
       "        vertical-align: top;\n",
       "    }\n",
       "\n",
       "    .dataframe thead th {\n",
       "        text-align: right;\n",
       "    }\n",
       "</style>\n",
       "<table border=\"1\" class=\"dataframe\">\n",
       "  <thead>\n",
       "    <tr style=\"text-align: right;\">\n",
       "      <th></th>\n",
       "      <th>id</th>\n",
       "      <th>name</th>\n",
       "      <th>name_scientific</th>\n",
       "      <th>description</th>\n",
       "      <th>itis_id</th>\n",
       "      <th>wikipedia_id</th>\n",
       "      <th>picture_file_name</th>\n",
       "      <th>picture_content_type</th>\n",
       "      <th>picture_file_size</th>\n",
       "      <th>picture_updated_at</th>\n",
       "      <th>...</th>\n",
       "      <th>food_type</th>\n",
       "      <th>created_at</th>\n",
       "      <th>updated_at</th>\n",
       "      <th>creator_id</th>\n",
       "      <th>updater_id</th>\n",
       "      <th>export_to_afcdb</th>\n",
       "      <th>category</th>\n",
       "      <th>ncbi_taxonomy_id</th>\n",
       "      <th>export_to_foodb</th>\n",
       "      <th>public_id</th>\n",
       "    </tr>\n",
       "  </thead>\n",
       "  <tbody>\n",
       "    <tr>\n",
       "      <th>0</th>\n",
       "      <td>1</td>\n",
       "      <td>Angelica</td>\n",
       "      <td>Angelica keiskei</td>\n",
       "      <td>Angelica is a genus of about 60 species of tal...</td>\n",
       "      <td>NaN</td>\n",
       "      <td>Angelica</td>\n",
       "      <td>1.jpg</td>\n",
       "      <td>image/jpeg</td>\n",
       "      <td>111325.0</td>\n",
       "      <td>2012-04-20 09:29:57 UTC</td>\n",
       "      <td>...</td>\n",
       "      <td>Type 1</td>\n",
       "      <td>2011-02-09 00:37:14 UTC</td>\n",
       "      <td>2019-05-14 18:04:13 UTC</td>\n",
       "      <td>NaN</td>\n",
       "      <td>2.0</td>\n",
       "      <td>False</td>\n",
       "      <td>specific</td>\n",
       "      <td>357850.0</td>\n",
       "      <td>True</td>\n",
       "      <td>FOOD00001</td>\n",
       "    </tr>\n",
       "    <tr>\n",
       "      <th>1</th>\n",
       "      <td>2</td>\n",
       "      <td>Savoy cabbage</td>\n",
       "      <td>Brassica oleracea var. sabauda</td>\n",
       "      <td>Savoy cabbage (Brassica oleracea convar. capit...</td>\n",
       "      <td>NaN</td>\n",
       "      <td>Savoy cabbage</td>\n",
       "      <td>2.jpg</td>\n",
       "      <td>image/jpeg</td>\n",
       "      <td>155178.0</td>\n",
       "      <td>2012-04-20 09:39:54 UTC</td>\n",
       "      <td>...</td>\n",
       "      <td>Type 1</td>\n",
       "      <td>2011-02-09 00:37:15 UTC</td>\n",
       "      <td>2019-05-14 18:04:13 UTC</td>\n",
       "      <td>NaN</td>\n",
       "      <td>NaN</td>\n",
       "      <td>False</td>\n",
       "      <td>specific</td>\n",
       "      <td>1216010.0</td>\n",
       "      <td>True</td>\n",
       "      <td>FOOD00002</td>\n",
       "    </tr>\n",
       "    <tr>\n",
       "      <th>2</th>\n",
       "      <td>3</td>\n",
       "      <td>Silver linden</td>\n",
       "      <td>Tilia argentea</td>\n",
       "      <td>Tilia tomentosa (Silver Lime in the UK and Sil...</td>\n",
       "      <td>845789.0</td>\n",
       "      <td>Tilia tomentosa</td>\n",
       "      <td>3.jpg</td>\n",
       "      <td>image/jpeg</td>\n",
       "      <td>56367.0</td>\n",
       "      <td>2012-04-20 09:41:25 UTC</td>\n",
       "      <td>...</td>\n",
       "      <td>Type 1</td>\n",
       "      <td>2011-02-09 00:37:15 UTC</td>\n",
       "      <td>2019-05-17 16:19:45 UTC</td>\n",
       "      <td>NaN</td>\n",
       "      <td>NaN</td>\n",
       "      <td>False</td>\n",
       "      <td>specific</td>\n",
       "      <td>NaN</td>\n",
       "      <td>True</td>\n",
       "      <td>FOOD00003</td>\n",
       "    </tr>\n",
       "    <tr>\n",
       "      <th>3</th>\n",
       "      <td>4</td>\n",
       "      <td>Kiwi</td>\n",
       "      <td>Actinidia chinensis</td>\n",
       "      <td>The kiwifruit, often shortened to kiwi in many...</td>\n",
       "      <td>506775.0</td>\n",
       "      <td>Kiwifruit</td>\n",
       "      <td>4.jpg</td>\n",
       "      <td>image/jpeg</td>\n",
       "      <td>110661.0</td>\n",
       "      <td>2012-04-20 09:32:21 UTC</td>\n",
       "      <td>...</td>\n",
       "      <td>Type 1</td>\n",
       "      <td>2011-02-09 00:37:15 UTC</td>\n",
       "      <td>2019-05-14 18:04:13 UTC</td>\n",
       "      <td>NaN</td>\n",
       "      <td>NaN</td>\n",
       "      <td>False</td>\n",
       "      <td>specific</td>\n",
       "      <td>3625.0</td>\n",
       "      <td>True</td>\n",
       "      <td>FOOD00004</td>\n",
       "    </tr>\n",
       "    <tr>\n",
       "      <th>4</th>\n",
       "      <td>5</td>\n",
       "      <td>Allium</td>\n",
       "      <td>Allium</td>\n",
       "      <td>Allium haematochiton is a species of wild onio...</td>\n",
       "      <td>42634.0</td>\n",
       "      <td>Allium haematochiton</td>\n",
       "      <td>5.jpg</td>\n",
       "      <td>image/jpeg</td>\n",
       "      <td>341911.0</td>\n",
       "      <td>2012-04-20 09:37:44 UTC</td>\n",
       "      <td>...</td>\n",
       "      <td>Type 1</td>\n",
       "      <td>2011-02-09 00:37:15 UTC</td>\n",
       "      <td>2019-05-14 18:04:13 UTC</td>\n",
       "      <td>NaN</td>\n",
       "      <td>NaN</td>\n",
       "      <td>False</td>\n",
       "      <td>specific</td>\n",
       "      <td>4678.0</td>\n",
       "      <td>True</td>\n",
       "      <td>FOOD00005</td>\n",
       "    </tr>\n",
       "  </tbody>\n",
       "</table>\n",
       "<p>5 rows × 23 columns</p>\n",
       "</div>"
      ],
      "text/plain": [
       "   id           name                 name_scientific  \\\n",
       "0   1       Angelica                Angelica keiskei   \n",
       "1   2  Savoy cabbage  Brassica oleracea var. sabauda   \n",
       "2   3  Silver linden                  Tilia argentea   \n",
       "3   4           Kiwi             Actinidia chinensis   \n",
       "4   5         Allium                          Allium   \n",
       "\n",
       "                                         description   itis_id  \\\n",
       "0  Angelica is a genus of about 60 species of tal...       NaN   \n",
       "1  Savoy cabbage (Brassica oleracea convar. capit...       NaN   \n",
       "2  Tilia tomentosa (Silver Lime in the UK and Sil...  845789.0   \n",
       "3  The kiwifruit, often shortened to kiwi in many...  506775.0   \n",
       "4  Allium haematochiton is a species of wild onio...   42634.0   \n",
       "\n",
       "           wikipedia_id picture_file_name picture_content_type  \\\n",
       "0              Angelica             1.jpg           image/jpeg   \n",
       "1         Savoy cabbage             2.jpg           image/jpeg   \n",
       "2       Tilia tomentosa             3.jpg           image/jpeg   \n",
       "3             Kiwifruit             4.jpg           image/jpeg   \n",
       "4  Allium haematochiton             5.jpg           image/jpeg   \n",
       "\n",
       "   picture_file_size       picture_updated_at  ...  food_type  \\\n",
       "0           111325.0  2012-04-20 09:29:57 UTC  ...     Type 1   \n",
       "1           155178.0  2012-04-20 09:39:54 UTC  ...     Type 1   \n",
       "2            56367.0  2012-04-20 09:41:25 UTC  ...     Type 1   \n",
       "3           110661.0  2012-04-20 09:32:21 UTC  ...     Type 1   \n",
       "4           341911.0  2012-04-20 09:37:44 UTC  ...     Type 1   \n",
       "\n",
       "                created_at               updated_at creator_id updater_id  \\\n",
       "0  2011-02-09 00:37:14 UTC  2019-05-14 18:04:13 UTC        NaN        2.0   \n",
       "1  2011-02-09 00:37:15 UTC  2019-05-14 18:04:13 UTC        NaN        NaN   \n",
       "2  2011-02-09 00:37:15 UTC  2019-05-17 16:19:45 UTC        NaN        NaN   \n",
       "3  2011-02-09 00:37:15 UTC  2019-05-14 18:04:13 UTC        NaN        NaN   \n",
       "4  2011-02-09 00:37:15 UTC  2019-05-14 18:04:13 UTC        NaN        NaN   \n",
       "\n",
       "  export_to_afcdb  category  ncbi_taxonomy_id  export_to_foodb  public_id  \n",
       "0           False  specific          357850.0             True  FOOD00001  \n",
       "1           False  specific         1216010.0             True  FOOD00002  \n",
       "2           False  specific               NaN             True  FOOD00003  \n",
       "3           False  specific            3625.0             True  FOOD00004  \n",
       "4           False  specific            4678.0             True  FOOD00005  \n",
       "\n",
       "[5 rows x 23 columns]"
      ]
     },
     "execution_count": 19,
     "metadata": {},
     "output_type": "execute_result"
    }
   ],
   "source": [
    "food = pd.read_csv(\"data/foodb_2020_04_07_csv/Food.csv\")\n",
    "food.head()"
   ]
  },
  {
   "cell_type": "code",
   "execution_count": 20,
   "metadata": {},
   "outputs": [
    {
     "data": {
      "text/plain": [
       "(992, 23)"
      ]
     },
     "execution_count": 20,
     "metadata": {},
     "output_type": "execute_result"
    }
   ],
   "source": [
    "food.shape"
   ]
  },
  {
   "cell_type": "code",
   "execution_count": 21,
   "metadata": {},
   "outputs": [
    {
     "data": {
      "text/plain": [
       "id                        0\n",
       "name                      0\n",
       "name_scientific         317\n",
       "description              47\n",
       "itis_id                 382\n",
       "wikipedia_id            139\n",
       "picture_file_name       115\n",
       "picture_content_type    115\n",
       "picture_file_size       115\n",
       "picture_updated_at      144\n",
       "legacy_id               372\n",
       "food_group                3\n",
       "food_subgroup             7\n",
       "food_type                 0\n",
       "created_at                0\n",
       "updated_at                0\n",
       "creator_id              739\n",
       "updater_id              694\n",
       "export_to_afcdb           0\n",
       "category                 91\n",
       "ncbi_taxonomy_id        373\n",
       "export_to_foodb           0\n",
       "public_id                 0\n",
       "dtype: int64"
      ]
     },
     "execution_count": 21,
     "metadata": {},
     "output_type": "execute_result"
    }
   ],
   "source": [
    "food.isna().sum()"
   ]
  },
  {
   "cell_type": "code",
   "execution_count": 22,
   "metadata": {},
   "outputs": [
    {
     "data": {
      "text/plain": [
       "id                        0\n",
       "name                      0\n",
       "name_scientific         283\n",
       "description               0\n",
       "itis_id                 344\n",
       "wikipedia_id            100\n",
       "picture_file_name       107\n",
       "picture_content_type    107\n",
       "picture_file_size       107\n",
       "picture_updated_at      136\n",
       "legacy_id               339\n",
       "food_group                2\n",
       "food_subgroup             2\n",
       "food_type                 0\n",
       "created_at                0\n",
       "updated_at                0\n",
       "creator_id              719\n",
       "updater_id              681\n",
       "export_to_afcdb           0\n",
       "category                 85\n",
       "ncbi_taxonomy_id        332\n",
       "export_to_foodb           0\n",
       "public_id                 0\n",
       "dtype: int64"
      ]
     },
     "execution_count": 22,
     "metadata": {},
     "output_type": "execute_result"
    }
   ],
   "source": [
    "# looking at foods that have a description\n",
    "desc_food = food.dropna(subset=[\"description\"])\n",
    "desc_food.isna().sum()"
   ]
  },
  {
   "cell_type": "code",
   "execution_count": 23,
   "metadata": {},
   "outputs": [],
   "source": [
    "# their \"advanced search\" seems to be hitting this \"Food.csv\" table: https://foodb.ca/unearth/advanced/foods\n",
    "tastes = [\"sour\", \"salt\", \"salty\", \"sweet\", \"bitter\", \"fat\", \"acid\", \"acidic\", \"umami\"]\n",
    "exclude = [\"Not a significant source of Calories from Fat\"]"
   ]
  },
  {
   "cell_type": "code",
   "execution_count": 24,
   "metadata": {},
   "outputs": [
    {
     "data": {
      "text/plain": [
       "(945, 23)"
      ]
     },
     "execution_count": 24,
     "metadata": {},
     "output_type": "execute_result"
    }
   ],
   "source": [
    "desc_food.shape"
   ]
  },
  {
   "cell_type": "code",
   "execution_count": 25,
   "metadata": {},
   "outputs": [
    {
     "data": {
      "text/html": [
       "<div>\n",
       "<style scoped>\n",
       "    .dataframe tbody tr th:only-of-type {\n",
       "        vertical-align: middle;\n",
       "    }\n",
       "\n",
       "    .dataframe tbody tr th {\n",
       "        vertical-align: top;\n",
       "    }\n",
       "\n",
       "    .dataframe thead th {\n",
       "        text-align: right;\n",
       "    }\n",
       "</style>\n",
       "<table border=\"1\" class=\"dataframe\">\n",
       "  <thead>\n",
       "    <tr style=\"text-align: right;\">\n",
       "      <th></th>\n",
       "      <th>id</th>\n",
       "      <th>name</th>\n",
       "      <th>name_scientific</th>\n",
       "      <th>description</th>\n",
       "      <th>itis_id</th>\n",
       "      <th>wikipedia_id</th>\n",
       "      <th>picture_file_name</th>\n",
       "      <th>picture_content_type</th>\n",
       "      <th>picture_file_size</th>\n",
       "      <th>picture_updated_at</th>\n",
       "      <th>...</th>\n",
       "      <th>food_type</th>\n",
       "      <th>created_at</th>\n",
       "      <th>updated_at</th>\n",
       "      <th>creator_id</th>\n",
       "      <th>updater_id</th>\n",
       "      <th>export_to_afcdb</th>\n",
       "      <th>category</th>\n",
       "      <th>ncbi_taxonomy_id</th>\n",
       "      <th>export_to_foodb</th>\n",
       "      <th>public_id</th>\n",
       "    </tr>\n",
       "  </thead>\n",
       "  <tbody>\n",
       "    <tr>\n",
       "      <th>10</th>\n",
       "      <td>11</td>\n",
       "      <td>Cashew nut</td>\n",
       "      <td>Anacardium occidentale</td>\n",
       "      <td>The cashew, or caju, is a small tree native to...</td>\n",
       "      <td>28793.0</td>\n",
       "      <td>Cashew_nut</td>\n",
       "      <td>11.jpg</td>\n",
       "      <td>image/jpeg</td>\n",
       "      <td>670639.0</td>\n",
       "      <td>2012-04-20 09:29:53 UTC</td>\n",
       "      <td>...</td>\n",
       "      <td>Type 1</td>\n",
       "      <td>2011-02-09 00:37:15 UTC</td>\n",
       "      <td>2019-05-14 18:04:13 UTC</td>\n",
       "      <td>NaN</td>\n",
       "      <td>NaN</td>\n",
       "      <td>False</td>\n",
       "      <td>specific</td>\n",
       "      <td>171929.0</td>\n",
       "      <td>True</td>\n",
       "      <td>FOOD00011</td>\n",
       "    </tr>\n",
       "    <tr>\n",
       "      <th>29</th>\n",
       "      <td>30</td>\n",
       "      <td>Common cabbage</td>\n",
       "      <td>Brassica oleracea</td>\n",
       "      <td>Brassica oleracea is the species of plant that...</td>\n",
       "      <td>23062.0</td>\n",
       "      <td>Brassica_oleracea</td>\n",
       "      <td>30.jpg</td>\n",
       "      <td>image/jpeg</td>\n",
       "      <td>146148.0</td>\n",
       "      <td>2012-04-20 09:35:56 UTC</td>\n",
       "      <td>...</td>\n",
       "      <td>Type 1</td>\n",
       "      <td>2011-02-09 00:37:16 UTC</td>\n",
       "      <td>2019-05-14 18:04:14 UTC</td>\n",
       "      <td>NaN</td>\n",
       "      <td>2.0</td>\n",
       "      <td>False</td>\n",
       "      <td>specific</td>\n",
       "      <td>3712.0</td>\n",
       "      <td>True</td>\n",
       "      <td>FOOD00030</td>\n",
       "    </tr>\n",
       "    <tr>\n",
       "      <th>111</th>\n",
       "      <td>112</td>\n",
       "      <td>Spearmint</td>\n",
       "      <td>Mentha spicata</td>\n",
       "      <td>Spearmint or spear mint (Mentha spicata) is a ...</td>\n",
       "      <td>32272.0</td>\n",
       "      <td>Spearmint</td>\n",
       "      <td>112.jpg</td>\n",
       "      <td>image/jpeg</td>\n",
       "      <td>90563.0</td>\n",
       "      <td>2012-04-20 09:30:01 UTC</td>\n",
       "      <td>...</td>\n",
       "      <td>Type 1</td>\n",
       "      <td>2011-02-09 00:37:20 UTC</td>\n",
       "      <td>2019-05-14 18:04:16 UTC</td>\n",
       "      <td>NaN</td>\n",
       "      <td>NaN</td>\n",
       "      <td>False</td>\n",
       "      <td>specific</td>\n",
       "      <td>29719.0</td>\n",
       "      <td>True</td>\n",
       "      <td>FOOD00112</td>\n",
       "    </tr>\n",
       "    <tr>\n",
       "      <th>138</th>\n",
       "      <td>139</td>\n",
       "      <td>Pepper (Spice)</td>\n",
       "      <td>Piper nigrum</td>\n",
       "      <td>Black pepper (Piper nigrum) is a flowering vin...</td>\n",
       "      <td>18310.0</td>\n",
       "      <td>Black pepper</td>\n",
       "      <td>139.jpg</td>\n",
       "      <td>image/jpeg</td>\n",
       "      <td>165046.0</td>\n",
       "      <td>2012-04-20 09:36:32 UTC</td>\n",
       "      <td>...</td>\n",
       "      <td>Type 1</td>\n",
       "      <td>2011-02-09 00:37:22 UTC</td>\n",
       "      <td>2019-05-14 18:04:17 UTC</td>\n",
       "      <td>NaN</td>\n",
       "      <td>2.0</td>\n",
       "      <td>False</td>\n",
       "      <td>specific</td>\n",
       "      <td>13216.0</td>\n",
       "      <td>True</td>\n",
       "      <td>FOOD00139</td>\n",
       "    </tr>\n",
       "    <tr>\n",
       "      <th>149</th>\n",
       "      <td>150</td>\n",
       "      <td>Guava</td>\n",
       "      <td>Psidium guajava</td>\n",
       "      <td>Guavas (singular guava) are plants in the Myrt...</td>\n",
       "      <td>27240.0</td>\n",
       "      <td>Guava</td>\n",
       "      <td>150.jpg</td>\n",
       "      <td>image/jpeg</td>\n",
       "      <td>62868.0</td>\n",
       "      <td>2012-04-20 09:43:21 UTC</td>\n",
       "      <td>...</td>\n",
       "      <td>Type 1</td>\n",
       "      <td>2011-02-09 00:37:23 UTC</td>\n",
       "      <td>2019-05-14 18:04:17 UTC</td>\n",
       "      <td>NaN</td>\n",
       "      <td>NaN</td>\n",
       "      <td>False</td>\n",
       "      <td>specific</td>\n",
       "      <td>120290.0</td>\n",
       "      <td>True</td>\n",
       "      <td>FOOD00150</td>\n",
       "    </tr>\n",
       "  </tbody>\n",
       "</table>\n",
       "<p>5 rows × 23 columns</p>\n",
       "</div>"
      ],
      "text/plain": [
       "      id            name         name_scientific  \\\n",
       "10    11      Cashew nut  Anacardium occidentale   \n",
       "29    30  Common cabbage       Brassica oleracea   \n",
       "111  112       Spearmint          Mentha spicata   \n",
       "138  139  Pepper (Spice)            Piper nigrum   \n",
       "149  150           Guava         Psidium guajava   \n",
       "\n",
       "                                           description  itis_id  \\\n",
       "10   The cashew, or caju, is a small tree native to...  28793.0   \n",
       "29   Brassica oleracea is the species of plant that...  23062.0   \n",
       "111  Spearmint or spear mint (Mentha spicata) is a ...  32272.0   \n",
       "138  Black pepper (Piper nigrum) is a flowering vin...  18310.0   \n",
       "149  Guavas (singular guava) are plants in the Myrt...  27240.0   \n",
       "\n",
       "          wikipedia_id picture_file_name picture_content_type  \\\n",
       "10          Cashew_nut            11.jpg           image/jpeg   \n",
       "29   Brassica_oleracea            30.jpg           image/jpeg   \n",
       "111          Spearmint           112.jpg           image/jpeg   \n",
       "138       Black pepper           139.jpg           image/jpeg   \n",
       "149              Guava           150.jpg           image/jpeg   \n",
       "\n",
       "     picture_file_size       picture_updated_at  ...  food_type  \\\n",
       "10            670639.0  2012-04-20 09:29:53 UTC  ...     Type 1   \n",
       "29            146148.0  2012-04-20 09:35:56 UTC  ...     Type 1   \n",
       "111            90563.0  2012-04-20 09:30:01 UTC  ...     Type 1   \n",
       "138           165046.0  2012-04-20 09:36:32 UTC  ...     Type 1   \n",
       "149            62868.0  2012-04-20 09:43:21 UTC  ...     Type 1   \n",
       "\n",
       "                  created_at               updated_at creator_id updater_id  \\\n",
       "10   2011-02-09 00:37:15 UTC  2019-05-14 18:04:13 UTC        NaN        NaN   \n",
       "29   2011-02-09 00:37:16 UTC  2019-05-14 18:04:14 UTC        NaN        2.0   \n",
       "111  2011-02-09 00:37:20 UTC  2019-05-14 18:04:16 UTC        NaN        NaN   \n",
       "138  2011-02-09 00:37:22 UTC  2019-05-14 18:04:17 UTC        NaN        2.0   \n",
       "149  2011-02-09 00:37:23 UTC  2019-05-14 18:04:17 UTC        NaN        NaN   \n",
       "\n",
       "    export_to_afcdb  category  ncbi_taxonomy_id  export_to_foodb  public_id  \n",
       "10            False  specific          171929.0             True  FOOD00011  \n",
       "29            False  specific            3712.0             True  FOOD00030  \n",
       "111           False  specific           29719.0             True  FOOD00112  \n",
       "138           False  specific           13216.0             True  FOOD00139  \n",
       "149           False  specific          120290.0             True  FOOD00150  \n",
       "\n",
       "[5 rows x 23 columns]"
      ]
     },
     "execution_count": 25,
     "metadata": {},
     "output_type": "execute_result"
    }
   ],
   "source": [
    "desc_food.loc[desc_food[\"description\"].str.contains(\"salt\")].head()"
   ]
  },
  {
   "cell_type": "code",
   "execution_count": 26,
   "metadata": {},
   "outputs": [
    {
     "data": {
      "text/html": [
       "<div>\n",
       "<style scoped>\n",
       "    .dataframe tbody tr th:only-of-type {\n",
       "        vertical-align: middle;\n",
       "    }\n",
       "\n",
       "    .dataframe tbody tr th {\n",
       "        vertical-align: top;\n",
       "    }\n",
       "\n",
       "    .dataframe thead th {\n",
       "        text-align: right;\n",
       "    }\n",
       "</style>\n",
       "<table border=\"1\" class=\"dataframe\">\n",
       "  <thead>\n",
       "    <tr style=\"text-align: right;\">\n",
       "      <th></th>\n",
       "      <th>id</th>\n",
       "      <th>name</th>\n",
       "      <th>name_scientific</th>\n",
       "      <th>description</th>\n",
       "      <th>itis_id</th>\n",
       "      <th>wikipedia_id</th>\n",
       "      <th>picture_file_name</th>\n",
       "      <th>picture_content_type</th>\n",
       "      <th>picture_file_size</th>\n",
       "      <th>picture_updated_at</th>\n",
       "      <th>...</th>\n",
       "      <th>food_type</th>\n",
       "      <th>created_at</th>\n",
       "      <th>updated_at</th>\n",
       "      <th>creator_id</th>\n",
       "      <th>updater_id</th>\n",
       "      <th>export_to_afcdb</th>\n",
       "      <th>category</th>\n",
       "      <th>ncbi_taxonomy_id</th>\n",
       "      <th>export_to_foodb</th>\n",
       "      <th>public_id</th>\n",
       "    </tr>\n",
       "  </thead>\n",
       "  <tbody>\n",
       "    <tr>\n",
       "      <th>693</th>\n",
       "      <td>716</td>\n",
       "      <td>Soy sauce</td>\n",
       "      <td>NaN</td>\n",
       "      <td>Soy sauce (also called soya sauce) is a condim...</td>\n",
       "      <td>NaN</td>\n",
       "      <td>Soy_sauce</td>\n",
       "      <td>716.jpg</td>\n",
       "      <td>image/jpeg</td>\n",
       "      <td>8472.0</td>\n",
       "      <td>2012-04-20 09:44:17 UTC</td>\n",
       "      <td>...</td>\n",
       "      <td>Type 2</td>\n",
       "      <td>2011-12-12 23:57:21 UTC</td>\n",
       "      <td>2019-05-14 18:05:30 UTC</td>\n",
       "      <td>2.0</td>\n",
       "      <td>2.0</td>\n",
       "      <td>False</td>\n",
       "      <td>specific</td>\n",
       "      <td>NaN</td>\n",
       "      <td>True</td>\n",
       "      <td>FOOD00694</td>\n",
       "    </tr>\n",
       "    <tr>\n",
       "      <th>694</th>\n",
       "      <td>717</td>\n",
       "      <td>Miso</td>\n",
       "      <td>NaN</td>\n",
       "      <td>Miso is a traditional Japanese seasoning produ...</td>\n",
       "      <td>NaN</td>\n",
       "      <td>Miso</td>\n",
       "      <td>717.jpg</td>\n",
       "      <td>image/jpeg</td>\n",
       "      <td>66987.0</td>\n",
       "      <td>2012-04-20 09:31:18 UTC</td>\n",
       "      <td>...</td>\n",
       "      <td>Type 2</td>\n",
       "      <td>2011-12-13 00:03:37 UTC</td>\n",
       "      <td>2020-03-12 21:00:16 UTC</td>\n",
       "      <td>2.0</td>\n",
       "      <td>2.0</td>\n",
       "      <td>False</td>\n",
       "      <td>specific</td>\n",
       "      <td>NaN</td>\n",
       "      <td>True</td>\n",
       "      <td>FOOD00695</td>\n",
       "    </tr>\n",
       "    <tr>\n",
       "      <th>721</th>\n",
       "      <td>747</td>\n",
       "      <td>Corn chip</td>\n",
       "      <td>NaN</td>\n",
       "      <td>A corn chip is a snack food made from cornmeal...</td>\n",
       "      <td>NaN</td>\n",
       "      <td>Corn_chip</td>\n",
       "      <td>747.jpg</td>\n",
       "      <td>image/jpeg</td>\n",
       "      <td>108546.0</td>\n",
       "      <td>2012-04-20 09:30:12 UTC</td>\n",
       "      <td>...</td>\n",
       "      <td>Type 2</td>\n",
       "      <td>2011-12-15 17:31:29 UTC</td>\n",
       "      <td>2020-03-16 16:32:15 UTC</td>\n",
       "      <td>2.0</td>\n",
       "      <td>2.0</td>\n",
       "      <td>False</td>\n",
       "      <td>specific</td>\n",
       "      <td>NaN</td>\n",
       "      <td>False</td>\n",
       "      <td>FOOD00722</td>\n",
       "    </tr>\n",
       "  </tbody>\n",
       "</table>\n",
       "<p>3 rows × 23 columns</p>\n",
       "</div>"
      ],
      "text/plain": [
       "      id       name name_scientific  \\\n",
       "693  716  Soy sauce             NaN   \n",
       "694  717       Miso             NaN   \n",
       "721  747  Corn chip             NaN   \n",
       "\n",
       "                                           description  itis_id wikipedia_id  \\\n",
       "693  Soy sauce (also called soya sauce) is a condim...      NaN    Soy_sauce   \n",
       "694  Miso is a traditional Japanese seasoning produ...      NaN         Miso   \n",
       "721  A corn chip is a snack food made from cornmeal...      NaN    Corn_chip   \n",
       "\n",
       "    picture_file_name picture_content_type  picture_file_size  \\\n",
       "693           716.jpg           image/jpeg             8472.0   \n",
       "694           717.jpg           image/jpeg            66987.0   \n",
       "721           747.jpg           image/jpeg           108546.0   \n",
       "\n",
       "          picture_updated_at  ...  food_type               created_at  \\\n",
       "693  2012-04-20 09:44:17 UTC  ...     Type 2  2011-12-12 23:57:21 UTC   \n",
       "694  2012-04-20 09:31:18 UTC  ...     Type 2  2011-12-13 00:03:37 UTC   \n",
       "721  2012-04-20 09:30:12 UTC  ...     Type 2  2011-12-15 17:31:29 UTC   \n",
       "\n",
       "                  updated_at creator_id updater_id export_to_afcdb  category  \\\n",
       "693  2019-05-14 18:05:30 UTC        2.0        2.0           False  specific   \n",
       "694  2020-03-12 21:00:16 UTC        2.0        2.0           False  specific   \n",
       "721  2020-03-16 16:32:15 UTC        2.0        2.0           False  specific   \n",
       "\n",
       "     ncbi_taxonomy_id  export_to_foodb  public_id  \n",
       "693               NaN             True  FOOD00694  \n",
       "694               NaN             True  FOOD00695  \n",
       "721               NaN            False  FOOD00722  \n",
       "\n",
       "[3 rows x 23 columns]"
      ]
     },
     "execution_count": 26,
     "metadata": {},
     "output_type": "execute_result"
    }
   ],
   "source": [
    "desc_food.loc[desc_food[\"description\"].str.contains(\"salty\")].head()"
   ]
  },
  {
   "cell_type": "code",
   "execution_count": 27,
   "metadata": {},
   "outputs": [
    {
     "data": {
      "text/plain": [
       "food_type\n",
       "Type 1     0.733333\n",
       "Type 2     0.248677\n",
       "Unknown    0.017989\n",
       "Name: proportion, dtype: float64"
      ]
     },
     "execution_count": 27,
     "metadata": {},
     "output_type": "execute_result"
    }
   ],
   "source": [
    "desc_food[\"food_type\"].value_counts(normalize=True)"
   ]
  },
  {
   "cell_type": "code",
   "execution_count": 28,
   "metadata": {},
   "outputs": [
    {
     "data": {
      "text/plain": [
       "food_type\n",
       "Type 2    1.0\n",
       "Name: proportion, dtype: float64"
      ]
     },
     "execution_count": 28,
     "metadata": {},
     "output_type": "execute_result"
    }
   ],
   "source": [
    "salty = desc_food.loc[desc_food[\"description\"].str.contains(\"salty\")]\n",
    "salty[\"food_type\"].value_counts(normalize=True)"
   ]
  },
  {
   "cell_type": "code",
   "execution_count": 29,
   "metadata": {},
   "outputs": [
    {
     "data": {
      "text/plain": [
       "food_type\n",
       "Type 1    0.5\n",
       "Type 2    0.5\n",
       "Name: proportion, dtype: float64"
      ]
     },
     "execution_count": 29,
     "metadata": {},
     "output_type": "execute_result"
    }
   ],
   "source": [
    "salt = desc_food.loc[desc_food[\"description\"].str.contains(\"salt\")]\n",
    "salt[\"food_type\"].value_counts(normalize=True)"
   ]
  },
  {
   "cell_type": "code",
   "execution_count": 30,
   "metadata": {},
   "outputs": [
    {
     "data": {
      "text/plain": [
       "(44, 23)"
      ]
     },
     "execution_count": 30,
     "metadata": {},
     "output_type": "execute_result"
    }
   ],
   "source": [
    "salt.shape"
   ]
  },
  {
   "cell_type": "code",
   "execution_count": 31,
   "metadata": {},
   "outputs": [
    {
     "data": {
      "text/plain": [
       "array(['Type 1', 'Type 2'], dtype=object)"
      ]
     },
     "execution_count": 31,
     "metadata": {},
     "output_type": "execute_result"
    }
   ],
   "source": [
    "salt[\"food_type\"].unique()"
   ]
  },
  {
   "cell_type": "code",
   "execution_count": 34,
   "metadata": {},
   "outputs": [
    {
     "name": "stdout",
     "output_type": "stream",
     "text": [
      "['Cashew nut' 'Common cabbage' 'Spearmint' 'Pepper (Spice)' 'Guava'\n",
      " 'Striped bass' 'Bluefish' 'Natal plum' 'Nuttall cockle' 'King mackerel'\n",
      " 'Common ling' 'Sea trout' 'Whitefish' 'Smelt'\n",
      " 'Bivalvia (Clam, Mussel, Oyster)' 'Crayfish' 'Spot croaker' 'Anchovy'\n",
      " 'Marine mussel' 'True sole' 'Salted butter' 'Green plum']\n",
      "22\n"
     ]
    },
    {
     "data": {
      "text/plain": [
       "(22, 23)"
      ]
     },
     "execution_count": 34,
     "metadata": {},
     "output_type": "execute_result"
    }
   ],
   "source": [
    "# what is food \"Type 1\"?\n",
    "food_types = salt[\"food_type\"].unique()\n",
    "salt_0 = salt.loc[salt[\"food_type\"] == food_types[0]]\n",
    "print(salt_0[\"name\"].unique())\n",
    "print(len(salt_0[\"name\"].unique()))\n",
    "salt_0.shape"
   ]
  },
  {
   "cell_type": "code",
   "execution_count": 35,
   "metadata": {},
   "outputs": [
    {
     "name": "stdout",
     "output_type": "stream",
     "text": [
      "['Madeira wine' 'Salad dressing' 'Sauce' 'Salt' 'Sausage' 'Mustard'\n",
      " 'Soy sauce' 'Miso' 'Baked beans' 'Processed cheese' 'Potato chip'\n",
      " 'Tortilla chip' 'Corn chip' 'Adobo' 'Hushpuppy' 'Mixed nuts' 'Cracker'\n",
      " 'Focaccia' 'Bagel' 'French toast' 'Stuffing' 'Hummus']\n",
      "22\n"
     ]
    },
    {
     "data": {
      "text/plain": [
       "(22, 23)"
      ]
     },
     "execution_count": 35,
     "metadata": {},
     "output_type": "execute_result"
    }
   ],
   "source": [
    "# what is food \"Type 2\"?\n",
    "salt_1 = salt.loc[salt[\"food_type\"] == food_types[1]]\n",
    "print(salt_1[\"name\"].unique())\n",
    "print(len(salt_1[\"name\"].unique()))\n",
    "salt_1.shape"
   ]
  },
  {
   "cell_type": "markdown",
   "metadata": {},
   "source": [
    "----\n",
    "## content.csv"
   ]
  },
  {
   "cell_type": "code",
   "execution_count": 36,
   "metadata": {},
   "outputs": [
    {
     "name": "stderr",
     "output_type": "stream",
     "text": [
      "/var/folders/sm/pxzljrp530ddx9cxpl80jslh0000gn/T/ipykernel_33818/1004614589.py:1: DtypeWarning: Columns (4,5,6,7,8,9,13,14,21,22,24) have mixed types. Specify dtype option on import or set low_memory=False.\n",
      "  content = pd.read_csv(\"data/foodb_2020_04_07_csv/Content.csv\")\n"
     ]
    },
    {
     "data": {
      "text/html": [
       "<div>\n",
       "<style scoped>\n",
       "    .dataframe tbody tr th:only-of-type {\n",
       "        vertical-align: middle;\n",
       "    }\n",
       "\n",
       "    .dataframe tbody tr th {\n",
       "        vertical-align: top;\n",
       "    }\n",
       "\n",
       "    .dataframe thead th {\n",
       "        text-align: right;\n",
       "    }\n",
       "</style>\n",
       "<table border=\"1\" class=\"dataframe\">\n",
       "  <thead>\n",
       "    <tr style=\"text-align: right;\">\n",
       "      <th></th>\n",
       "      <th>id</th>\n",
       "      <th>source_id</th>\n",
       "      <th>source_type</th>\n",
       "      <th>food_id</th>\n",
       "      <th>orig_food_id</th>\n",
       "      <th>orig_food_common_name</th>\n",
       "      <th>orig_food_scientific_name</th>\n",
       "      <th>orig_food_part</th>\n",
       "      <th>orig_source_id</th>\n",
       "      <th>orig_source_name</th>\n",
       "      <th>...</th>\n",
       "      <th>citation_type</th>\n",
       "      <th>creator_id</th>\n",
       "      <th>updater_id</th>\n",
       "      <th>created_at</th>\n",
       "      <th>updated_at</th>\n",
       "      <th>orig_method</th>\n",
       "      <th>orig_unit_expression</th>\n",
       "      <th>standard_content</th>\n",
       "      <th>preparation_type</th>\n",
       "      <th>export</th>\n",
       "    </tr>\n",
       "  </thead>\n",
       "  <tbody>\n",
       "    <tr>\n",
       "      <th>0</th>\n",
       "      <td>1</td>\n",
       "      <td>1</td>\n",
       "      <td>Nutrient</td>\n",
       "      <td>4</td>\n",
       "      <td>29</td>\n",
       "      <td>Kiwi</td>\n",
       "      <td>Actinidia chinensis PLANCHON [Actinidiaceae]</td>\n",
       "      <td>Fruit</td>\n",
       "      <td>FAT</td>\n",
       "      <td>FAT</td>\n",
       "      <td>...</td>\n",
       "      <td>DATABASE</td>\n",
       "      <td>NaN</td>\n",
       "      <td>NaN</td>\n",
       "      <td>2014-11-05 13:42:11 UTC</td>\n",
       "      <td>2019-12-11 20:23:57 UTC</td>\n",
       "      <td>NaN</td>\n",
       "      <td>NaN</td>\n",
       "      <td>1955.00</td>\n",
       "      <td>raw</td>\n",
       "      <td>0</td>\n",
       "    </tr>\n",
       "    <tr>\n",
       "      <th>1</th>\n",
       "      <td>2</td>\n",
       "      <td>1</td>\n",
       "      <td>Nutrient</td>\n",
       "      <td>6</td>\n",
       "      <td>53</td>\n",
       "      <td>Onion</td>\n",
       "      <td>Allium cepa L. [Liliaceae]</td>\n",
       "      <td>Bulb</td>\n",
       "      <td>FAT</td>\n",
       "      <td>FAT</td>\n",
       "      <td>...</td>\n",
       "      <td>DATABASE</td>\n",
       "      <td>NaN</td>\n",
       "      <td>NaN</td>\n",
       "      <td>2014-11-05 13:42:11 UTC</td>\n",
       "      <td>2019-12-11 20:23:57 UTC</td>\n",
       "      <td>NaN</td>\n",
       "      <td>NaN</td>\n",
       "      <td>1853.95</td>\n",
       "      <td>raw</td>\n",
       "      <td>0</td>\n",
       "    </tr>\n",
       "    <tr>\n",
       "      <th>2</th>\n",
       "      <td>3</td>\n",
       "      <td>1</td>\n",
       "      <td>Nutrient</td>\n",
       "      <td>6</td>\n",
       "      <td>53</td>\n",
       "      <td>Onion</td>\n",
       "      <td>Allium cepa L. [Liliaceae]</td>\n",
       "      <td>Leaf</td>\n",
       "      <td>FAT</td>\n",
       "      <td>FAT</td>\n",
       "      <td>...</td>\n",
       "      <td>DATABASE</td>\n",
       "      <td>NaN</td>\n",
       "      <td>NaN</td>\n",
       "      <td>2014-11-05 13:42:11 UTC</td>\n",
       "      <td>2019-12-11 20:23:57 UTC</td>\n",
       "      <td>NaN</td>\n",
       "      <td>NaN</td>\n",
       "      <td>4150.00</td>\n",
       "      <td>raw</td>\n",
       "      <td>0</td>\n",
       "    </tr>\n",
       "    <tr>\n",
       "      <th>3</th>\n",
       "      <td>4</td>\n",
       "      <td>1</td>\n",
       "      <td>Nutrient</td>\n",
       "      <td>9</td>\n",
       "      <td>55</td>\n",
       "      <td>Chives</td>\n",
       "      <td>Allium schoenoprasum L. [Liliaceae]</td>\n",
       "      <td>Leaf</td>\n",
       "      <td>FAT</td>\n",
       "      <td>FAT</td>\n",
       "      <td>...</td>\n",
       "      <td>DATABASE</td>\n",
       "      <td>NaN</td>\n",
       "      <td>NaN</td>\n",
       "      <td>2014-11-05 13:42:11 UTC</td>\n",
       "      <td>2019-12-11 20:23:57 UTC</td>\n",
       "      <td>NaN</td>\n",
       "      <td>NaN</td>\n",
       "      <td>3900.00</td>\n",
       "      <td>raw</td>\n",
       "      <td>0</td>\n",
       "    </tr>\n",
       "    <tr>\n",
       "      <th>4</th>\n",
       "      <td>5</td>\n",
       "      <td>1</td>\n",
       "      <td>Nutrient</td>\n",
       "      <td>11</td>\n",
       "      <td>70</td>\n",
       "      <td>Cashew</td>\n",
       "      <td>Anacardium occidentale L. [Anacardiaceae]</td>\n",
       "      <td>Fruit</td>\n",
       "      <td>FAT</td>\n",
       "      <td>FAT</td>\n",
       "      <td>...</td>\n",
       "      <td>DATABASE</td>\n",
       "      <td>NaN</td>\n",
       "      <td>NaN</td>\n",
       "      <td>2014-11-05 13:42:11 UTC</td>\n",
       "      <td>2019-12-11 20:23:57 UTC</td>\n",
       "      <td>NaN</td>\n",
       "      <td>NaN</td>\n",
       "      <td>2500.00</td>\n",
       "      <td>other</td>\n",
       "      <td>0</td>\n",
       "    </tr>\n",
       "  </tbody>\n",
       "</table>\n",
       "<p>5 rows × 26 columns</p>\n",
       "</div>"
      ],
      "text/plain": [
       "   id  source_id source_type  food_id orig_food_id orig_food_common_name  \\\n",
       "0   1          1    Nutrient        4           29                  Kiwi   \n",
       "1   2          1    Nutrient        6           53                 Onion   \n",
       "2   3          1    Nutrient        6           53                 Onion   \n",
       "3   4          1    Nutrient        9           55                Chives   \n",
       "4   5          1    Nutrient       11           70                Cashew   \n",
       "\n",
       "                      orig_food_scientific_name orig_food_part orig_source_id  \\\n",
       "0  Actinidia chinensis PLANCHON [Actinidiaceae]          Fruit            FAT   \n",
       "1                    Allium cepa L. [Liliaceae]           Bulb            FAT   \n",
       "2                    Allium cepa L. [Liliaceae]           Leaf            FAT   \n",
       "3           Allium schoenoprasum L. [Liliaceae]           Leaf            FAT   \n",
       "4     Anacardium occidentale L. [Anacardiaceae]          Fruit            FAT   \n",
       "\n",
       "  orig_source_name  ...  citation_type  creator_id  updater_id  \\\n",
       "0              FAT  ...       DATABASE         NaN         NaN   \n",
       "1              FAT  ...       DATABASE         NaN         NaN   \n",
       "2              FAT  ...       DATABASE         NaN         NaN   \n",
       "3              FAT  ...       DATABASE         NaN         NaN   \n",
       "4              FAT  ...       DATABASE         NaN         NaN   \n",
       "\n",
       "                created_at               updated_at orig_method  \\\n",
       "0  2014-11-05 13:42:11 UTC  2019-12-11 20:23:57 UTC         NaN   \n",
       "1  2014-11-05 13:42:11 UTC  2019-12-11 20:23:57 UTC         NaN   \n",
       "2  2014-11-05 13:42:11 UTC  2019-12-11 20:23:57 UTC         NaN   \n",
       "3  2014-11-05 13:42:11 UTC  2019-12-11 20:23:57 UTC         NaN   \n",
       "4  2014-11-05 13:42:11 UTC  2019-12-11 20:23:57 UTC         NaN   \n",
       "\n",
       "  orig_unit_expression  standard_content  preparation_type export  \n",
       "0                  NaN           1955.00               raw      0  \n",
       "1                  NaN           1853.95               raw      0  \n",
       "2                  NaN           4150.00               raw      0  \n",
       "3                  NaN           3900.00               raw      0  \n",
       "4                  NaN           2500.00             other      0  \n",
       "\n",
       "[5 rows x 26 columns]"
      ]
     },
     "execution_count": 36,
     "metadata": {},
     "output_type": "execute_result"
    }
   ],
   "source": [
    "content = pd.read_csv(\"data/foodb_2020_04_07_csv/Content.csv\")\n",
    "content.head()"
   ]
  },
  {
   "cell_type": "code",
   "execution_count": 37,
   "metadata": {},
   "outputs": [
    {
     "name": "stdout",
     "output_type": "stream",
     "text": [
      "shape: (5145532, 26)\n",
      "columns: Index(['id', 'source_id', 'source_type', 'food_id', 'orig_food_id',\n",
      "       'orig_food_common_name', 'orig_food_scientific_name', 'orig_food_part',\n",
      "       'orig_source_id', 'orig_source_name', 'orig_content', 'orig_min',\n",
      "       'orig_max', 'orig_unit', 'orig_citation', 'citation', 'citation_type',\n",
      "       'creator_id', 'updater_id', 'created_at', 'updated_at', 'orig_method',\n",
      "       'orig_unit_expression', 'standard_content', 'preparation_type',\n",
      "       'export'],\n",
      "      dtype='object')\n"
     ]
    }
   ],
   "source": [
    "# this is the ginormous table\n",
    "print(f\"shape: {content.shape}\")\n",
    "print(f\"columns: {content.columns}\")"
   ]
  },
  {
   "cell_type": "code",
   "execution_count": 38,
   "metadata": {},
   "outputs": [
    {
     "data": {
      "text/plain": [
       "id                                 0\n",
       "source_id                          0\n",
       "source_type                        0\n",
       "food_id                            0\n",
       "orig_food_id                 4308143\n",
       "orig_food_common_name         971656\n",
       "orig_food_scientific_name    5099435\n",
       "orig_food_part               5104956\n",
       "orig_source_id               4448551\n",
       "orig_source_name             4445227\n",
       "orig_content                 4289574\n",
       "orig_min                     5099438\n",
       "orig_max                     5099476\n",
       "orig_unit                    4286563\n",
       "orig_citation                5142217\n",
       "citation                           0\n",
       "citation_type                      0\n",
       "creator_id                   5145532\n",
       "updater_id                   5145532\n",
       "created_at                         0\n",
       "updated_at                         0\n",
       "orig_method                  5138235\n",
       "orig_unit_expression         5139940\n",
       "standard_content             4286932\n",
       "preparation_type             1324146\n",
       "export                             0\n",
       "dtype: int64"
      ]
     },
     "execution_count": 38,
     "metadata": {},
     "output_type": "execute_result"
    }
   ],
   "source": [
    "content.isna().sum()"
   ]
  },
  {
   "cell_type": "code",
   "execution_count": 39,
   "metadata": {},
   "outputs": [
    {
     "data": {
      "text/plain": [
       "9461"
      ]
     },
     "execution_count": 39,
     "metadata": {},
     "output_type": "execute_result"
    }
   ],
   "source": [
    "common_names = content[\"orig_food_common_name\"].unique()\n",
    "len(common_names)"
   ]
  },
  {
   "cell_type": "code",
   "execution_count": 40,
   "metadata": {},
   "outputs": [
    {
     "data": {
      "text/plain": [
       "array(['Kiwi', 'Onion', 'Chives', 'Cashew', 'Pineapple', 'Dill',\n",
       "       'Custard Apple', 'Celery', 'Groundnut', 'Burdock', 'Horseradish',\n",
       "       'Tarragon', 'Mugwort', 'Asparagus', 'Oats', 'Carambola',\n",
       "       'Brazilnut', 'Beebread', 'Mustard Greens', 'Brussel-Sprout'],\n",
       "      dtype=object)"
      ]
     },
     "execution_count": 40,
     "metadata": {},
     "output_type": "execute_result"
    }
   ],
   "source": [
    "common_names[:20]"
   ]
  },
  {
   "cell_type": "code",
   "execution_count": 41,
   "metadata": {},
   "outputs": [
    {
     "data": {
      "text/plain": [
       "array(['raw', 'other', 'other (raw)', 'tea or coffee', nan, 'cooked',\n",
       "       'raw, frozen', 'dried or powder', 'other (raw, frozen)',\n",
       "       'beverage (frozen concentrated)', 'oil', 'Oil', 'beverage (juice)',\n",
       "       'beverage (frozen)', 'other (beverage)',\n",
       "       'beverage (juice, concentrated)', 'puree',\n",
       "       'other (dried or powder)', 'beverage (Alcoholic)', 'No', 'no',\n",
       "       'dairy product', 'Dairy product', 'cooked or raw',\n",
       "       'beverage (juice, added ascorbic acid)',\n",
       "       'beverage (juice, added ascorbic acid and calcium)',\n",
       "       'beverage (ascorbic acid added)', 'raw, frozed', 'blanching water',\n",
       "       'raw, dried', 'raw, frozen, dried'], dtype=object)"
      ]
     },
     "execution_count": 41,
     "metadata": {},
     "output_type": "execute_result"
    }
   ],
   "source": [
    "content[\"preparation_type\"].unique()"
   ]
  },
  {
   "cell_type": "code",
   "execution_count": null,
   "metadata": {},
   "outputs": [],
   "source": [
    "# content.loc[content[\"orig_food_part\"] == \"Hull Husk\"]\n",
    "# I feel like this would be more meaningful to me if I were a chemist"
   ]
  },
  {
   "cell_type": "code",
   "execution_count": 42,
   "metadata": {},
   "outputs": [
    {
     "name": "stdout",
     "output_type": "stream",
     "text": [
      "unique food_ids in 'content' table: 987\n",
      "rows in 'food' table: 992\n"
     ]
    }
   ],
   "source": [
    "# according to that schema page, I think the \"food_id\" column here should map the the \"id\" column on the \"food\" table\n",
    "print(f\"unique food_ids in 'content' table: {len(content['food_id'].unique())}\")\n",
    "print(f\"rows in 'food' table: {food.shape[0]}\")"
   ]
  },
  {
   "cell_type": "markdown",
   "metadata": {},
   "source": [
    "- can I reference the descriptions in the \"food\" table by the food_id in the content table?"
   ]
  },
  {
   "cell_type": "code",
   "execution_count": 43,
   "metadata": {},
   "outputs": [
    {
     "data": {
      "text/plain": [
       "False"
      ]
     },
     "execution_count": 43,
     "metadata": {},
     "output_type": "execute_result"
    }
   ],
   "source": [
    "set(content[\"food_id\"].unique()).issubset(set(food[\"id\"].unique()))"
   ]
  },
  {
   "cell_type": "code",
   "execution_count": 44,
   "metadata": {},
   "outputs": [],
   "source": [
    "content_ids = set(content[\"food_id\"].unique()).difference(set(food[\"id\"].unique()))"
   ]
  },
  {
   "cell_type": "code",
   "execution_count": 45,
   "metadata": {},
   "outputs": [
    {
     "data": {
      "text/plain": [
       "{278, 512, 628, 794, 828, 932, 934, 966, 980, 993}"
      ]
     },
     "execution_count": 45,
     "metadata": {},
     "output_type": "execute_result"
    }
   ],
   "source": [
    "set(food[\"id\"].unique()).difference(set(content[\"food_id\"].unique()))"
   ]
  },
  {
   "cell_type": "code",
   "execution_count": 46,
   "metadata": {},
   "outputs": [
    {
     "data": {
      "text/plain": [
       "(2826, 26)"
      ]
     },
     "execution_count": 46,
     "metadata": {},
     "output_type": "execute_result"
    }
   ],
   "source": [
    "# out of all the foods in the content table, this is how many have ids that are not in the food table\n",
    "#  not a big number out of 5,145,532\n",
    "content.loc[content[\"food_id\"].isin(list(content_ids))].shape"
   ]
  },
  {
   "cell_type": "code",
   "execution_count": 47,
   "metadata": {},
   "outputs": [
    {
     "data": {
      "text/plain": [
       "array(['Fruit', 'Bulb', 'Leaf', 'Seed', 'Plant', 'Root', 'Shoot', 'Stem',\n",
       "       'Flower', 'Latex Exudate', 'Bark', 'Silk Stigma Style', 'Rhizome',\n",
       "       'Stem Bark', 'Sprout Seedling', 'Pericarp', 'Hay', 'Aril', 'Twig',\n",
       "       'Herb', 'Pt', 'Tuber', 'Bud', 'Hull Husk', 'Pith', nan, 'Seed Oil',\n",
       "       'Essential Oil', 'Epidermis', 'Fruit Juice', 'Leaf Essent. Oil',\n",
       "       'Gum', 'Resin, Exudate, Sap', 'Seed Essent. Oil',\n",
       "       'Shoot Essent. Oil', 'Root Essent. Oil', 'Tissue Culture',\n",
       "       'Stem Essent. Oil', 'Leaf Wax', 'Petiole', 'Oil', 'Bran', 'Embryo',\n",
       "       'Inflorescence', 'Fruit Essent. Oil', 'Root Bark', 'Anther',\n",
       "       'Seed Coat', 'Endosperm', 'Cotyledon', 'Pollen Or Spore',\n",
       "       'Flower Essent. Oil', 'Bark Essent. Oil', 'Wood Essent. Oil',\n",
       "       'Pericarp Essent. Oil', 'Exocarp', 'Branches', 'Wood',\n",
       "       'Rhizome Essent. Oil', 'Calyx', 'Hs', 'Testa', 'Hypocotyl',\n",
       "       'Nodule', 'Leaf Diffusate', 'Protoplast', 'Caryopsis',\n",
       "       'Heart Wood', 'Fruit Epidermis', 'Wax', 'Juice', 'Na', 'Et',\n",
       "       'Tuber Epidermis', 'Cob', 'Husk Essent. Oil', 'Silk Essent. Oil',\n",
       "       'Thallus', 'Mycelium'], dtype=object)"
      ]
     },
     "execution_count": 47,
     "metadata": {},
     "output_type": "execute_result"
    }
   ],
   "source": [
    "content[\"orig_food_part\"].unique()"
   ]
  },
  {
   "cell_type": "code",
   "execution_count": 48,
   "metadata": {},
   "outputs": [
    {
     "data": {
      "text/plain": [
       "source_type\n",
       "Compound    5007500\n",
       "Nutrient     138032\n",
       "Name: count, dtype: int64"
      ]
     },
     "execution_count": 48,
     "metadata": {},
     "output_type": "execute_result"
    }
   ],
   "source": [
    "content[\"source_type\"].value_counts()"
   ]
  },
  {
   "cell_type": "markdown",
   "metadata": {},
   "source": [
    "----\n",
    "## tying the recipe to the food database"
   ]
  },
  {
   "cell_type": "code",
   "execution_count": 80,
   "metadata": {},
   "outputs": [
    {
     "name": "stdout",
     "output_type": "stream",
     "text": [
      "{'oregano', 'rocket', 'egg', 'chilli', 'sourdough', 'pepper', 'black pepper', 'pesto', 'olive oil', 'sourdough bread', 'avocado', 'salt', 'water', 'mushroom', 'eggs', 'ham', 'sea salt', 'cherry tomatoes', 'cherry tomato', 'Salt', 'garlic', 'ricotta cheese', 'cheddar cheese', 'spinach', 'balsamic vinegar', 'lamb racks'}\n"
     ]
    }
   ],
   "source": [
    "foods = []\n",
    "for ingredients in df[\"ingredient_details\"]:\n",
    "    for item in ingredients:\n",
    "        foods.append(item[\"food\"])\n",
    "        \n",
    "print(set(foods))"
   ]
  },
  {
   "cell_type": "code",
   "execution_count": 68,
   "metadata": {},
   "outputs": [
    {
     "data": {
      "text/plain": [
       "(21, 26)"
      ]
     },
     "execution_count": 68,
     "metadata": {},
     "output_type": "execute_result"
    }
   ],
   "source": [
    "# content.loc[content[\"orig_food_common_name\"].str.lower() == \"egg\"].shape  # 0 results\n",
    "content.loc[content[\"orig_food_common_name\"].str.lower() == \"eggs\"].shape"
   ]
  },
  {
   "cell_type": "code",
   "execution_count": 69,
   "metadata": {},
   "outputs": [
    {
     "data": {
      "text/plain": [
       "(192, 26)"
      ]
     },
     "execution_count": 69,
     "metadata": {},
     "output_type": "execute_result"
    }
   ],
   "source": [
    "content.loc[content[\"orig_food_common_name\"].str.lower() == \"spinach\"].shape"
   ]
  },
  {
   "cell_type": "code",
   "execution_count": 73,
   "metadata": {},
   "outputs": [
    {
     "data": {
      "text/plain": [
       "(242, 26)"
      ]
     },
     "execution_count": 73,
     "metadata": {},
     "output_type": "execute_result"
    }
   ],
   "source": [
    "# content.loc[content[\"orig_food_common_name\"].str.lower() == \"cherry tomatoes\"].shape  # 0 results\n",
    "# content.loc[content[\"orig_food_common_name\"].str.lower() == \"cherry tomato\"].shape  # 0 results\n",
    "# content.loc[content[\"orig_food_common_name\"].str.lower() == \"tomatoes\"].shape  # 127 results\n",
    "content.loc[content[\"orig_food_common_name\"].str.lower() == \"tomato\"].shape  # 242 results"
   ]
  },
  {
   "cell_type": "code",
   "execution_count": 77,
   "metadata": {},
   "outputs": [
    {
     "data": {
      "text/plain": [
       "(0, 23)"
      ]
     },
     "execution_count": 77,
     "metadata": {},
     "output_type": "execute_result"
    }
   ],
   "source": [
    "# content.loc[content[\"orig_food_common_name\"].str.lower() == \"rocket\"].shape  # 0 results\n",
    "# content.loc[content[\"orig_food_common_name\"].str.lower() == \"arugula\"].shape  # 0 results\n",
    "\n",
    "# food.loc[food[\"name\"].str.lower() == \"arugula\"].shape  # 0 results\n",
    "food.loc[food[\"name\"].str.lower() == \"rocket\"].shape  # 0 results"
   ]
  },
  {
   "cell_type": "code",
   "execution_count": 78,
   "metadata": {},
   "outputs": [
    {
     "data": {
      "text/plain": [
       "(212, 26)"
      ]
     },
     "execution_count": 78,
     "metadata": {},
     "output_type": "execute_result"
    }
   ],
   "source": [
    "content.loc[content[\"orig_food_common_name\"].str.lower() == \"olive oil\"].shape"
   ]
  },
  {
   "cell_type": "code",
   "execution_count": 81,
   "metadata": {},
   "outputs": [
    {
     "data": {
      "text/plain": [
       "(114, 26)"
      ]
     },
     "execution_count": 81,
     "metadata": {},
     "output_type": "execute_result"
    }
   ],
   "source": [
    "content.loc[content[\"orig_food_common_name\"].str.lower() == \"oregano\"].shape"
   ]
  },
  {
   "cell_type": "code",
   "execution_count": 83,
   "metadata": {},
   "outputs": [
    {
     "data": {
      "text/plain": [
       "(0, 26)"
      ]
     },
     "execution_count": 83,
     "metadata": {},
     "output_type": "execute_result"
    }
   ],
   "source": [
    "# content.loc[content[\"orig_food_common_name\"].str.lower() == \"chilli\"].shape  # 0 results\n",
    "content.loc[content[\"orig_food_common_name\"].str.lower() == \"chili\"].shape"
   ]
  },
  {
   "cell_type": "code",
   "execution_count": 86,
   "metadata": {},
   "outputs": [
    {
     "data": {
      "text/plain": [
       "(0, 26)"
      ]
     },
     "execution_count": 86,
     "metadata": {},
     "output_type": "execute_result"
    }
   ],
   "source": [
    "# content.loc[content[\"orig_food_common_name\"].str.lower() == \"sourdough\"].shape  # 0 results\n",
    "# content.loc[content[\"orig_food_common_name\"].str.lower() == \"sourdough bread\"].shape  # 0 results\n",
    "content.loc[content[\"orig_food_common_name\"].str.lower() == \"bread\"].shape"
   ]
  },
  {
   "cell_type": "code",
   "execution_count": null,
   "metadata": {},
   "outputs": [],
   "source": []
  },
  {
   "cell_type": "code",
   "execution_count": 64,
   "metadata": {},
   "outputs": [
    {
     "data": {
      "text/plain": [
       "(22, 26)"
      ]
     },
     "execution_count": 64,
     "metadata": {},
     "output_type": "execute_result"
    }
   ],
   "source": [
    "content.loc[content[\"orig_food_common_name\"] == \"onion\"].shape"
   ]
  },
  {
   "cell_type": "code",
   "execution_count": 65,
   "metadata": {},
   "outputs": [
    {
     "data": {
      "text/plain": [
       "(387, 26)"
      ]
     },
     "execution_count": 65,
     "metadata": {},
     "output_type": "execute_result"
    }
   ],
   "source": [
    "content.loc[content[\"orig_food_common_name\"] == \"Onion\"].shape"
   ]
  },
  {
   "cell_type": "code",
   "execution_count": 66,
   "metadata": {},
   "outputs": [
    {
     "data": {
      "text/plain": [
       "(409, 26)"
      ]
     },
     "execution_count": 66,
     "metadata": {},
     "output_type": "execute_result"
    }
   ],
   "source": [
    "content.loc[content[\"orig_food_common_name\"].str.lower() == \"onion\"].shape"
   ]
  },
  {
   "cell_type": "code",
   "execution_count": null,
   "metadata": {},
   "outputs": [],
   "source": []
  }
 ],
 "metadata": {
  "kernelspec": {
   "display_name": "capstone",
   "language": "python",
   "name": "python3"
  },
  "language_info": {
   "codemirror_mode": {
    "name": "ipython",
    "version": 3
   },
   "file_extension": ".py",
   "mimetype": "text/x-python",
   "name": "python",
   "nbconvert_exporter": "python",
   "pygments_lexer": "ipython3",
   "version": "3.12.1"
  }
 },
 "nbformat": 4,
 "nbformat_minor": 2
}
